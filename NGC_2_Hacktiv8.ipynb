{
  "nbformat": 4,
  "nbformat_minor": 0,
  "metadata": {
    "colab": {
      "provenance": []
    },
    "kernelspec": {
      "name": "python3",
      "display_name": "Python 3"
    },
    "language_info": {
      "name": "python"
    }
  },
  "cells": [
    {
      "cell_type": "markdown",
      "source": [
        "# **Buatlah sebuah list dengan value berupa :**\n",
        "\n",
        "---\n",
        "\n",
        "\n",
        "***numbers =*** [951,402,984,651,360,69,408,319,601,485,980,507,725,547,544,615,83,165,141,501,263,617,865,575,219,390,984,592,236,105,942,941,386,462,47,418,907,344,236,375,823,566,597,978,328,615,953,345,399,162,758,219,918,237,412,566,826,248,866,950,626,949]\n",
        "\n",
        "\n",
        "---\n",
        "\n",
        "\\\n",
        " **-Loop dan print semua angka genap dari list angka diatas dengan urutan yang sama.**\n",
        "\\\n",
        " **-Jangan mencetak angka apapun yang muncul setelah angka 918 berdasarkan posisi angka tersebut pada list diatas.**\n",
        "\\\n",
        " **-Tampilkan pesan ”Done” setelah looping berakhir.**\n"
      ],
      "metadata": {
        "id": "a1XqFidOzRMz"
      }
    },
    {
      "cell_type": "code",
      "execution_count": 10,
      "metadata": {
        "id": "yr7Pc619zMdD"
      },
      "outputs": [],
      "source": [
        "numbers = [951,402,984,651,360,69,408,319,601,485,980,507,725,547,544,615,83,165,141,501,263,617,865,575,219,390,984,592,236,105,942,941,386,462,47,418,907,344,236,375,823,566,597,978,328,615,953,345,399,162,758,219,918,237,412,566,826,248,866,950,626,949]"
      ]
    },
    {
      "cell_type": "code",
      "source": [
        "for angka in numbers:\n",
        "  if angka % 2 == 0:\n",
        "    print(angka)\n",
        "  if angka == 918:\n",
        "    break\n",
        "print('Done')"
      ],
      "metadata": {
        "colab": {
          "base_uri": "https://localhost:8080/"
        },
        "id": "ziaTE6K90igf",
        "outputId": "de9d3090-ec59-45b6-a07a-ced889f68b37"
      },
      "execution_count": 15,
      "outputs": [
        {
          "output_type": "stream",
          "name": "stdout",
          "text": [
            "402\n",
            "984\n",
            "360\n",
            "408\n",
            "980\n",
            "544\n",
            "390\n",
            "984\n",
            "592\n",
            "236\n",
            "942\n",
            "386\n",
            "462\n",
            "418\n",
            "344\n",
            "236\n",
            "566\n",
            "978\n",
            "328\n",
            "162\n",
            "758\n",
            "918\n",
            "Done\n"
          ]
        }
      ]
    }
  ]
}