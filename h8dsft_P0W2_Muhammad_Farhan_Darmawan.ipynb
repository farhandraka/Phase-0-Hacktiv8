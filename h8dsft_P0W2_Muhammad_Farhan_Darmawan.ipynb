{
  "nbformat": 4,
  "nbformat_minor": 0,
  "metadata": {
    "colab": {
      "provenance": [],
      "toc_visible": true
    },
    "kernelspec": {
      "name": "python3",
      "display_name": "Python 3"
    },
    "language_info": {
      "name": "python"
    }
  },
  "cells": [
    {
      "cell_type": "markdown",
      "source": [
        "# **Graded Challenge 2 :**"
      ],
      "metadata": {
        "id": "Z4l-t1-uthfG"
      }
    },
    {
      "cell_type": "markdown",
      "source": [
        "## I. Perkenalan"
      ],
      "metadata": {
        "id": "cWYmVwPCtlfW"
      }
    },
    {
      "cell_type": "markdown",
      "source": [
        "Nama : Muhammad Farhan Darmawan\n",
        "\n",
        "Batch : 019\n",
        "\n",
        "Saya salah satu anggota data science yang akan melakukan sebuah project berkaitan dengan bagaimana pengelolaan sampah di kota `Austin Smart City` dengan data statistik untuk mengetahui"
      ],
      "metadata": {
        "id": "0Vs5_CdbtnpZ"
      }
    },
    {
      "cell_type": "markdown",
      "source": [
        "### **Objective :**\n",
        "\n",
        "Kota Austin Smart City memiliki sistem pembuangan dan pengelolaan sampah yang cukup baik. Sebagai data scientist tentunya hal ini dapat saya jadikan riset dengan menggunakan data tersebut. Riset ini saya akan menggunakan analisa statistik untuk memberikan rekomendasi kepada pemerintah kota Austin Smart City dalam penambahan site baru.\n",
        "\n",
        "Selain itu, saya juga akan melakukan forecasting banyaknya load sampah yang dapat di angkut pada tanggal 10 Juli 2021"
      ],
      "metadata": {
        "id": "sxoQWo8SzlKG"
      }
    },
    {
      "cell_type": "markdown",
      "source": [
        "**Berikut merupakan syntax untuk memanggil dataset `waste_and_diversion`**\n",
        "\n",
        "SELECT report_date, load_time, load_type, load_weight, dropoff_site FROM `bigquery-public-data.austin_waste.waste_and_diversion` WHERE report_date >= '2021-01-01'\n"
      ],
      "metadata": {
        "id": "a_NVdsTBt2ks"
      }
    },
    {
      "cell_type": "markdown",
      "source": [
        "**Dataset `waste_and_diversion` ini terdiri dari beberapa kolom yakni :**\n",
        "\n",
        "- `report_date` : Data tanggal diangkutnya sampah\n",
        "- `load_time` : Data waktu (tanggal dan jam) diangkutnya sampah\n",
        "- `load_type` : Data kategori sampah yang diangkut\n",
        "- `load_weight` : Data berat sampah yang diangkut\n",
        "- `dropoff_site` : Lokasi tempat pembuangan sampah"
      ],
      "metadata": {
        "id": "tml7a-vtt6lL"
      }
    },
    {
      "cell_type": "markdown",
      "source": [
        "## II. Import Library"
      ],
      "metadata": {
        "id": "0jo0m1k_tt1y"
      }
    },
    {
      "cell_type": "code",
      "execution_count": null,
      "metadata": {
        "id": "Q8rO4ny7tgmk"
      },
      "outputs": [],
      "source": [
        "# import library yang akan digunakan\n",
        "import pandas as pd\n",
        "import numpy as np\n",
        "import sympy as sy\n",
        "from scipy import stats\n",
        "import matplotlib\n",
        "import matplotlib.pyplot as plt\n",
        "import seaborn as sns"
      ]
    },
    {
      "cell_type": "markdown",
      "source": [
        "Import File dari `Google Drive`\n",
        "\n",
        "---\n",
        "\n"
      ],
      "metadata": {
        "id": "nyA8EUDjuw6H"
      }
    },
    {
      "cell_type": "code",
      "source": [
        "# import file dari google drive\n",
        "from google.colab import drive\n",
        "drive.mount('/content/drive')"
      ],
      "metadata": {
        "colab": {
          "base_uri": "https://localhost:8080/"
        },
        "id": "--aivzVmu1f5",
        "outputId": "4d25bef9-b3a1-4c7b-9001-2489e3393349"
      },
      "execution_count": null,
      "outputs": [
        {
          "output_type": "stream",
          "name": "stdout",
          "text": [
            "Mounted at /content/drive\n"
          ]
        }
      ]
    },
    {
      "cell_type": "markdown",
      "source": [
        "## III.Data Loading"
      ],
      "metadata": {
        "id": "lx-BRdh3vMWg"
      }
    },
    {
      "cell_type": "markdown",
      "source": [
        "### Load Data .csv dari `Google Drive`"
      ],
      "metadata": {
        "id": "y1R6KHuNvR44"
      }
    },
    {
      "cell_type": "code",
      "source": [
        "# membaca file csv menggunakan pandas\n",
        "data_limbah = pd.read_csv('/content/drive/MyDrive/Dataset GC-2/h8dsft_P0GC2_Muhammad Farhan Darmawan.csv')\n",
        "\n",
        "data_limbah"
      ],
      "metadata": {
        "colab": {
          "base_uri": "https://localhost:8080/",
          "height": 423
        },
        "id": "R0SmBFLIvVQZ",
        "outputId": "a0e5cf1d-88fd-41d6-aebe-0ca2910f1020"
      },
      "execution_count": null,
      "outputs": [
        {
          "output_type": "execute_result",
          "data": {
            "text/plain": [
              "      report_date                load_time       load_type  load_weight  \\\n",
              "0      2021-07-08  2021-07-08 12:00:00 UTC           TIRES       2260.0   \n",
              "1      2021-07-08  2021-07-08 11:00:00 UTC           TIRES       1260.0   \n",
              "2      2021-07-08  2021-07-08 03:00:00 UTC           TIRES        800.0   \n",
              "3      2021-05-01  2021-05-01 12:29:00 UTC           TIRES        760.0   \n",
              "4      2021-07-03  2021-07-03 12:09:00 UTC           TIRES       1400.0   \n",
              "...           ...                      ...             ...          ...   \n",
              "26152  2021-03-01  2021-03-01 11:26:00 UTC        ORGANICS      12100.0   \n",
              "26153  2021-03-01  2021-03-01 04:27:00 UTC        ORGANICS      10900.0   \n",
              "26154  2021-03-01  2021-03-01 05:55:00 UTC        ORGANICS      21800.0   \n",
              "26155  2021-03-01  2021-03-02 01:10:00 UTC        ORGANICS       5640.0   \n",
              "26156  2021-03-01  2021-03-01 10:22:00 UTC  RECYCLED METAL        360.0   \n",
              "\n",
              "                dropoff_site  \n",
              "0                        MRF  \n",
              "1                        MRF  \n",
              "2                        MRF  \n",
              "3                        MRF  \n",
              "4                        MRF  \n",
              "...                      ...  \n",
              "26152       ORGANICS BY GOSH  \n",
              "26153       ORGANICS BY GOSH  \n",
              "26154       ORGANICS BY GOSH  \n",
              "26155       ORGANICS BY GOSH  \n",
              "26156  AUSTIN IRON AND METAL  \n",
              "\n",
              "[26157 rows x 5 columns]"
            ],
            "text/html": [
              "\n",
              "  <div id=\"df-f3b51ffa-e969-46d5-8a8a-0226d6824cdf\">\n",
              "    <div class=\"colab-df-container\">\n",
              "      <div>\n",
              "<style scoped>\n",
              "    .dataframe tbody tr th:only-of-type {\n",
              "        vertical-align: middle;\n",
              "    }\n",
              "\n",
              "    .dataframe tbody tr th {\n",
              "        vertical-align: top;\n",
              "    }\n",
              "\n",
              "    .dataframe thead th {\n",
              "        text-align: right;\n",
              "    }\n",
              "</style>\n",
              "<table border=\"1\" class=\"dataframe\">\n",
              "  <thead>\n",
              "    <tr style=\"text-align: right;\">\n",
              "      <th></th>\n",
              "      <th>report_date</th>\n",
              "      <th>load_time</th>\n",
              "      <th>load_type</th>\n",
              "      <th>load_weight</th>\n",
              "      <th>dropoff_site</th>\n",
              "    </tr>\n",
              "  </thead>\n",
              "  <tbody>\n",
              "    <tr>\n",
              "      <th>0</th>\n",
              "      <td>2021-07-08</td>\n",
              "      <td>2021-07-08 12:00:00 UTC</td>\n",
              "      <td>TIRES</td>\n",
              "      <td>2260.0</td>\n",
              "      <td>MRF</td>\n",
              "    </tr>\n",
              "    <tr>\n",
              "      <th>1</th>\n",
              "      <td>2021-07-08</td>\n",
              "      <td>2021-07-08 11:00:00 UTC</td>\n",
              "      <td>TIRES</td>\n",
              "      <td>1260.0</td>\n",
              "      <td>MRF</td>\n",
              "    </tr>\n",
              "    <tr>\n",
              "      <th>2</th>\n",
              "      <td>2021-07-08</td>\n",
              "      <td>2021-07-08 03:00:00 UTC</td>\n",
              "      <td>TIRES</td>\n",
              "      <td>800.0</td>\n",
              "      <td>MRF</td>\n",
              "    </tr>\n",
              "    <tr>\n",
              "      <th>3</th>\n",
              "      <td>2021-05-01</td>\n",
              "      <td>2021-05-01 12:29:00 UTC</td>\n",
              "      <td>TIRES</td>\n",
              "      <td>760.0</td>\n",
              "      <td>MRF</td>\n",
              "    </tr>\n",
              "    <tr>\n",
              "      <th>4</th>\n",
              "      <td>2021-07-03</td>\n",
              "      <td>2021-07-03 12:09:00 UTC</td>\n",
              "      <td>TIRES</td>\n",
              "      <td>1400.0</td>\n",
              "      <td>MRF</td>\n",
              "    </tr>\n",
              "    <tr>\n",
              "      <th>...</th>\n",
              "      <td>...</td>\n",
              "      <td>...</td>\n",
              "      <td>...</td>\n",
              "      <td>...</td>\n",
              "      <td>...</td>\n",
              "    </tr>\n",
              "    <tr>\n",
              "      <th>26152</th>\n",
              "      <td>2021-03-01</td>\n",
              "      <td>2021-03-01 11:26:00 UTC</td>\n",
              "      <td>ORGANICS</td>\n",
              "      <td>12100.0</td>\n",
              "      <td>ORGANICS BY GOSH</td>\n",
              "    </tr>\n",
              "    <tr>\n",
              "      <th>26153</th>\n",
              "      <td>2021-03-01</td>\n",
              "      <td>2021-03-01 04:27:00 UTC</td>\n",
              "      <td>ORGANICS</td>\n",
              "      <td>10900.0</td>\n",
              "      <td>ORGANICS BY GOSH</td>\n",
              "    </tr>\n",
              "    <tr>\n",
              "      <th>26154</th>\n",
              "      <td>2021-03-01</td>\n",
              "      <td>2021-03-01 05:55:00 UTC</td>\n",
              "      <td>ORGANICS</td>\n",
              "      <td>21800.0</td>\n",
              "      <td>ORGANICS BY GOSH</td>\n",
              "    </tr>\n",
              "    <tr>\n",
              "      <th>26155</th>\n",
              "      <td>2021-03-01</td>\n",
              "      <td>2021-03-02 01:10:00 UTC</td>\n",
              "      <td>ORGANICS</td>\n",
              "      <td>5640.0</td>\n",
              "      <td>ORGANICS BY GOSH</td>\n",
              "    </tr>\n",
              "    <tr>\n",
              "      <th>26156</th>\n",
              "      <td>2021-03-01</td>\n",
              "      <td>2021-03-01 10:22:00 UTC</td>\n",
              "      <td>RECYCLED METAL</td>\n",
              "      <td>360.0</td>\n",
              "      <td>AUSTIN IRON AND METAL</td>\n",
              "    </tr>\n",
              "  </tbody>\n",
              "</table>\n",
              "<p>26157 rows × 5 columns</p>\n",
              "</div>\n",
              "      <button class=\"colab-df-convert\" onclick=\"convertToInteractive('df-f3b51ffa-e969-46d5-8a8a-0226d6824cdf')\"\n",
              "              title=\"Convert this dataframe to an interactive table.\"\n",
              "              style=\"display:none;\">\n",
              "        \n",
              "  <svg xmlns=\"http://www.w3.org/2000/svg\" height=\"24px\"viewBox=\"0 0 24 24\"\n",
              "       width=\"24px\">\n",
              "    <path d=\"M0 0h24v24H0V0z\" fill=\"none\"/>\n",
              "    <path d=\"M18.56 5.44l.94 2.06.94-2.06 2.06-.94-2.06-.94-.94-2.06-.94 2.06-2.06.94zm-11 1L8.5 8.5l.94-2.06 2.06-.94-2.06-.94L8.5 2.5l-.94 2.06-2.06.94zm10 10l.94 2.06.94-2.06 2.06-.94-2.06-.94-.94-2.06-.94 2.06-2.06.94z\"/><path d=\"M17.41 7.96l-1.37-1.37c-.4-.4-.92-.59-1.43-.59-.52 0-1.04.2-1.43.59L10.3 9.45l-7.72 7.72c-.78.78-.78 2.05 0 2.83L4 21.41c.39.39.9.59 1.41.59.51 0 1.02-.2 1.41-.59l7.78-7.78 2.81-2.81c.8-.78.8-2.07 0-2.86zM5.41 20L4 18.59l7.72-7.72 1.47 1.35L5.41 20z\"/>\n",
              "  </svg>\n",
              "      </button>\n",
              "      \n",
              "  <style>\n",
              "    .colab-df-container {\n",
              "      display:flex;\n",
              "      flex-wrap:wrap;\n",
              "      gap: 12px;\n",
              "    }\n",
              "\n",
              "    .colab-df-convert {\n",
              "      background-color: #E8F0FE;\n",
              "      border: none;\n",
              "      border-radius: 50%;\n",
              "      cursor: pointer;\n",
              "      display: none;\n",
              "      fill: #1967D2;\n",
              "      height: 32px;\n",
              "      padding: 0 0 0 0;\n",
              "      width: 32px;\n",
              "    }\n",
              "\n",
              "    .colab-df-convert:hover {\n",
              "      background-color: #E2EBFA;\n",
              "      box-shadow: 0px 1px 2px rgba(60, 64, 67, 0.3), 0px 1px 3px 1px rgba(60, 64, 67, 0.15);\n",
              "      fill: #174EA6;\n",
              "    }\n",
              "\n",
              "    [theme=dark] .colab-df-convert {\n",
              "      background-color: #3B4455;\n",
              "      fill: #D2E3FC;\n",
              "    }\n",
              "\n",
              "    [theme=dark] .colab-df-convert:hover {\n",
              "      background-color: #434B5C;\n",
              "      box-shadow: 0px 1px 3px 1px rgba(0, 0, 0, 0.15);\n",
              "      filter: drop-shadow(0px 1px 2px rgba(0, 0, 0, 0.3));\n",
              "      fill: #FFFFFF;\n",
              "    }\n",
              "  </style>\n",
              "\n",
              "      <script>\n",
              "        const buttonEl =\n",
              "          document.querySelector('#df-f3b51ffa-e969-46d5-8a8a-0226d6824cdf button.colab-df-convert');\n",
              "        buttonEl.style.display =\n",
              "          google.colab.kernel.accessAllowed ? 'block' : 'none';\n",
              "\n",
              "        async function convertToInteractive(key) {\n",
              "          const element = document.querySelector('#df-f3b51ffa-e969-46d5-8a8a-0226d6824cdf');\n",
              "          const dataTable =\n",
              "            await google.colab.kernel.invokeFunction('convertToInteractive',\n",
              "                                                     [key], {});\n",
              "          if (!dataTable) return;\n",
              "\n",
              "          const docLinkHtml = 'Like what you see? Visit the ' +\n",
              "            '<a target=\"_blank\" href=https://colab.research.google.com/notebooks/data_table.ipynb>data table notebook</a>'\n",
              "            + ' to learn more about interactive tables.';\n",
              "          element.innerHTML = '';\n",
              "          dataTable['output_type'] = 'display_data';\n",
              "          await google.colab.output.renderOutput(dataTable, element);\n",
              "          const docLink = document.createElement('div');\n",
              "          docLink.innerHTML = docLinkHtml;\n",
              "          element.appendChild(docLink);\n",
              "        }\n",
              "      </script>\n",
              "    </div>\n",
              "  </div>\n",
              "  "
            ]
          },
          "metadata": {},
          "execution_count": 3
        }
      ]
    },
    {
      "cell_type": "markdown",
      "source": [
        "### Informasi Sederhana Dataframe"
      ],
      "metadata": {
        "id": "3mj_mFaWvv2F"
      }
    },
    {
      "cell_type": "code",
      "source": [
        "# Menampilkan 10 data teratas\n",
        "data_limbah.head(10)"
      ],
      "metadata": {
        "colab": {
          "base_uri": "https://localhost:8080/",
          "height": 363
        },
        "id": "z4e78F-Yv1jg",
        "outputId": "0323609f-f54d-440f-d6a1-90a069ea7b2d"
      },
      "execution_count": null,
      "outputs": [
        {
          "output_type": "execute_result",
          "data": {
            "text/plain": [
              "  report_date                load_time load_type  load_weight dropoff_site\n",
              "0  2021-07-08  2021-07-08 12:00:00 UTC     TIRES       2260.0          MRF\n",
              "1  2021-07-08  2021-07-08 11:00:00 UTC     TIRES       1260.0          MRF\n",
              "2  2021-07-08  2021-07-08 03:00:00 UTC     TIRES        800.0          MRF\n",
              "3  2021-05-01  2021-05-01 12:29:00 UTC     TIRES        760.0          MRF\n",
              "4  2021-07-03  2021-07-03 12:09:00 UTC     TIRES       1400.0          MRF\n",
              "5  2021-02-27  2021-02-27 12:43:00 UTC     TIRES        320.0          MRF\n",
              "6  2021-02-27  2021-02-27 11:53:00 UTC     TIRES        740.0          MRF\n",
              "7  2021-02-27  2021-02-27 06:59:00 UTC     TIRES       1720.0          MRF\n",
              "8  2021-05-08  2021-05-08 09:05:00 UTC     TIRES       4360.0          MRF\n",
              "9  2021-05-08  2021-05-08 02:31:00 UTC     TIRES       1740.0          MRF"
            ],
            "text/html": [
              "\n",
              "  <div id=\"df-af537b4d-6380-4d3d-bb78-8f286ad32d15\">\n",
              "    <div class=\"colab-df-container\">\n",
              "      <div>\n",
              "<style scoped>\n",
              "    .dataframe tbody tr th:only-of-type {\n",
              "        vertical-align: middle;\n",
              "    }\n",
              "\n",
              "    .dataframe tbody tr th {\n",
              "        vertical-align: top;\n",
              "    }\n",
              "\n",
              "    .dataframe thead th {\n",
              "        text-align: right;\n",
              "    }\n",
              "</style>\n",
              "<table border=\"1\" class=\"dataframe\">\n",
              "  <thead>\n",
              "    <tr style=\"text-align: right;\">\n",
              "      <th></th>\n",
              "      <th>report_date</th>\n",
              "      <th>load_time</th>\n",
              "      <th>load_type</th>\n",
              "      <th>load_weight</th>\n",
              "      <th>dropoff_site</th>\n",
              "    </tr>\n",
              "  </thead>\n",
              "  <tbody>\n",
              "    <tr>\n",
              "      <th>0</th>\n",
              "      <td>2021-07-08</td>\n",
              "      <td>2021-07-08 12:00:00 UTC</td>\n",
              "      <td>TIRES</td>\n",
              "      <td>2260.0</td>\n",
              "      <td>MRF</td>\n",
              "    </tr>\n",
              "    <tr>\n",
              "      <th>1</th>\n",
              "      <td>2021-07-08</td>\n",
              "      <td>2021-07-08 11:00:00 UTC</td>\n",
              "      <td>TIRES</td>\n",
              "      <td>1260.0</td>\n",
              "      <td>MRF</td>\n",
              "    </tr>\n",
              "    <tr>\n",
              "      <th>2</th>\n",
              "      <td>2021-07-08</td>\n",
              "      <td>2021-07-08 03:00:00 UTC</td>\n",
              "      <td>TIRES</td>\n",
              "      <td>800.0</td>\n",
              "      <td>MRF</td>\n",
              "    </tr>\n",
              "    <tr>\n",
              "      <th>3</th>\n",
              "      <td>2021-05-01</td>\n",
              "      <td>2021-05-01 12:29:00 UTC</td>\n",
              "      <td>TIRES</td>\n",
              "      <td>760.0</td>\n",
              "      <td>MRF</td>\n",
              "    </tr>\n",
              "    <tr>\n",
              "      <th>4</th>\n",
              "      <td>2021-07-03</td>\n",
              "      <td>2021-07-03 12:09:00 UTC</td>\n",
              "      <td>TIRES</td>\n",
              "      <td>1400.0</td>\n",
              "      <td>MRF</td>\n",
              "    </tr>\n",
              "    <tr>\n",
              "      <th>5</th>\n",
              "      <td>2021-02-27</td>\n",
              "      <td>2021-02-27 12:43:00 UTC</td>\n",
              "      <td>TIRES</td>\n",
              "      <td>320.0</td>\n",
              "      <td>MRF</td>\n",
              "    </tr>\n",
              "    <tr>\n",
              "      <th>6</th>\n",
              "      <td>2021-02-27</td>\n",
              "      <td>2021-02-27 11:53:00 UTC</td>\n",
              "      <td>TIRES</td>\n",
              "      <td>740.0</td>\n",
              "      <td>MRF</td>\n",
              "    </tr>\n",
              "    <tr>\n",
              "      <th>7</th>\n",
              "      <td>2021-02-27</td>\n",
              "      <td>2021-02-27 06:59:00 UTC</td>\n",
              "      <td>TIRES</td>\n",
              "      <td>1720.0</td>\n",
              "      <td>MRF</td>\n",
              "    </tr>\n",
              "    <tr>\n",
              "      <th>8</th>\n",
              "      <td>2021-05-08</td>\n",
              "      <td>2021-05-08 09:05:00 UTC</td>\n",
              "      <td>TIRES</td>\n",
              "      <td>4360.0</td>\n",
              "      <td>MRF</td>\n",
              "    </tr>\n",
              "    <tr>\n",
              "      <th>9</th>\n",
              "      <td>2021-05-08</td>\n",
              "      <td>2021-05-08 02:31:00 UTC</td>\n",
              "      <td>TIRES</td>\n",
              "      <td>1740.0</td>\n",
              "      <td>MRF</td>\n",
              "    </tr>\n",
              "  </tbody>\n",
              "</table>\n",
              "</div>\n",
              "      <button class=\"colab-df-convert\" onclick=\"convertToInteractive('df-af537b4d-6380-4d3d-bb78-8f286ad32d15')\"\n",
              "              title=\"Convert this dataframe to an interactive table.\"\n",
              "              style=\"display:none;\">\n",
              "        \n",
              "  <svg xmlns=\"http://www.w3.org/2000/svg\" height=\"24px\"viewBox=\"0 0 24 24\"\n",
              "       width=\"24px\">\n",
              "    <path d=\"M0 0h24v24H0V0z\" fill=\"none\"/>\n",
              "    <path d=\"M18.56 5.44l.94 2.06.94-2.06 2.06-.94-2.06-.94-.94-2.06-.94 2.06-2.06.94zm-11 1L8.5 8.5l.94-2.06 2.06-.94-2.06-.94L8.5 2.5l-.94 2.06-2.06.94zm10 10l.94 2.06.94-2.06 2.06-.94-2.06-.94-.94-2.06-.94 2.06-2.06.94z\"/><path d=\"M17.41 7.96l-1.37-1.37c-.4-.4-.92-.59-1.43-.59-.52 0-1.04.2-1.43.59L10.3 9.45l-7.72 7.72c-.78.78-.78 2.05 0 2.83L4 21.41c.39.39.9.59 1.41.59.51 0 1.02-.2 1.41-.59l7.78-7.78 2.81-2.81c.8-.78.8-2.07 0-2.86zM5.41 20L4 18.59l7.72-7.72 1.47 1.35L5.41 20z\"/>\n",
              "  </svg>\n",
              "      </button>\n",
              "      \n",
              "  <style>\n",
              "    .colab-df-container {\n",
              "      display:flex;\n",
              "      flex-wrap:wrap;\n",
              "      gap: 12px;\n",
              "    }\n",
              "\n",
              "    .colab-df-convert {\n",
              "      background-color: #E8F0FE;\n",
              "      border: none;\n",
              "      border-radius: 50%;\n",
              "      cursor: pointer;\n",
              "      display: none;\n",
              "      fill: #1967D2;\n",
              "      height: 32px;\n",
              "      padding: 0 0 0 0;\n",
              "      width: 32px;\n",
              "    }\n",
              "\n",
              "    .colab-df-convert:hover {\n",
              "      background-color: #E2EBFA;\n",
              "      box-shadow: 0px 1px 2px rgba(60, 64, 67, 0.3), 0px 1px 3px 1px rgba(60, 64, 67, 0.15);\n",
              "      fill: #174EA6;\n",
              "    }\n",
              "\n",
              "    [theme=dark] .colab-df-convert {\n",
              "      background-color: #3B4455;\n",
              "      fill: #D2E3FC;\n",
              "    }\n",
              "\n",
              "    [theme=dark] .colab-df-convert:hover {\n",
              "      background-color: #434B5C;\n",
              "      box-shadow: 0px 1px 3px 1px rgba(0, 0, 0, 0.15);\n",
              "      filter: drop-shadow(0px 1px 2px rgba(0, 0, 0, 0.3));\n",
              "      fill: #FFFFFF;\n",
              "    }\n",
              "  </style>\n",
              "\n",
              "      <script>\n",
              "        const buttonEl =\n",
              "          document.querySelector('#df-af537b4d-6380-4d3d-bb78-8f286ad32d15 button.colab-df-convert');\n",
              "        buttonEl.style.display =\n",
              "          google.colab.kernel.accessAllowed ? 'block' : 'none';\n",
              "\n",
              "        async function convertToInteractive(key) {\n",
              "          const element = document.querySelector('#df-af537b4d-6380-4d3d-bb78-8f286ad32d15');\n",
              "          const dataTable =\n",
              "            await google.colab.kernel.invokeFunction('convertToInteractive',\n",
              "                                                     [key], {});\n",
              "          if (!dataTable) return;\n",
              "\n",
              "          const docLinkHtml = 'Like what you see? Visit the ' +\n",
              "            '<a target=\"_blank\" href=https://colab.research.google.com/notebooks/data_table.ipynb>data table notebook</a>'\n",
              "            + ' to learn more about interactive tables.';\n",
              "          element.innerHTML = '';\n",
              "          dataTable['output_type'] = 'display_data';\n",
              "          await google.colab.output.renderOutput(dataTable, element);\n",
              "          const docLink = document.createElement('div');\n",
              "          docLink.innerHTML = docLinkHtml;\n",
              "          element.appendChild(docLink);\n",
              "        }\n",
              "      </script>\n",
              "    </div>\n",
              "  </div>\n",
              "  "
            ]
          },
          "metadata": {},
          "execution_count": 4
        }
      ]
    },
    {
      "cell_type": "code",
      "source": [
        "# Menampilkan 10 data terbawah\n",
        "data_limbah.tail(10)"
      ],
      "metadata": {
        "colab": {
          "base_uri": "https://localhost:8080/",
          "height": 363
        },
        "id": "XXQd6Q3tv_5x",
        "outputId": "0826ed4a-6c67-4288-deaf-b7d04351f2ea"
      },
      "execution_count": null,
      "outputs": [
        {
          "output_type": "execute_result",
          "data": {
            "text/plain": [
              "      report_date                load_time       load_type  load_weight  \\\n",
              "26147  2021-03-01  2021-03-01 12:38:00 UTC        ORGANICS      21680.0   \n",
              "26148  2021-03-01  2021-03-01 10:49:00 UTC        ORGANICS      12580.0   \n",
              "26149  2021-03-01  2021-03-01 12:00:00 UTC        ORGANICS      20100.0   \n",
              "26150  2021-03-01  2021-03-01 12:00:00 UTC        ORGANICS      16960.0   \n",
              "26151  2021-03-01  2021-03-01 11:19:00 UTC        ORGANICS      18580.0   \n",
              "26152  2021-03-01  2021-03-01 11:26:00 UTC        ORGANICS      12100.0   \n",
              "26153  2021-03-01  2021-03-01 04:27:00 UTC        ORGANICS      10900.0   \n",
              "26154  2021-03-01  2021-03-01 05:55:00 UTC        ORGANICS      21800.0   \n",
              "26155  2021-03-01  2021-03-02 01:10:00 UTC        ORGANICS       5640.0   \n",
              "26156  2021-03-01  2021-03-01 10:22:00 UTC  RECYCLED METAL        360.0   \n",
              "\n",
              "                dropoff_site  \n",
              "26147       ORGANICS BY GOSH  \n",
              "26148       ORGANICS BY GOSH  \n",
              "26149       ORGANICS BY GOSH  \n",
              "26150       ORGANICS BY GOSH  \n",
              "26151       ORGANICS BY GOSH  \n",
              "26152       ORGANICS BY GOSH  \n",
              "26153       ORGANICS BY GOSH  \n",
              "26154       ORGANICS BY GOSH  \n",
              "26155       ORGANICS BY GOSH  \n",
              "26156  AUSTIN IRON AND METAL  "
            ],
            "text/html": [
              "\n",
              "  <div id=\"df-d3d66d52-a039-451e-89d7-106410d02bf5\">\n",
              "    <div class=\"colab-df-container\">\n",
              "      <div>\n",
              "<style scoped>\n",
              "    .dataframe tbody tr th:only-of-type {\n",
              "        vertical-align: middle;\n",
              "    }\n",
              "\n",
              "    .dataframe tbody tr th {\n",
              "        vertical-align: top;\n",
              "    }\n",
              "\n",
              "    .dataframe thead th {\n",
              "        text-align: right;\n",
              "    }\n",
              "</style>\n",
              "<table border=\"1\" class=\"dataframe\">\n",
              "  <thead>\n",
              "    <tr style=\"text-align: right;\">\n",
              "      <th></th>\n",
              "      <th>report_date</th>\n",
              "      <th>load_time</th>\n",
              "      <th>load_type</th>\n",
              "      <th>load_weight</th>\n",
              "      <th>dropoff_site</th>\n",
              "    </tr>\n",
              "  </thead>\n",
              "  <tbody>\n",
              "    <tr>\n",
              "      <th>26147</th>\n",
              "      <td>2021-03-01</td>\n",
              "      <td>2021-03-01 12:38:00 UTC</td>\n",
              "      <td>ORGANICS</td>\n",
              "      <td>21680.0</td>\n",
              "      <td>ORGANICS BY GOSH</td>\n",
              "    </tr>\n",
              "    <tr>\n",
              "      <th>26148</th>\n",
              "      <td>2021-03-01</td>\n",
              "      <td>2021-03-01 10:49:00 UTC</td>\n",
              "      <td>ORGANICS</td>\n",
              "      <td>12580.0</td>\n",
              "      <td>ORGANICS BY GOSH</td>\n",
              "    </tr>\n",
              "    <tr>\n",
              "      <th>26149</th>\n",
              "      <td>2021-03-01</td>\n",
              "      <td>2021-03-01 12:00:00 UTC</td>\n",
              "      <td>ORGANICS</td>\n",
              "      <td>20100.0</td>\n",
              "      <td>ORGANICS BY GOSH</td>\n",
              "    </tr>\n",
              "    <tr>\n",
              "      <th>26150</th>\n",
              "      <td>2021-03-01</td>\n",
              "      <td>2021-03-01 12:00:00 UTC</td>\n",
              "      <td>ORGANICS</td>\n",
              "      <td>16960.0</td>\n",
              "      <td>ORGANICS BY GOSH</td>\n",
              "    </tr>\n",
              "    <tr>\n",
              "      <th>26151</th>\n",
              "      <td>2021-03-01</td>\n",
              "      <td>2021-03-01 11:19:00 UTC</td>\n",
              "      <td>ORGANICS</td>\n",
              "      <td>18580.0</td>\n",
              "      <td>ORGANICS BY GOSH</td>\n",
              "    </tr>\n",
              "    <tr>\n",
              "      <th>26152</th>\n",
              "      <td>2021-03-01</td>\n",
              "      <td>2021-03-01 11:26:00 UTC</td>\n",
              "      <td>ORGANICS</td>\n",
              "      <td>12100.0</td>\n",
              "      <td>ORGANICS BY GOSH</td>\n",
              "    </tr>\n",
              "    <tr>\n",
              "      <th>26153</th>\n",
              "      <td>2021-03-01</td>\n",
              "      <td>2021-03-01 04:27:00 UTC</td>\n",
              "      <td>ORGANICS</td>\n",
              "      <td>10900.0</td>\n",
              "      <td>ORGANICS BY GOSH</td>\n",
              "    </tr>\n",
              "    <tr>\n",
              "      <th>26154</th>\n",
              "      <td>2021-03-01</td>\n",
              "      <td>2021-03-01 05:55:00 UTC</td>\n",
              "      <td>ORGANICS</td>\n",
              "      <td>21800.0</td>\n",
              "      <td>ORGANICS BY GOSH</td>\n",
              "    </tr>\n",
              "    <tr>\n",
              "      <th>26155</th>\n",
              "      <td>2021-03-01</td>\n",
              "      <td>2021-03-02 01:10:00 UTC</td>\n",
              "      <td>ORGANICS</td>\n",
              "      <td>5640.0</td>\n",
              "      <td>ORGANICS BY GOSH</td>\n",
              "    </tr>\n",
              "    <tr>\n",
              "      <th>26156</th>\n",
              "      <td>2021-03-01</td>\n",
              "      <td>2021-03-01 10:22:00 UTC</td>\n",
              "      <td>RECYCLED METAL</td>\n",
              "      <td>360.0</td>\n",
              "      <td>AUSTIN IRON AND METAL</td>\n",
              "    </tr>\n",
              "  </tbody>\n",
              "</table>\n",
              "</div>\n",
              "      <button class=\"colab-df-convert\" onclick=\"convertToInteractive('df-d3d66d52-a039-451e-89d7-106410d02bf5')\"\n",
              "              title=\"Convert this dataframe to an interactive table.\"\n",
              "              style=\"display:none;\">\n",
              "        \n",
              "  <svg xmlns=\"http://www.w3.org/2000/svg\" height=\"24px\"viewBox=\"0 0 24 24\"\n",
              "       width=\"24px\">\n",
              "    <path d=\"M0 0h24v24H0V0z\" fill=\"none\"/>\n",
              "    <path d=\"M18.56 5.44l.94 2.06.94-2.06 2.06-.94-2.06-.94-.94-2.06-.94 2.06-2.06.94zm-11 1L8.5 8.5l.94-2.06 2.06-.94-2.06-.94L8.5 2.5l-.94 2.06-2.06.94zm10 10l.94 2.06.94-2.06 2.06-.94-2.06-.94-.94-2.06-.94 2.06-2.06.94z\"/><path d=\"M17.41 7.96l-1.37-1.37c-.4-.4-.92-.59-1.43-.59-.52 0-1.04.2-1.43.59L10.3 9.45l-7.72 7.72c-.78.78-.78 2.05 0 2.83L4 21.41c.39.39.9.59 1.41.59.51 0 1.02-.2 1.41-.59l7.78-7.78 2.81-2.81c.8-.78.8-2.07 0-2.86zM5.41 20L4 18.59l7.72-7.72 1.47 1.35L5.41 20z\"/>\n",
              "  </svg>\n",
              "      </button>\n",
              "      \n",
              "  <style>\n",
              "    .colab-df-container {\n",
              "      display:flex;\n",
              "      flex-wrap:wrap;\n",
              "      gap: 12px;\n",
              "    }\n",
              "\n",
              "    .colab-df-convert {\n",
              "      background-color: #E8F0FE;\n",
              "      border: none;\n",
              "      border-radius: 50%;\n",
              "      cursor: pointer;\n",
              "      display: none;\n",
              "      fill: #1967D2;\n",
              "      height: 32px;\n",
              "      padding: 0 0 0 0;\n",
              "      width: 32px;\n",
              "    }\n",
              "\n",
              "    .colab-df-convert:hover {\n",
              "      background-color: #E2EBFA;\n",
              "      box-shadow: 0px 1px 2px rgba(60, 64, 67, 0.3), 0px 1px 3px 1px rgba(60, 64, 67, 0.15);\n",
              "      fill: #174EA6;\n",
              "    }\n",
              "\n",
              "    [theme=dark] .colab-df-convert {\n",
              "      background-color: #3B4455;\n",
              "      fill: #D2E3FC;\n",
              "    }\n",
              "\n",
              "    [theme=dark] .colab-df-convert:hover {\n",
              "      background-color: #434B5C;\n",
              "      box-shadow: 0px 1px 3px 1px rgba(0, 0, 0, 0.15);\n",
              "      filter: drop-shadow(0px 1px 2px rgba(0, 0, 0, 0.3));\n",
              "      fill: #FFFFFF;\n",
              "    }\n",
              "  </style>\n",
              "\n",
              "      <script>\n",
              "        const buttonEl =\n",
              "          document.querySelector('#df-d3d66d52-a039-451e-89d7-106410d02bf5 button.colab-df-convert');\n",
              "        buttonEl.style.display =\n",
              "          google.colab.kernel.accessAllowed ? 'block' : 'none';\n",
              "\n",
              "        async function convertToInteractive(key) {\n",
              "          const element = document.querySelector('#df-d3d66d52-a039-451e-89d7-106410d02bf5');\n",
              "          const dataTable =\n",
              "            await google.colab.kernel.invokeFunction('convertToInteractive',\n",
              "                                                     [key], {});\n",
              "          if (!dataTable) return;\n",
              "\n",
              "          const docLinkHtml = 'Like what you see? Visit the ' +\n",
              "            '<a target=\"_blank\" href=https://colab.research.google.com/notebooks/data_table.ipynb>data table notebook</a>'\n",
              "            + ' to learn more about interactive tables.';\n",
              "          element.innerHTML = '';\n",
              "          dataTable['output_type'] = 'display_data';\n",
              "          await google.colab.output.renderOutput(dataTable, element);\n",
              "          const docLink = document.createElement('div');\n",
              "          docLink.innerHTML = docLinkHtml;\n",
              "          element.appendChild(docLink);\n",
              "        }\n",
              "      </script>\n",
              "    </div>\n",
              "  </div>\n",
              "  "
            ]
          },
          "metadata": {},
          "execution_count": 5
        }
      ]
    },
    {
      "cell_type": "code",
      "source": [
        "# Mengetahui matrix data\n",
        "data_limbah.shape"
      ],
      "metadata": {
        "colab": {
          "base_uri": "https://localhost:8080/"
        },
        "id": "Xr6Dk2FjwKpE",
        "outputId": "cda58736-da72-43dd-de65-3d0c91fc130f"
      },
      "execution_count": null,
      "outputs": [
        {
          "output_type": "execute_result",
          "data": {
            "text/plain": [
              "(26157, 5)"
            ]
          },
          "metadata": {},
          "execution_count": 6
        }
      ]
    },
    {
      "cell_type": "markdown",
      "source": [
        "Diketahui bahwa `data_limbah` memiliki 26.157 baris data dengan jumlah kolom 5"
      ],
      "metadata": {
        "id": "fA3SYhLPwXb3"
      }
    },
    {
      "cell_type": "code",
      "source": [
        "# Menampilkan informasi data\n",
        "data_limbah.info()"
      ],
      "metadata": {
        "colab": {
          "base_uri": "https://localhost:8080/"
        },
        "id": "X44rlc6lwEdG",
        "outputId": "97a757e9-fc42-4405-df5a-8d0cadb23f28"
      },
      "execution_count": null,
      "outputs": [
        {
          "output_type": "stream",
          "name": "stdout",
          "text": [
            "<class 'pandas.core.frame.DataFrame'>\n",
            "RangeIndex: 26157 entries, 0 to 26156\n",
            "Data columns (total 5 columns):\n",
            " #   Column        Non-Null Count  Dtype  \n",
            "---  ------        --------------  -----  \n",
            " 0   report_date   26157 non-null  object \n",
            " 1   load_time     26157 non-null  object \n",
            " 2   load_type     26157 non-null  object \n",
            " 3   load_weight   25109 non-null  float64\n",
            " 4   dropoff_site  26157 non-null  object \n",
            "dtypes: float64(1), object(4)\n",
            "memory usage: 1021.9+ KB\n"
          ]
        }
      ]
    },
    {
      "cell_type": "code",
      "source": [
        "# Menampilkan jumlah data yang null\n",
        "data_limbah.isnull().sum()"
      ],
      "metadata": {
        "colab": {
          "base_uri": "https://localhost:8080/"
        },
        "id": "P5Zvq7CFxTfW",
        "outputId": "2cc971c1-7258-4244-e343-08d45605a1be"
      },
      "execution_count": null,
      "outputs": [
        {
          "output_type": "execute_result",
          "data": {
            "text/plain": [
              "report_date        0\n",
              "load_time          0\n",
              "load_type          0\n",
              "load_weight     1048\n",
              "dropoff_site       0\n",
              "dtype: int64"
            ]
          },
          "metadata": {},
          "execution_count": 8
        }
      ]
    },
    {
      "cell_type": "markdown",
      "source": [
        "Diketahui pada `data_limbah` adanya nilai null pada data `load_weight` sebesar 1.048 sehingga data ini perlu kita lakukan *handling missing value*"
      ],
      "metadata": {
        "id": "A8Sskow2wkRY"
      }
    },
    {
      "cell_type": "markdown",
      "source": [
        "# **Problem 1 : Statistic**"
      ],
      "metadata": {
        "id": "PUwClkbEnmTq"
      }
    },
    {
      "cell_type": "markdown",
      "source": [
        "## I. Missing Values"
      ],
      "metadata": {
        "id": "puKuAmTe8ZwC"
      }
    },
    {
      "cell_type": "markdown",
      "source": [
        "**Handling missing values menggunakan grafik skewness**"
      ],
      "metadata": {
        "id": "ESrutuuW8kUy"
      }
    },
    {
      "cell_type": "code",
      "source": [
        "# Mencari nilai mean dan median dari kolom load_weight\n",
        "weight = data_limbah['load_weight']\n",
        "weight_mean = weight.mean()\n",
        "weight_median = weight.median()"
      ],
      "metadata": {
        "id": "LLmIRMz9wvjv"
      },
      "execution_count": null,
      "outputs": []
    },
    {
      "cell_type": "code",
      "source": [
        "print('Nilai mean dari load weight :', weight_mean)\n",
        "print('Nilai median dari load weight :', weight_median)"
      ],
      "metadata": {
        "colab": {
          "base_uri": "https://localhost:8080/"
        },
        "id": "h8xT7sBt_hU3",
        "outputId": "c5e37a45-f660-4332-d155-ead4bcb8f565"
      },
      "execution_count": null,
      "outputs": [
        {
          "output_type": "stream",
          "name": "stdout",
          "text": [
            "Nilai mean dari load weight : 12227.136307276274\n",
            "Nilai median dari load weight : 11300.0\n"
          ]
        }
      ]
    },
    {
      "cell_type": "code",
      "source": [
        "# Menampilkan grafik skewness dari data load_weight\n",
        "weight.plot.hist(title = 'Load Weight', color = 'blue', bins = 25)\n",
        "plt. axvline(weight.mean(), color = 'red', linestyle = 'dashed', linewidth = 2.5)\n",
        "plt. axvline(weight.median(), color = 'orange', linestyle = 'dashed', linewidth = 2.5)"
      ],
      "metadata": {
        "colab": {
          "base_uri": "https://localhost:8080/",
          "height": 469
        },
        "id": "E6v-gNEs-fhs",
        "outputId": "a5c8ee79-6dc8-443d-8793-2917ea2954b1"
      },
      "execution_count": null,
      "outputs": [
        {
          "output_type": "execute_result",
          "data": {
            "text/plain": [
              "<matplotlib.lines.Line2D at 0x7fabf2a0efd0>"
            ]
          },
          "metadata": {},
          "execution_count": 11
        },
        {
          "output_type": "display_data",
          "data": {
            "text/plain": [
              "<Figure size 640x480 with 1 Axes>"
            ],
            "image/png": "[encoded data removed]"
          },
          "metadata": {}
        }
      ]
    },
    {
      "cell_type": "code",
      "source": [
        "# Mencari nilai skewness dari data load_weight\n",
        "weight.skew()"
      ],
      "metadata": {
        "colab": {
          "base_uri": "https://localhost:8080/"
        },
        "id": "IwCtyoMq_FPS",
        "outputId": "bc0fa2ed-1935-497e-d048-1d3063975616"
      },
      "execution_count": null,
      "outputs": [
        {
          "output_type": "execute_result",
          "data": {
            "text/plain": [
              "3.335938213321684"
            ]
          },
          "metadata": {},
          "execution_count": 12
        }
      ]
    },
    {
      "cell_type": "markdown",
      "source": [
        "Dari grafik skewness diatas dan nilai skewness yang telah dicari, dapat diketahui bahwa data `load_weight` penyebaran datanya tidak normal (`distribusi tidak normal`) dengan kemiringan `sangat miring` sehingga nilai `null` dapat diisi dengan nilai `median` dari data `load_weight`"
      ],
      "metadata": {
        "id": "fGOSJu9WAOBP"
      }
    },
    {
      "cell_type": "markdown",
      "source": [
        "**Missing values diisi dengan data median**"
      ],
      "metadata": {
        "id": "37F8m4uZA9Gj"
      }
    },
    {
      "cell_type": "code",
      "source": [
        "# Mengisi nilai null menggunakan fillna()\n",
        "data_limbah['load_weight'].fillna(data_limbah['load_weight'].median(), inplace = True)"
      ],
      "metadata": {
        "id": "FxxFNC3p_Gch"
      },
      "execution_count": null,
      "outputs": []
    },
    {
      "cell_type": "code",
      "source": [
        "# Menampilkan nilai null yang telah diisi dengan fillna()\n",
        "data_limbah.isnull().sum()"
      ],
      "metadata": {
        "colab": {
          "base_uri": "https://localhost:8080/"
        },
        "id": "Z86FEJ5YBjlT",
        "outputId": "bb4ea5ac-5605-4d0c-8940-d84a0df16af3"
      },
      "execution_count": null,
      "outputs": [
        {
          "output_type": "execute_result",
          "data": {
            "text/plain": [
              "report_date     0\n",
              "load_time       0\n",
              "load_type       0\n",
              "load_weight     0\n",
              "dropoff_site    0\n",
              "dtype: int64"
            ]
          },
          "metadata": {},
          "execution_count": 14
        }
      ]
    },
    {
      "cell_type": "markdown",
      "source": [
        "Missing values sudah tidak ada"
      ],
      "metadata": {
        "id": "pFPpVDaGB_yY"
      }
    },
    {
      "cell_type": "markdown",
      "source": [
        "## II. Explorating Data"
      ],
      "metadata": {
        "id": "BmUpT5XFCMED"
      }
    },
    {
      "cell_type": "code",
      "source": [
        "# Menampilkan waktu pertama kali pengangkutan di tahun 2021\n",
        "data_limbah['report_date'].min()"
      ],
      "metadata": {
        "colab": {
          "base_uri": "https://localhost:8080/",
          "height": 36
        },
        "id": "RrsPWTXvDtor",
        "outputId": "ab8bfd4c-aae0-4a42-8f7e-848f0d860d7e"
      },
      "execution_count": null,
      "outputs": [
        {
          "output_type": "execute_result",
          "data": {
            "text/plain": [
              "'2021-01-01'"
            ],
            "application/vnd.google.colaboratory.intrinsic+json": {
              "type": "string"
            }
          },
          "metadata": {},
          "execution_count": 15
        }
      ]
    },
    {
      "cell_type": "code",
      "source": [
        "# Menampilkan waktu terakhir kali pengangkutan di tahun 2021\n",
        "data_limbah['report_date'].max()"
      ],
      "metadata": {
        "colab": {
          "base_uri": "https://localhost:8080/",
          "height": 36
        },
        "id": "6hpxcbSyERNE",
        "outputId": "078a169a-0c72-4377-d7d3-1acad0897f9f"
      },
      "execution_count": null,
      "outputs": [
        {
          "output_type": "execute_result",
          "data": {
            "text/plain": [
              "'2021-07-09'"
            ],
            "application/vnd.google.colaboratory.intrinsic+json": {
              "type": "string"
            }
          },
          "metadata": {},
          "execution_count": 16
        }
      ]
    },
    {
      "cell_type": "markdown",
      "source": [
        "Pengangkutan limbah pertama kali dilakukan pada tanggal `01 Januari 2021` dan terakhir kali pada tanggal `09 Juli 2021` di tahun 2021"
      ],
      "metadata": {
        "id": "Ka7JXGMQFKZI"
      }
    },
    {
      "cell_type": "code",
      "source": [
        "# Menggabungkan kolom dengan tipe object\n",
        "obj_cols = list(data_limbah.select_dtypes('object'))"
      ],
      "metadata": {
        "id": "n72JJDpgBtFC"
      },
      "execution_count": null,
      "outputs": []
    },
    {
      "cell_type": "code",
      "source": [
        "# Menampilkan deskripsi kolom dengan tipe object\n",
        "data_limbah[obj_cols].describe()"
      ],
      "metadata": {
        "colab": {
          "base_uri": "https://localhost:8080/",
          "height": 175
        },
        "id": "gEN3iUKVC0bS",
        "outputId": "df90c3e1-785a-4bd5-e399-19e8713acc56"
      },
      "execution_count": null,
      "outputs": [
        {
          "output_type": "execute_result",
          "data": {
            "text/plain": [
              "       report_date                load_time            load_type  dropoff_site\n",
              "count        26157                    26157                26157         26157\n",
              "unique         166                    19766                   14            18\n",
              "top     2021-02-25  2021-03-05 12:00:00 UTC  GARBAGE COLLECTIONS  TDS LANDFILL\n",
              "freq           277                       30                 8242         10694"
            ],
            "text/html": [
              "\n",
              "  <div id=\"df-1d1d8252-0e4c-489c-b4f1-554b47d930bf\">\n",
              "    <div class=\"colab-df-container\">\n",
              "      <div>\n",
              "<style scoped>\n",
              "    .dataframe tbody tr th:only-of-type {\n",
              "        vertical-align: middle;\n",
              "    }\n",
              "\n",
              "    .dataframe tbody tr th {\n",
              "        vertical-align: top;\n",
              "    }\n",
              "\n",
              "    .dataframe thead th {\n",
              "        text-align: right;\n",
              "    }\n",
              "</style>\n",
              "<table border=\"1\" class=\"dataframe\">\n",
              "  <thead>\n",
              "    <tr style=\"text-align: right;\">\n",
              "      <th></th>\n",
              "      <th>report_date</th>\n",
              "      <th>load_time</th>\n",
              "      <th>load_type</th>\n",
              "      <th>dropoff_site</th>\n",
              "    </tr>\n",
              "  </thead>\n",
              "  <tbody>\n",
              "    <tr>\n",
              "      <th>count</th>\n",
              "      <td>26157</td>\n",
              "      <td>26157</td>\n",
              "      <td>26157</td>\n",
              "      <td>26157</td>\n",
              "    </tr>\n",
              "    <tr>\n",
              "      <th>unique</th>\n",
              "      <td>166</td>\n",
              "      <td>19766</td>\n",
              "      <td>14</td>\n",
              "      <td>18</td>\n",
              "    </tr>\n",
              "    <tr>\n",
              "      <th>top</th>\n",
              "      <td>2021-02-25</td>\n",
              "      <td>2021-03-05 12:00:00 UTC</td>\n",
              "      <td>GARBAGE COLLECTIONS</td>\n",
              "      <td>TDS LANDFILL</td>\n",
              "    </tr>\n",
              "    <tr>\n",
              "      <th>freq</th>\n",
              "      <td>277</td>\n",
              "      <td>30</td>\n",
              "      <td>8242</td>\n",
              "      <td>10694</td>\n",
              "    </tr>\n",
              "  </tbody>\n",
              "</table>\n",
              "</div>\n",
              "      <button class=\"colab-df-convert\" onclick=\"convertToInteractive('df-1d1d8252-0e4c-489c-b4f1-554b47d930bf')\"\n",
              "              title=\"Convert this dataframe to an interactive table.\"\n",
              "              style=\"display:none;\">\n",
              "        \n",
              "  <svg xmlns=\"http://www.w3.org/2000/svg\" height=\"24px\"viewBox=\"0 0 24 24\"\n",
              "       width=\"24px\">\n",
              "    <path d=\"M0 0h24v24H0V0z\" fill=\"none\"/>\n",
              "    <path d=\"M18.56 5.44l.94 2.06.94-2.06 2.06-.94-2.06-.94-.94-2.06-.94 2.06-2.06.94zm-11 1L8.5 8.5l.94-2.06 2.06-.94-2.06-.94L8.5 2.5l-.94 2.06-2.06.94zm10 10l.94 2.06.94-2.06 2.06-.94-2.06-.94-.94-2.06-.94 2.06-2.06.94z\"/><path d=\"M17.41 7.96l-1.37-1.37c-.4-.4-.92-.59-1.43-.59-.52 0-1.04.2-1.43.59L10.3 9.45l-7.72 7.72c-.78.78-.78 2.05 0 2.83L4 21.41c.39.39.9.59 1.41.59.51 0 1.02-.2 1.41-.59l7.78-7.78 2.81-2.81c.8-.78.8-2.07 0-2.86zM5.41 20L4 18.59l7.72-7.72 1.47 1.35L5.41 20z\"/>\n",
              "  </svg>\n",
              "      </button>\n",
              "      \n",
              "  <style>\n",
              "    .colab-df-container {\n",
              "      display:flex;\n",
              "      flex-wrap:wrap;\n",
              "      gap: 12px;\n",
              "    }\n",
              "\n",
              "    .colab-df-convert {\n",
              "      background-color: #E8F0FE;\n",
              "      border: none;\n",
              "      border-radius: 50%;\n",
              "      cursor: pointer;\n",
              "      display: none;\n",
              "      fill: #1967D2;\n",
              "      height: 32px;\n",
              "      padding: 0 0 0 0;\n",
              "      width: 32px;\n",
              "    }\n",
              "\n",
              "    .colab-df-convert:hover {\n",
              "      background-color: #E2EBFA;\n",
              "      box-shadow: 0px 1px 2px rgba(60, 64, 67, 0.3), 0px 1px 3px 1px rgba(60, 64, 67, 0.15);\n",
              "      fill: #174EA6;\n",
              "    }\n",
              "\n",
              "    [theme=dark] .colab-df-convert {\n",
              "      background-color: #3B4455;\n",
              "      fill: #D2E3FC;\n",
              "    }\n",
              "\n",
              "    [theme=dark] .colab-df-convert:hover {\n",
              "      background-color: #434B5C;\n",
              "      box-shadow: 0px 1px 3px 1px rgba(0, 0, 0, 0.15);\n",
              "      filter: drop-shadow(0px 1px 2px rgba(0, 0, 0, 0.3));\n",
              "      fill: #FFFFFF;\n",
              "    }\n",
              "  </style>\n",
              "\n",
              "      <script>\n",
              "        const buttonEl =\n",
              "          document.querySelector('#df-1d1d8252-0e4c-489c-b4f1-554b47d930bf button.colab-df-convert');\n",
              "        buttonEl.style.display =\n",
              "          google.colab.kernel.accessAllowed ? 'block' : 'none';\n",
              "\n",
              "        async function convertToInteractive(key) {\n",
              "          const element = document.querySelector('#df-1d1d8252-0e4c-489c-b4f1-554b47d930bf');\n",
              "          const dataTable =\n",
              "            await google.colab.kernel.invokeFunction('convertToInteractive',\n",
              "                                                     [key], {});\n",
              "          if (!dataTable) return;\n",
              "\n",
              "          const docLinkHtml = 'Like what you see? Visit the ' +\n",
              "            '<a target=\"_blank\" href=https://colab.research.google.com/notebooks/data_table.ipynb>data table notebook</a>'\n",
              "            + ' to learn more about interactive tables.';\n",
              "          element.innerHTML = '';\n",
              "          dataTable['output_type'] = 'display_data';\n",
              "          await google.colab.output.renderOutput(dataTable, element);\n",
              "          const docLink = document.createElement('div');\n",
              "          docLink.innerHTML = docLinkHtml;\n",
              "          element.appendChild(docLink);\n",
              "        }\n",
              "      </script>\n",
              "    </div>\n",
              "  </div>\n",
              "  "
            ]
          },
          "metadata": {},
          "execution_count": 18
        }
      ]
    },
    {
      "cell_type": "markdown",
      "source": [
        "Penjelasan :\n",
        "- Dapat diketahui bahwa `load_type` memiliki 14 nilai unik, dan `dropoff_site` memiliki 18 nilai unik"
      ],
      "metadata": {
        "id": "qsZaXpdjDINk"
      }
    },
    {
      "cell_type": "code",
      "source": [
        "# Menampilkan nilai unik dari load_type\n",
        "data_limbah['load_type'].unique()"
      ],
      "metadata": {
        "colab": {
          "base_uri": "https://localhost:8080/"
        },
        "id": "2Cn6PIy1C7KD",
        "outputId": "b4218b48-a84e-400b-866d-3f9feabbbe30"
      },
      "execution_count": null,
      "outputs": [
        {
          "output_type": "execute_result",
          "data": {
            "text/plain": [
              "array(['TIRES', 'RECYCLING - SINGLE STREAM', 'SWEEPING', 'BRUSH',\n",
              "       'GARBAGE COLLECTIONS', 'YARD TRIMMING', 'BULK', 'ORGANICS',\n",
              "       'DEAD ANIMAL', 'MIXED LITTER', 'LITTER', 'RECYCLED METAL',\n",
              "       'CONTAMINATED RECYCLING', 'CONTAMINATED ORGANICS'], dtype=object)"
            ]
          },
          "metadata": {},
          "execution_count": 19
        }
      ]
    },
    {
      "cell_type": "code",
      "source": [
        "# Menampilkan nilai unik dari dropoff_site\n",
        "data_limbah['dropoff_site'].unique()"
      ],
      "metadata": {
        "colab": {
          "base_uri": "https://localhost:8080/"
        },
        "id": "y97ErJSbDlkd",
        "outputId": "6df366d1-5c14-4285-ce2b-a27211fa4a4e"
      },
      "execution_count": null,
      "outputs": [
        {
          "output_type": "execute_result",
          "data": {
            "text/plain": [
              "array(['MRF', 'TDS - MRF', 'ONION CREEK', 'PARK CENTER', 'HORNSBY BEND',\n",
              "       'TDS LANDFILL', 'GREAT NORTHERN', 'ORGANICS BY GOSH',\n",
              "       'BALCONES RECYCLING', 'ON ROUTE HIGH DUMP',\n",
              "       'AUSTIN IRON AND METAL', 'PARK BEND', 'BALCONES WOODS',\n",
              "       'STEINER LANDFILL', 'WESTFIELD', 'ST. EDWARDS',\n",
              "       'AUSTIN WOOD RECYCLING', 'WILCAB'], dtype=object)"
            ]
          },
          "metadata": {},
          "execution_count": 20
        }
      ]
    },
    {
      "cell_type": "code",
      "source": [
        "# Merubah kolom report_date dari tipe object(str) menjadi tipe date\n",
        "data_limbah['report_date'] = pd.to_datetime(data_limbah['report_date'], format= '%Y/%m/%d')"
      ],
      "metadata": {
        "id": "BnnXph2REazH"
      },
      "execution_count": null,
      "outputs": []
    },
    {
      "cell_type": "code",
      "source": [
        "# Menampilkan informasi data terbaru dari data_limbah\n",
        "data_limbah.info()"
      ],
      "metadata": {
        "colab": {
          "base_uri": "https://localhost:8080/"
        },
        "id": "m3sLQW0-Gxrk",
        "outputId": "14f30c88-cdda-44f1-86e1-f68ea53ec536"
      },
      "execution_count": null,
      "outputs": [
        {
          "output_type": "stream",
          "name": "stdout",
          "text": [
            "<class 'pandas.core.frame.DataFrame'>\n",
            "RangeIndex: 26157 entries, 0 to 26156\n",
            "Data columns (total 5 columns):\n",
            " #   Column        Non-Null Count  Dtype         \n",
            "---  ------        --------------  -----         \n",
            " 0   report_date   26157 non-null  datetime64[ns]\n",
            " 1   load_time     26157 non-null  object        \n",
            " 2   load_type     26157 non-null  object        \n",
            " 3   load_weight   26157 non-null  float64       \n",
            " 4   dropoff_site  26157 non-null  object        \n",
            "dtypes: datetime64[ns](1), float64(1), object(3)\n",
            "memory usage: 1021.9+ KB\n"
          ]
        }
      ]
    },
    {
      "cell_type": "markdown",
      "source": [
        "**Query, group, dan Agg**"
      ],
      "metadata": {
        "id": "BjlHuiepPG30"
      }
    },
    {
      "cell_type": "code",
      "source": [
        "# Menambahkan kolom baru berupa month pada dataframe data_limbah\n",
        "data_limbah['Month'] = data_limbah['report_date'].dt.month\n",
        "\n",
        "data_limbah.info()"
      ],
      "metadata": {
        "colab": {
          "base_uri": "https://localhost:8080/"
        },
        "id": "kbV0Sd0-JmRT",
        "outputId": "bc74fe18-75b9-4e5e-9c02-f4ba6c6d7ecb"
      },
      "execution_count": null,
      "outputs": [
        {
          "output_type": "stream",
          "name": "stdout",
          "text": [
            "<class 'pandas.core.frame.DataFrame'>\n",
            "RangeIndex: 26157 entries, 0 to 26156\n",
            "Data columns (total 6 columns):\n",
            " #   Column        Non-Null Count  Dtype         \n",
            "---  ------        --------------  -----         \n",
            " 0   report_date   26157 non-null  datetime64[ns]\n",
            " 1   load_time     26157 non-null  object        \n",
            " 2   load_type     26157 non-null  object        \n",
            " 3   load_weight   26157 non-null  float64       \n",
            " 4   dropoff_site  26157 non-null  object        \n",
            " 5   Month         26157 non-null  int64         \n",
            "dtypes: datetime64[ns](1), float64(1), int64(1), object(3)\n",
            "memory usage: 1.2+ MB\n"
          ]
        }
      ]
    },
    {
      "cell_type": "code",
      "source": [
        "# Menampilkan 20 data teratas dari data dengan jenis limbah TIRES di lokasi MRF\n",
        "data_limbah.query(\"load_type == 'TIRES' & \\\n",
        "                  dropoff_site == 'MRF'\").sort_values(['load_weight'], ascending=False).head(20)"
      ],
      "metadata": {
        "colab": {
          "base_uri": "https://localhost:8080/",
          "height": 676
        },
        "id": "GIza4uy1G3yc",
        "outputId": "4c01bd81-5a9c-4a59-f92f-352fa87cd629"
      },
      "execution_count": null,
      "outputs": [
        {
          "output_type": "execute_result",
          "data": {
            "text/plain": [
              "      report_date                load_time load_type  load_weight  \\\n",
              "24289  2021-02-10  2021-02-10 12:00:00 UTC     TIRES      17500.0   \n",
              "24101  2021-02-09  2021-02-09 12:00:00 UTC     TIRES      13800.0   \n",
              "7438   2021-04-12  2021-04-12 04:30:00 UTC     TIRES       6000.0   \n",
              "12868  2021-05-20  2021-05-20 03:30:00 UTC     TIRES       4770.0   \n",
              "8      2021-05-08  2021-05-08 09:05:00 UTC     TIRES       4360.0   \n",
              "17788  2021-06-28  2021-06-28 03:39:00 UTC     TIRES       4120.0   \n",
              "17787  2021-06-28  2021-06-28 11:01:00 UTC     TIRES       3520.0   \n",
              "13961  2021-05-28  2021-05-28 09:00:00 UTC     TIRES       3340.0   \n",
              "22068  2021-01-25  2021-01-25 02:27:00 UTC     TIRES       3260.0   \n",
              "18981  2021-07-07  2021-07-07 11:34:00 UTC     TIRES       3200.0   \n",
              "22280  2021-01-26  2021-01-26 03:23:00 UTC     TIRES       3140.0   \n",
              "22281  2021-01-26  2021-01-26 09:00:00 UTC     TIRES       3080.0   \n",
              "15560  2021-06-10  2021-06-10 10:20:00 UTC     TIRES       3060.0   \n",
              "16503  2021-06-17  2021-06-17 09:40:00 UTC     TIRES       3040.0   \n",
              "12     2021-03-20  2021-03-20 12:12:00 UTC     TIRES       3020.0   \n",
              "15561  2021-06-10  2021-06-10 12:30:00 UTC     TIRES       2960.0   \n",
              "12293  2021-05-17  2021-05-17 10:28:00 UTC     TIRES       2880.0   \n",
              "10405  2021-05-03  2021-05-03 02:14:00 UTC     TIRES       2780.0   \n",
              "13578  2021-05-26  2021-05-26 11:55:00 UTC     TIRES       2700.0   \n",
              "18816  2021-07-06  2021-07-06 12:25:00 UTC     TIRES       2700.0   \n",
              "\n",
              "      dropoff_site  Month  \n",
              "24289          MRF      2  \n",
              "24101          MRF      2  \n",
              "7438           MRF      4  \n",
              "12868          MRF      5  \n",
              "8              MRF      5  \n",
              "17788          MRF      6  \n",
              "17787          MRF      6  \n",
              "13961          MRF      5  \n",
              "22068          MRF      1  \n",
              "18981          MRF      7  \n",
              "22280          MRF      1  \n",
              "22281          MRF      1  \n",
              "15560          MRF      6  \n",
              "16503          MRF      6  \n",
              "12             MRF      3  \n",
              "15561          MRF      6  \n",
              "12293          MRF      5  \n",
              "10405          MRF      5  \n",
              "13578          MRF      5  \n",
              "18816          MRF      7  "
            ],
            "text/html": [
              "\n",
              "  <div id=\"df-496e92d2-8fd4-4af2-9e46-510557e79ae9\">\n",
              "    <div class=\"colab-df-container\">\n",
              "      <div>\n",
              "<style scoped>\n",
              "    .dataframe tbody tr th:only-of-type {\n",
              "        vertical-align: middle;\n",
              "    }\n",
              "\n",
              "    .dataframe tbody tr th {\n",
              "        vertical-align: top;\n",
              "    }\n",
              "\n",
              "    .dataframe thead th {\n",
              "        text-align: right;\n",
              "    }\n",
              "</style>\n",
              "<table border=\"1\" class=\"dataframe\">\n",
              "  <thead>\n",
              "    <tr style=\"text-align: right;\">\n",
              "      <th></th>\n",
              "      <th>report_date</th>\n",
              "      <th>load_time</th>\n",
              "      <th>load_type</th>\n",
              "      <th>load_weight</th>\n",
              "      <th>dropoff_site</th>\n",
              "      <th>Month</th>\n",
              "    </tr>\n",
              "  </thead>\n",
              "  <tbody>\n",
              "    <tr>\n",
              "      <th>24289</th>\n",
              "      <td>2021-02-10</td>\n",
              "      <td>2021-02-10 12:00:00 UTC</td>\n",
              "      <td>TIRES</td>\n",
              "      <td>17500.0</td>\n",
              "      <td>MRF</td>\n",
              "      <td>2</td>\n",
              "    </tr>\n",
              "    <tr>\n",
              "      <th>24101</th>\n",
              "      <td>2021-02-09</td>\n",
              "      <td>2021-02-09 12:00:00 UTC</td>\n",
              "      <td>TIRES</td>\n",
              "      <td>13800.0</td>\n",
              "      <td>MRF</td>\n",
              "      <td>2</td>\n",
              "    </tr>\n",
              "    <tr>\n",
              "      <th>7438</th>\n",
              "      <td>2021-04-12</td>\n",
              "      <td>2021-04-12 04:30:00 UTC</td>\n",
              "      <td>TIRES</td>\n",
              "      <td>6000.0</td>\n",
              "      <td>MRF</td>\n",
              "      <td>4</td>\n",
              "    </tr>\n",
              "    <tr>\n",
              "      <th>12868</th>\n",
              "      <td>2021-05-20</td>\n",
              "      <td>2021-05-20 03:30:00 UTC</td>\n",
              "      <td>TIRES</td>\n",
              "      <td>4770.0</td>\n",
              "      <td>MRF</td>\n",
              "      <td>5</td>\n",
              "    </tr>\n",
              "    <tr>\n",
              "      <th>8</th>\n",
              "      <td>2021-05-08</td>\n",
              "      <td>2021-05-08 09:05:00 UTC</td>\n",
              "      <td>TIRES</td>\n",
              "      <td>4360.0</td>\n",
              "      <td>MRF</td>\n",
              "      <td>5</td>\n",
              "    </tr>\n",
              "    <tr>\n",
              "      <th>17788</th>\n",
              "      <td>2021-06-28</td>\n",
              "      <td>2021-06-28 03:39:00 UTC</td>\n",
              "      <td>TIRES</td>\n",
              "      <td>4120.0</td>\n",
              "      <td>MRF</td>\n",
              "      <td>6</td>\n",
              "    </tr>\n",
              "    <tr>\n",
              "      <th>17787</th>\n",
              "      <td>2021-06-28</td>\n",
              "      <td>2021-06-28 11:01:00 UTC</td>\n",
              "      <td>TIRES</td>\n",
              "      <td>3520.0</td>\n",
              "      <td>MRF</td>\n",
              "      <td>6</td>\n",
              "    </tr>\n",
              "    <tr>\n",
              "      <th>13961</th>\n",
              "      <td>2021-05-28</td>\n",
              "      <td>2021-05-28 09:00:00 UTC</td>\n",
              "      <td>TIRES</td>\n",
              "      <td>3340.0</td>\n",
              "      <td>MRF</td>\n",
              "      <td>5</td>\n",
              "    </tr>\n",
              "    <tr>\n",
              "      <th>22068</th>\n",
              "      <td>2021-01-25</td>\n",
              "      <td>2021-01-25 02:27:00 UTC</td>\n",
              "      <td>TIRES</td>\n",
              "      <td>3260.0</td>\n",
              "      <td>MRF</td>\n",
              "      <td>1</td>\n",
              "    </tr>\n",
              "    <tr>\n",
              "      <th>18981</th>\n",
              "      <td>2021-07-07</td>\n",
              "      <td>2021-07-07 11:34:00 UTC</td>\n",
              "      <td>TIRES</td>\n",
              "      <td>3200.0</td>\n",
              "      <td>MRF</td>\n",
              "      <td>7</td>\n",
              "    </tr>\n",
              "    <tr>\n",
              "      <th>22280</th>\n",
              "      <td>2021-01-26</td>\n",
              "      <td>2021-01-26 03:23:00 UTC</td>\n",
              "      <td>TIRES</td>\n",
              "      <td>3140.0</td>\n",
              "      <td>MRF</td>\n",
              "      <td>1</td>\n",
              "    </tr>\n",
              "    <tr>\n",
              "      <th>22281</th>\n",
              "      <td>2021-01-26</td>\n",
              "      <td>2021-01-26 09:00:00 UTC</td>\n",
              "      <td>TIRES</td>\n",
              "      <td>3080.0</td>\n",
              "      <td>MRF</td>\n",
              "      <td>1</td>\n",
              "    </tr>\n",
              "    <tr>\n",
              "      <th>15560</th>\n",
              "      <td>2021-06-10</td>\n",
              "      <td>2021-06-10 10:20:00 UTC</td>\n",
              "      <td>TIRES</td>\n",
              "      <td>3060.0</td>\n",
              "      <td>MRF</td>\n",
              "      <td>6</td>\n",
              "    </tr>\n",
              "    <tr>\n",
              "      <th>16503</th>\n",
              "      <td>2021-06-17</td>\n",
              "      <td>2021-06-17 09:40:00 UTC</td>\n",
              "      <td>TIRES</td>\n",
              "      <td>3040.0</td>\n",
              "      <td>MRF</td>\n",
              "      <td>6</td>\n",
              "    </tr>\n",
              "    <tr>\n",
              "      <th>12</th>\n",
              "      <td>2021-03-20</td>\n",
              "      <td>2021-03-20 12:12:00 UTC</td>\n",
              "      <td>TIRES</td>\n",
              "      <td>3020.0</td>\n",
              "      <td>MRF</td>\n",
              "      <td>3</td>\n",
              "    </tr>\n",
              "    <tr>\n",
              "      <th>15561</th>\n",
              "      <td>2021-06-10</td>\n",
              "      <td>2021-06-10 12:30:00 UTC</td>\n",
              "      <td>TIRES</td>\n",
              "      <td>2960.0</td>\n",
              "      <td>MRF</td>\n",
              "      <td>6</td>\n",
              "    </tr>\n",
              "    <tr>\n",
              "      <th>12293</th>\n",
              "      <td>2021-05-17</td>\n",
              "      <td>2021-05-17 10:28:00 UTC</td>\n",
              "      <td>TIRES</td>\n",
              "      <td>2880.0</td>\n",
              "      <td>MRF</td>\n",
              "      <td>5</td>\n",
              "    </tr>\n",
              "    <tr>\n",
              "      <th>10405</th>\n",
              "      <td>2021-05-03</td>\n",
              "      <td>2021-05-03 02:14:00 UTC</td>\n",
              "      <td>TIRES</td>\n",
              "      <td>2780.0</td>\n",
              "      <td>MRF</td>\n",
              "      <td>5</td>\n",
              "    </tr>\n",
              "    <tr>\n",
              "      <th>13578</th>\n",
              "      <td>2021-05-26</td>\n",
              "      <td>2021-05-26 11:55:00 UTC</td>\n",
              "      <td>TIRES</td>\n",
              "      <td>2700.0</td>\n",
              "      <td>MRF</td>\n",
              "      <td>5</td>\n",
              "    </tr>\n",
              "    <tr>\n",
              "      <th>18816</th>\n",
              "      <td>2021-07-06</td>\n",
              "      <td>2021-07-06 12:25:00 UTC</td>\n",
              "      <td>TIRES</td>\n",
              "      <td>2700.0</td>\n",
              "      <td>MRF</td>\n",
              "      <td>7</td>\n",
              "    </tr>\n",
              "  </tbody>\n",
              "</table>\n",
              "</div>\n",
              "      <button class=\"colab-df-convert\" onclick=\"convertToInteractive('df-496e92d2-8fd4-4af2-9e46-510557e79ae9')\"\n",
              "              title=\"Convert this dataframe to an interactive table.\"\n",
              "              style=\"display:none;\">\n",
              "        \n",
              "  <svg xmlns=\"http://www.w3.org/2000/svg\" height=\"24px\"viewBox=\"0 0 24 24\"\n",
              "       width=\"24px\">\n",
              "    <path d=\"M0 0h24v24H0V0z\" fill=\"none\"/>\n",
              "    <path d=\"M18.56 5.44l.94 2.06.94-2.06 2.06-.94-2.06-.94-.94-2.06-.94 2.06-2.06.94zm-11 1L8.5 8.5l.94-2.06 2.06-.94-2.06-.94L8.5 2.5l-.94 2.06-2.06.94zm10 10l.94 2.06.94-2.06 2.06-.94-2.06-.94-.94-2.06-.94 2.06-2.06.94z\"/><path d=\"M17.41 7.96l-1.37-1.37c-.4-.4-.92-.59-1.43-.59-.52 0-1.04.2-1.43.59L10.3 9.45l-7.72 7.72c-.78.78-.78 2.05 0 2.83L4 21.41c.39.39.9.59 1.41.59.51 0 1.02-.2 1.41-.59l7.78-7.78 2.81-2.81c.8-.78.8-2.07 0-2.86zM5.41 20L4 18.59l7.72-7.72 1.47 1.35L5.41 20z\"/>\n",
              "  </svg>\n",
              "      </button>\n",
              "      \n",
              "  <style>\n",
              "    .colab-df-container {\n",
              "      display:flex;\n",
              "      flex-wrap:wrap;\n",
              "      gap: 12px;\n",
              "    }\n",
              "\n",
              "    .colab-df-convert {\n",
              "      background-color: #E8F0FE;\n",
              "      border: none;\n",
              "      border-radius: 50%;\n",
              "      cursor: pointer;\n",
              "      display: none;\n",
              "      fill: #1967D2;\n",
              "      height: 32px;\n",
              "      padding: 0 0 0 0;\n",
              "      width: 32px;\n",
              "    }\n",
              "\n",
              "    .colab-df-convert:hover {\n",
              "      background-color: #E2EBFA;\n",
              "      box-shadow: 0px 1px 2px rgba(60, 64, 67, 0.3), 0px 1px 3px 1px rgba(60, 64, 67, 0.15);\n",
              "      fill: #174EA6;\n",
              "    }\n",
              "\n",
              "    [theme=dark] .colab-df-convert {\n",
              "      background-color: #3B4455;\n",
              "      fill: #D2E3FC;\n",
              "    }\n",
              "\n",
              "    [theme=dark] .colab-df-convert:hover {\n",
              "      background-color: #434B5C;\n",
              "      box-shadow: 0px 1px 3px 1px rgba(0, 0, 0, 0.15);\n",
              "      filter: drop-shadow(0px 1px 2px rgba(0, 0, 0, 0.3));\n",
              "      fill: #FFFFFF;\n",
              "    }\n",
              "  </style>\n",
              "\n",
              "      <script>\n",
              "        const buttonEl =\n",
              "          document.querySelector('#df-496e92d2-8fd4-4af2-9e46-510557e79ae9 button.colab-df-convert');\n",
              "        buttonEl.style.display =\n",
              "          google.colab.kernel.accessAllowed ? 'block' : 'none';\n",
              "\n",
              "        async function convertToInteractive(key) {\n",
              "          const element = document.querySelector('#df-496e92d2-8fd4-4af2-9e46-510557e79ae9');\n",
              "          const dataTable =\n",
              "            await google.colab.kernel.invokeFunction('convertToInteractive',\n",
              "                                                     [key], {});\n",
              "          if (!dataTable) return;\n",
              "\n",
              "          const docLinkHtml = 'Like what you see? Visit the ' +\n",
              "            '<a target=\"_blank\" href=https://colab.research.google.com/notebooks/data_table.ipynb>data table notebook</a>'\n",
              "            + ' to learn more about interactive tables.';\n",
              "          element.innerHTML = '';\n",
              "          dataTable['output_type'] = 'display_data';\n",
              "          await google.colab.output.renderOutput(dataTable, element);\n",
              "          const docLink = document.createElement('div');\n",
              "          docLink.innerHTML = docLinkHtml;\n",
              "          element.appendChild(docLink);\n",
              "        }\n",
              "      </script>\n",
              "    </div>\n",
              "  </div>\n",
              "  "
            ]
          },
          "metadata": {},
          "execution_count": 24
        }
      ]
    },
    {
      "cell_type": "code",
      "source": [
        "# Menampilkan 20 data teratas dari data dengan jenis limbah ORGANICS\n",
        "data_limbah.query(\"load_type == 'ORGANICS'\").sort_values(['load_weight'], ascending=False).head(20)"
      ],
      "metadata": {
        "colab": {
          "base_uri": "https://localhost:8080/",
          "height": 676
        },
        "id": "md61Yq2tPpU3",
        "outputId": "7b18beab-4508-4a9d-b5c8-1246a95d5657"
      },
      "execution_count": null,
      "outputs": [
        {
          "output_type": "execute_result",
          "data": {
            "text/plain": [
              "      report_date                load_time load_type  load_weight  \\\n",
              "14759  2021-06-03  2021-06-03 07:05:00 UTC  ORGANICS      29660.0   \n",
              "16120  2021-06-14  2021-06-14 06:15:00 UTC  ORGANICS      29160.0   \n",
              "15165  2021-06-07  2021-06-07 12:00:00 UTC  ORGANICS      29000.0   \n",
              "14594  2021-06-02  2021-06-02 05:39:00 UTC  ORGANICS      28120.0   \n",
              "25825  2021-02-26  2021-02-26 05:12:00 UTC  ORGANICS      27620.0   \n",
              "26116  2021-03-01  2021-03-01 05:36:00 UTC  ORGANICS      27300.0   \n",
              "3443   2021-03-15  2021-03-15 12:00:00 UTC  ORGANICS      27240.0   \n",
              "16299  2021-06-15  2021-06-15 02:07:00 UTC  ORGANICS      27120.0   \n",
              "25139  2021-02-23  2021-02-23 03:03:00 UTC  ORGANICS      26400.0   \n",
              "14925  2021-06-04  2021-06-04 04:58:00 UTC  ORGANICS      26240.0   \n",
              "798    2021-03-14  2021-03-14 03:39:00 UTC  ORGANICS      26160.0   \n",
              "1300   2021-03-02  2021-03-02 03:49:00 UTC  ORGANICS      26140.0   \n",
              "1916   2021-03-05  2021-03-05 09:00:00 UTC  ORGANICS      26080.0   \n",
              "18803  2021-07-05  2021-07-07 12:00:00 UTC  ORGANICS      25980.0   \n",
              "15154  2021-06-07  2021-06-07 07:00:00 UTC  ORGANICS      25800.0   \n",
              "14767  2021-06-03  2021-06-03 06:22:00 UTC  ORGANICS      25800.0   \n",
              "15140  2021-06-07  2021-06-07 07:19:00 UTC  ORGANICS      25740.0   \n",
              "14291  2021-05-31  2021-06-01 09:04:00 UTC  ORGANICS      25680.0   \n",
              "15163  2021-06-07  2021-06-07 03:08:00 UTC  ORGANICS      25660.0   \n",
              "10184  2021-04-29  2021-04-29 04:52:00 UTC  ORGANICS      25500.0   \n",
              "\n",
              "           dropoff_site  Month  \n",
              "14759  ORGANICS BY GOSH      6  \n",
              "16120  ORGANICS BY GOSH      6  \n",
              "15165  ORGANICS BY GOSH      6  \n",
              "14594  ORGANICS BY GOSH      6  \n",
              "25825  ORGANICS BY GOSH      2  \n",
              "26116  ORGANICS BY GOSH      3  \n",
              "3443   ORGANICS BY GOSH      3  \n",
              "16299  ORGANICS BY GOSH      6  \n",
              "25139  ORGANICS BY GOSH      2  \n",
              "14925  ORGANICS BY GOSH      6  \n",
              "798    ORGANICS BY GOSH      3  \n",
              "1300   ORGANICS BY GOSH      3  \n",
              "1916   ORGANICS BY GOSH      3  \n",
              "18803  ORGANICS BY GOSH      7  \n",
              "15154  ORGANICS BY GOSH      6  \n",
              "14767  ORGANICS BY GOSH      6  \n",
              "15140  ORGANICS BY GOSH      6  \n",
              "14291  ORGANICS BY GOSH      5  \n",
              "15163  ORGANICS BY GOSH      6  \n",
              "10184  ORGANICS BY GOSH      4  "
            ],
            "text/html": [
              "\n",
              "  <div id=\"df-da09d645-004c-4e95-95db-32c20de37e9b\">\n",
              "    <div class=\"colab-df-container\">\n",
              "      <div>\n",
              "<style scoped>\n",
              "    .dataframe tbody tr th:only-of-type {\n",
              "        vertical-align: middle;\n",
              "    }\n",
              "\n",
              "    .dataframe tbody tr th {\n",
              "        vertical-align: top;\n",
              "    }\n",
              "\n",
              "    .dataframe thead th {\n",
              "        text-align: right;\n",
              "    }\n",
              "</style>\n",
              "<table border=\"1\" class=\"dataframe\">\n",
              "  <thead>\n",
              "    <tr style=\"text-align: right;\">\n",
              "      <th></th>\n",
              "      <th>report_date</th>\n",
              "      <th>load_time</th>\n",
              "      <th>load_type</th>\n",
              "      <th>load_weight</th>\n",
              "      <th>dropoff_site</th>\n",
              "      <th>Month</th>\n",
              "    </tr>\n",
              "  </thead>\n",
              "  <tbody>\n",
              "    <tr>\n",
              "      <th>14759</th>\n",
              "      <td>2021-06-03</td>\n",
              "      <td>2021-06-03 07:05:00 UTC</td>\n",
              "      <td>ORGANICS</td>\n",
              "      <td>29660.0</td>\n",
              "      <td>ORGANICS BY GOSH</td>\n",
              "      <td>6</td>\n",
              "    </tr>\n",
              "    <tr>\n",
              "      <th>16120</th>\n",
              "      <td>2021-06-14</td>\n",
              "      <td>2021-06-14 06:15:00 UTC</td>\n",
              "      <td>ORGANICS</td>\n",
              "      <td>29160.0</td>\n",
              "      <td>ORGANICS BY GOSH</td>\n",
              "      <td>6</td>\n",
              "    </tr>\n",
              "    <tr>\n",
              "      <th>15165</th>\n",
              "      <td>2021-06-07</td>\n",
              "      <td>2021-06-07 12:00:00 UTC</td>\n",
              "      <td>ORGANICS</td>\n",
              "      <td>29000.0</td>\n",
              "      <td>ORGANICS BY GOSH</td>\n",
              "      <td>6</td>\n",
              "    </tr>\n",
              "    <tr>\n",
              "      <th>14594</th>\n",
              "      <td>2021-06-02</td>\n",
              "      <td>2021-06-02 05:39:00 UTC</td>\n",
              "      <td>ORGANICS</td>\n",
              "      <td>28120.0</td>\n",
              "      <td>ORGANICS BY GOSH</td>\n",
              "      <td>6</td>\n",
              "    </tr>\n",
              "    <tr>\n",
              "      <th>25825</th>\n",
              "      <td>2021-02-26</td>\n",
              "      <td>2021-02-26 05:12:00 UTC</td>\n",
              "      <td>ORGANICS</td>\n",
              "      <td>27620.0</td>\n",
              "      <td>ORGANICS BY GOSH</td>\n",
              "      <td>2</td>\n",
              "    </tr>\n",
              "    <tr>\n",
              "      <th>26116</th>\n",
              "      <td>2021-03-01</td>\n",
              "      <td>2021-03-01 05:36:00 UTC</td>\n",
              "      <td>ORGANICS</td>\n",
              "      <td>27300.0</td>\n",
              "      <td>ORGANICS BY GOSH</td>\n",
              "      <td>3</td>\n",
              "    </tr>\n",
              "    <tr>\n",
              "      <th>3443</th>\n",
              "      <td>2021-03-15</td>\n",
              "      <td>2021-03-15 12:00:00 UTC</td>\n",
              "      <td>ORGANICS</td>\n",
              "      <td>27240.0</td>\n",
              "      <td>ORGANICS BY GOSH</td>\n",
              "      <td>3</td>\n",
              "    </tr>\n",
              "    <tr>\n",
              "      <th>16299</th>\n",
              "      <td>2021-06-15</td>\n",
              "      <td>2021-06-15 02:07:00 UTC</td>\n",
              "      <td>ORGANICS</td>\n",
              "      <td>27120.0</td>\n",
              "      <td>ORGANICS BY GOSH</td>\n",
              "      <td>6</td>\n",
              "    </tr>\n",
              "    <tr>\n",
              "      <th>25139</th>\n",
              "      <td>2021-02-23</td>\n",
              "      <td>2021-02-23 03:03:00 UTC</td>\n",
              "      <td>ORGANICS</td>\n",
              "      <td>26400.0</td>\n",
              "      <td>ORGANICS BY GOSH</td>\n",
              "      <td>2</td>\n",
              "    </tr>\n",
              "    <tr>\n",
              "      <th>14925</th>\n",
              "      <td>2021-06-04</td>\n",
              "      <td>2021-06-04 04:58:00 UTC</td>\n",
              "      <td>ORGANICS</td>\n",
              "      <td>26240.0</td>\n",
              "      <td>ORGANICS BY GOSH</td>\n",
              "      <td>6</td>\n",
              "    </tr>\n",
              "    <tr>\n",
              "      <th>798</th>\n",
              "      <td>2021-03-14</td>\n",
              "      <td>2021-03-14 03:39:00 UTC</td>\n",
              "      <td>ORGANICS</td>\n",
              "      <td>26160.0</td>\n",
              "      <td>ORGANICS BY GOSH</td>\n",
              "      <td>3</td>\n",
              "    </tr>\n",
              "    <tr>\n",
              "      <th>1300</th>\n",
              "      <td>2021-03-02</td>\n",
              "      <td>2021-03-02 03:49:00 UTC</td>\n",
              "      <td>ORGANICS</td>\n",
              "      <td>26140.0</td>\n",
              "      <td>ORGANICS BY GOSH</td>\n",
              "      <td>3</td>\n",
              "    </tr>\n",
              "    <tr>\n",
              "      <th>1916</th>\n",
              "      <td>2021-03-05</td>\n",
              "      <td>2021-03-05 09:00:00 UTC</td>\n",
              "      <td>ORGANICS</td>\n",
              "      <td>26080.0</td>\n",
              "      <td>ORGANICS BY GOSH</td>\n",
              "      <td>3</td>\n",
              "    </tr>\n",
              "    <tr>\n",
              "      <th>18803</th>\n",
              "      <td>2021-07-05</td>\n",
              "      <td>2021-07-07 12:00:00 UTC</td>\n",
              "      <td>ORGANICS</td>\n",
              "      <td>25980.0</td>\n",
              "      <td>ORGANICS BY GOSH</td>\n",
              "      <td>7</td>\n",
              "    </tr>\n",
              "    <tr>\n",
              "      <th>15154</th>\n",
              "      <td>2021-06-07</td>\n",
              "      <td>2021-06-07 07:00:00 UTC</td>\n",
              "      <td>ORGANICS</td>\n",
              "      <td>25800.0</td>\n",
              "      <td>ORGANICS BY GOSH</td>\n",
              "      <td>6</td>\n",
              "    </tr>\n",
              "    <tr>\n",
              "      <th>14767</th>\n",
              "      <td>2021-06-03</td>\n",
              "      <td>2021-06-03 06:22:00 UTC</td>\n",
              "      <td>ORGANICS</td>\n",
              "      <td>25800.0</td>\n",
              "      <td>ORGANICS BY GOSH</td>\n",
              "      <td>6</td>\n",
              "    </tr>\n",
              "    <tr>\n",
              "      <th>15140</th>\n",
              "      <td>2021-06-07</td>\n",
              "      <td>2021-06-07 07:19:00 UTC</td>\n",
              "      <td>ORGANICS</td>\n",
              "      <td>25740.0</td>\n",
              "      <td>ORGANICS BY GOSH</td>\n",
              "      <td>6</td>\n",
              "    </tr>\n",
              "    <tr>\n",
              "      <th>14291</th>\n",
              "      <td>2021-05-31</td>\n",
              "      <td>2021-06-01 09:04:00 UTC</td>\n",
              "      <td>ORGANICS</td>\n",
              "      <td>25680.0</td>\n",
              "      <td>ORGANICS BY GOSH</td>\n",
              "      <td>5</td>\n",
              "    </tr>\n",
              "    <tr>\n",
              "      <th>15163</th>\n",
              "      <td>2021-06-07</td>\n",
              "      <td>2021-06-07 03:08:00 UTC</td>\n",
              "      <td>ORGANICS</td>\n",
              "      <td>25660.0</td>\n",
              "      <td>ORGANICS BY GOSH</td>\n",
              "      <td>6</td>\n",
              "    </tr>\n",
              "    <tr>\n",
              "      <th>10184</th>\n",
              "      <td>2021-04-29</td>\n",
              "      <td>2021-04-29 04:52:00 UTC</td>\n",
              "      <td>ORGANICS</td>\n",
              "      <td>25500.0</td>\n",
              "      <td>ORGANICS BY GOSH</td>\n",
              "      <td>4</td>\n",
              "    </tr>\n",
              "  </tbody>\n",
              "</table>\n",
              "</div>\n",
              "      <button class=\"colab-df-convert\" onclick=\"convertToInteractive('df-da09d645-004c-4e95-95db-32c20de37e9b')\"\n",
              "              title=\"Convert this dataframe to an interactive table.\"\n",
              "              style=\"display:none;\">\n",
              "        \n",
              "  <svg xmlns=\"http://www.w3.org/2000/svg\" height=\"24px\"viewBox=\"0 0 24 24\"\n",
              "       width=\"24px\">\n",
              "    <path d=\"M0 0h24v24H0V0z\" fill=\"none\"/>\n",
              "    <path d=\"M18.56 5.44l.94 2.06.94-2.06 2.06-.94-2.06-.94-.94-2.06-.94 2.06-2.06.94zm-11 1L8.5 8.5l.94-2.06 2.06-.94-2.06-.94L8.5 2.5l-.94 2.06-2.06.94zm10 10l.94 2.06.94-2.06 2.06-.94-2.06-.94-.94-2.06-.94 2.06-2.06.94z\"/><path d=\"M17.41 7.96l-1.37-1.37c-.4-.4-.92-.59-1.43-.59-.52 0-1.04.2-1.43.59L10.3 9.45l-7.72 7.72c-.78.78-.78 2.05 0 2.83L4 21.41c.39.39.9.59 1.41.59.51 0 1.02-.2 1.41-.59l7.78-7.78 2.81-2.81c.8-.78.8-2.07 0-2.86zM5.41 20L4 18.59l7.72-7.72 1.47 1.35L5.41 20z\"/>\n",
              "  </svg>\n",
              "      </button>\n",
              "      \n",
              "  <style>\n",
              "    .colab-df-container {\n",
              "      display:flex;\n",
              "      flex-wrap:wrap;\n",
              "      gap: 12px;\n",
              "    }\n",
              "\n",
              "    .colab-df-convert {\n",
              "      background-color: #E8F0FE;\n",
              "      border: none;\n",
              "      border-radius: 50%;\n",
              "      cursor: pointer;\n",
              "      display: none;\n",
              "      fill: #1967D2;\n",
              "      height: 32px;\n",
              "      padding: 0 0 0 0;\n",
              "      width: 32px;\n",
              "    }\n",
              "\n",
              "    .colab-df-convert:hover {\n",
              "      background-color: #E2EBFA;\n",
              "      box-shadow: 0px 1px 2px rgba(60, 64, 67, 0.3), 0px 1px 3px 1px rgba(60, 64, 67, 0.15);\n",
              "      fill: #174EA6;\n",
              "    }\n",
              "\n",
              "    [theme=dark] .colab-df-convert {\n",
              "      background-color: #3B4455;\n",
              "      fill: #D2E3FC;\n",
              "    }\n",
              "\n",
              "    [theme=dark] .colab-df-convert:hover {\n",
              "      background-color: #434B5C;\n",
              "      box-shadow: 0px 1px 3px 1px rgba(0, 0, 0, 0.15);\n",
              "      filter: drop-shadow(0px 1px 2px rgba(0, 0, 0, 0.3));\n",
              "      fill: #FFFFFF;\n",
              "    }\n",
              "  </style>\n",
              "\n",
              "      <script>\n",
              "        const buttonEl =\n",
              "          document.querySelector('#df-da09d645-004c-4e95-95db-32c20de37e9b button.colab-df-convert');\n",
              "        buttonEl.style.display =\n",
              "          google.colab.kernel.accessAllowed ? 'block' : 'none';\n",
              "\n",
              "        async function convertToInteractive(key) {\n",
              "          const element = document.querySelector('#df-da09d645-004c-4e95-95db-32c20de37e9b');\n",
              "          const dataTable =\n",
              "            await google.colab.kernel.invokeFunction('convertToInteractive',\n",
              "                                                     [key], {});\n",
              "          if (!dataTable) return;\n",
              "\n",
              "          const docLinkHtml = 'Like what you see? Visit the ' +\n",
              "            '<a target=\"_blank\" href=https://colab.research.google.com/notebooks/data_table.ipynb>data table notebook</a>'\n",
              "            + ' to learn more about interactive tables.';\n",
              "          element.innerHTML = '';\n",
              "          dataTable['output_type'] = 'display_data';\n",
              "          await google.colab.output.renderOutput(dataTable, element);\n",
              "          const docLink = document.createElement('div');\n",
              "          docLink.innerHTML = docLinkHtml;\n",
              "          element.appendChild(docLink);\n",
              "        }\n",
              "      </script>\n",
              "    </div>\n",
              "  </div>\n",
              "  "
            ]
          },
          "metadata": {},
          "execution_count": 25
        }
      ]
    },
    {
      "cell_type": "code",
      "source": [
        "# Menampilkan 20 data teratas dari data dengan jenis limbah LITTER pada bulan April\n",
        "data_limbah.query(\"load_type == 'LITTER'& \\\n",
        "                  Month == 4\").sort_values(['load_weight'], ascending=False).head(20)"
      ],
      "metadata": {
        "colab": {
          "base_uri": "https://localhost:8080/",
          "height": 363
        },
        "id": "H-Ew8zvvQJSn",
        "outputId": "7bdeeb1a-edfc-4d9b-ea68-d5a910fbbc28"
      },
      "execution_count": null,
      "outputs": [
        {
          "output_type": "execute_result",
          "data": {
            "text/plain": [
              "      report_date                load_time load_type  load_weight  \\\n",
              "611    2021-04-17  2021-04-17 12:00:00 UTC    LITTER       6340.0   \n",
              "9168   2021-04-22  2021-04-22 12:00:00 UTC    LITTER       5200.0   \n",
              "9364   2021-04-23  2021-04-23 12:00:00 UTC    LITTER       3060.0   \n",
              "10287  2021-04-30  2021-04-30 12:00:00 UTC    LITTER       2660.0   \n",
              "610    2021-04-10  2021-04-10 12:00:00 UTC    LITTER       2580.0   \n",
              "9365   2021-04-23  2021-04-23 12:00:00 UTC    LITTER       1160.0   \n",
              "8136   2021-04-15  2021-04-15 12:00:00 UTC    LITTER       1100.0   \n",
              "7297   2021-04-09  2021-04-09 12:00:00 UTC    LITTER       1080.0   \n",
              "8360   2021-04-16  2021-04-16 12:00:00 UTC    LITTER       1000.0   \n",
              "8150   2021-04-15  2021-04-15 12:00:00 UTC    LITTER        900.0   \n",
              "\n",
              "       dropoff_site  Month  \n",
              "611    TDS LANDFILL      4  \n",
              "9168   TDS LANDFILL      4  \n",
              "9364   TDS LANDFILL      4  \n",
              "10287  TDS LANDFILL      4  \n",
              "610    TDS LANDFILL      4  \n",
              "9365   TDS LANDFILL      4  \n",
              "8136   TDS LANDFILL      4  \n",
              "7297   TDS LANDFILL      4  \n",
              "8360   TDS LANDFILL      4  \n",
              "8150   TDS LANDFILL      4  "
            ],
            "text/html": [
              "\n",
              "  <div id=\"df-171b1d4b-3838-44ce-927b-3816beaaa887\">\n",
              "    <div class=\"colab-df-container\">\n",
              "      <div>\n",
              "<style scoped>\n",
              "    .dataframe tbody tr th:only-of-type {\n",
              "        vertical-align: middle;\n",
              "    }\n",
              "\n",
              "    .dataframe tbody tr th {\n",
              "        vertical-align: top;\n",
              "    }\n",
              "\n",
              "    .dataframe thead th {\n",
              "        text-align: right;\n",
              "    }\n",
              "</style>\n",
              "<table border=\"1\" class=\"dataframe\">\n",
              "  <thead>\n",
              "    <tr style=\"text-align: right;\">\n",
              "      <th></th>\n",
              "      <th>report_date</th>\n",
              "      <th>load_time</th>\n",
              "      <th>load_type</th>\n",
              "      <th>load_weight</th>\n",
              "      <th>dropoff_site</th>\n",
              "      <th>Month</th>\n",
              "    </tr>\n",
              "  </thead>\n",
              "  <tbody>\n",
              "    <tr>\n",
              "      <th>611</th>\n",
              "      <td>2021-04-17</td>\n",
              "      <td>2021-04-17 12:00:00 UTC</td>\n",
              "      <td>LITTER</td>\n",
              "      <td>6340.0</td>\n",
              "      <td>TDS LANDFILL</td>\n",
              "      <td>4</td>\n",
              "    </tr>\n",
              "    <tr>\n",
              "      <th>9168</th>\n",
              "      <td>2021-04-22</td>\n",
              "      <td>2021-04-22 12:00:00 UTC</td>\n",
              "      <td>LITTER</td>\n",
              "      <td>5200.0</td>\n",
              "      <td>TDS LANDFILL</td>\n",
              "      <td>4</td>\n",
              "    </tr>\n",
              "    <tr>\n",
              "      <th>9364</th>\n",
              "      <td>2021-04-23</td>\n",
              "      <td>2021-04-23 12:00:00 UTC</td>\n",
              "      <td>LITTER</td>\n",
              "      <td>3060.0</td>\n",
              "      <td>TDS LANDFILL</td>\n",
              "      <td>4</td>\n",
              "    </tr>\n",
              "    <tr>\n",
              "      <th>10287</th>\n",
              "      <td>2021-04-30</td>\n",
              "      <td>2021-04-30 12:00:00 UTC</td>\n",
              "      <td>LITTER</td>\n",
              "      <td>2660.0</td>\n",
              "      <td>TDS LANDFILL</td>\n",
              "      <td>4</td>\n",
              "    </tr>\n",
              "    <tr>\n",
              "      <th>610</th>\n",
              "      <td>2021-04-10</td>\n",
              "      <td>2021-04-10 12:00:00 UTC</td>\n",
              "      <td>LITTER</td>\n",
              "      <td>2580.0</td>\n",
              "      <td>TDS LANDFILL</td>\n",
              "      <td>4</td>\n",
              "    </tr>\n",
              "    <tr>\n",
              "      <th>9365</th>\n",
              "      <td>2021-04-23</td>\n",
              "      <td>2021-04-23 12:00:00 UTC</td>\n",
              "      <td>LITTER</td>\n",
              "      <td>1160.0</td>\n",
              "      <td>TDS LANDFILL</td>\n",
              "      <td>4</td>\n",
              "    </tr>\n",
              "    <tr>\n",
              "      <th>8136</th>\n",
              "      <td>2021-04-15</td>\n",
              "      <td>2021-04-15 12:00:00 UTC</td>\n",
              "      <td>LITTER</td>\n",
              "      <td>1100.0</td>\n",
              "      <td>TDS LANDFILL</td>\n",
              "      <td>4</td>\n",
              "    </tr>\n",
              "    <tr>\n",
              "      <th>7297</th>\n",
              "      <td>2021-04-09</td>\n",
              "      <td>2021-04-09 12:00:00 UTC</td>\n",
              "      <td>LITTER</td>\n",
              "      <td>1080.0</td>\n",
              "      <td>TDS LANDFILL</td>\n",
              "      <td>4</td>\n",
              "    </tr>\n",
              "    <tr>\n",
              "      <th>8360</th>\n",
              "      <td>2021-04-16</td>\n",
              "      <td>2021-04-16 12:00:00 UTC</td>\n",
              "      <td>LITTER</td>\n",
              "      <td>1000.0</td>\n",
              "      <td>TDS LANDFILL</td>\n",
              "      <td>4</td>\n",
              "    </tr>\n",
              "    <tr>\n",
              "      <th>8150</th>\n",
              "      <td>2021-04-15</td>\n",
              "      <td>2021-04-15 12:00:00 UTC</td>\n",
              "      <td>LITTER</td>\n",
              "      <td>900.0</td>\n",
              "      <td>TDS LANDFILL</td>\n",
              "      <td>4</td>\n",
              "    </tr>\n",
              "  </tbody>\n",
              "</table>\n",
              "</div>\n",
              "      <button class=\"colab-df-convert\" onclick=\"convertToInteractive('df-171b1d4b-3838-44ce-927b-3816beaaa887')\"\n",
              "              title=\"Convert this dataframe to an interactive table.\"\n",
              "              style=\"display:none;\">\n",
              "        \n",
              "  <svg xmlns=\"http://www.w3.org/2000/svg\" height=\"24px\"viewBox=\"0 0 24 24\"\n",
              "       width=\"24px\">\n",
              "    <path d=\"M0 0h24v24H0V0z\" fill=\"none\"/>\n",
              "    <path d=\"M18.56 5.44l.94 2.06.94-2.06 2.06-.94-2.06-.94-.94-2.06-.94 2.06-2.06.94zm-11 1L8.5 8.5l.94-2.06 2.06-.94-2.06-.94L8.5 2.5l-.94 2.06-2.06.94zm10 10l.94 2.06.94-2.06 2.06-.94-2.06-.94-.94-2.06-.94 2.06-2.06.94z\"/><path d=\"M17.41 7.96l-1.37-1.37c-.4-.4-.92-.59-1.43-.59-.52 0-1.04.2-1.43.59L10.3 9.45l-7.72 7.72c-.78.78-.78 2.05 0 2.83L4 21.41c.39.39.9.59 1.41.59.51 0 1.02-.2 1.41-.59l7.78-7.78 2.81-2.81c.8-.78.8-2.07 0-2.86zM5.41 20L4 18.59l7.72-7.72 1.47 1.35L5.41 20z\"/>\n",
              "  </svg>\n",
              "      </button>\n",
              "      \n",
              "  <style>\n",
              "    .colab-df-container {\n",
              "      display:flex;\n",
              "      flex-wrap:wrap;\n",
              "      gap: 12px;\n",
              "    }\n",
              "\n",
              "    .colab-df-convert {\n",
              "      background-color: #E8F0FE;\n",
              "      border: none;\n",
              "      border-radius: 50%;\n",
              "      cursor: pointer;\n",
              "      display: none;\n",
              "      fill: #1967D2;\n",
              "      height: 32px;\n",
              "      padding: 0 0 0 0;\n",
              "      width: 32px;\n",
              "    }\n",
              "\n",
              "    .colab-df-convert:hover {\n",
              "      background-color: #E2EBFA;\n",
              "      box-shadow: 0px 1px 2px rgba(60, 64, 67, 0.3), 0px 1px 3px 1px rgba(60, 64, 67, 0.15);\n",
              "      fill: #174EA6;\n",
              "    }\n",
              "\n",
              "    [theme=dark] .colab-df-convert {\n",
              "      background-color: #3B4455;\n",
              "      fill: #D2E3FC;\n",
              "    }\n",
              "\n",
              "    [theme=dark] .colab-df-convert:hover {\n",
              "      background-color: #434B5C;\n",
              "      box-shadow: 0px 1px 3px 1px rgba(0, 0, 0, 0.15);\n",
              "      filter: drop-shadow(0px 1px 2px rgba(0, 0, 0, 0.3));\n",
              "      fill: #FFFFFF;\n",
              "    }\n",
              "  </style>\n",
              "\n",
              "      <script>\n",
              "        const buttonEl =\n",
              "          document.querySelector('#df-171b1d4b-3838-44ce-927b-3816beaaa887 button.colab-df-convert');\n",
              "        buttonEl.style.display =\n",
              "          google.colab.kernel.accessAllowed ? 'block' : 'none';\n",
              "\n",
              "        async function convertToInteractive(key) {\n",
              "          const element = document.querySelector('#df-171b1d4b-3838-44ce-927b-3816beaaa887');\n",
              "          const dataTable =\n",
              "            await google.colab.kernel.invokeFunction('convertToInteractive',\n",
              "                                                     [key], {});\n",
              "          if (!dataTable) return;\n",
              "\n",
              "          const docLinkHtml = 'Like what you see? Visit the ' +\n",
              "            '<a target=\"_blank\" href=https://colab.research.google.com/notebooks/data_table.ipynb>data table notebook</a>'\n",
              "            + ' to learn more about interactive tables.';\n",
              "          element.innerHTML = '';\n",
              "          dataTable['output_type'] = 'display_data';\n",
              "          await google.colab.output.renderOutput(dataTable, element);\n",
              "          const docLink = document.createElement('div');\n",
              "          docLink.innerHTML = docLinkHtml;\n",
              "          element.appendChild(docLink);\n",
              "        }\n",
              "      </script>\n",
              "    </div>\n",
              "  </div>\n",
              "  "
            ]
          },
          "metadata": {},
          "execution_count": 26
        }
      ]
    },
    {
      "cell_type": "code",
      "source": [
        "# Menampilkan jumlah data limbah berdasarkan load_type pada tiap dropff_site yang ada pada tahun 2021\n",
        "data_limbah[(data_limbah['Month'] >= 1)].groupby(['dropoff_site', 'load_type'])['load_type'].count()"
      ],
      "metadata": {
        "colab": {
          "base_uri": "https://localhost:8080/"
        },
        "id": "YNMaoYCjIgEo",
        "outputId": "30353273-e13b-4d7a-d0f9-b5315ea9ebf4"
      },
      "execution_count": null,
      "outputs": [
        {
          "output_type": "execute_result",
          "data": {
            "text/plain": [
              "dropoff_site           load_type                \n",
              "AUSTIN IRON AND METAL  RECYCLED METAL                 50\n",
              "AUSTIN WOOD RECYCLING  RECYCLING - SINGLE STREAM       2\n",
              "BALCONES RECYCLING     RECYCLING - SINGLE STREAM    3837\n",
              "BALCONES WOODS         RECYCLING - SINGLE STREAM       1\n",
              "GREAT NORTHERN         GARBAGE COLLECTIONS             6\n",
              "                       SWEEPING                       64\n",
              "HORNSBY BEND           BRUSH                        1515\n",
              "                       GARBAGE COLLECTIONS             1\n",
              "                       ORGANICS                        2\n",
              "                       YARD TRIMMING                 137\n",
              "MRF                    BULK                            2\n",
              "                       RECYCLED METAL                  1\n",
              "                       TIRES                         165\n",
              "ON ROUTE HIGH DUMP     ORGANICS                        7\n",
              "                       SWEEPING                       74\n",
              "ONION CREEK            SWEEPING                      813\n",
              "ORGANICS BY GOSH       DEAD ANIMAL                    19\n",
              "                       GARBAGE COLLECTIONS             1\n",
              "                       ORGANICS                     5728\n",
              "                       RECYCLED METAL                  5\n",
              "                       SWEEPING                        2\n",
              "PARK BEND              ORGANICS                        4\n",
              "PARK CENTER            SWEEPING                       75\n",
              "ST. EDWARDS            SWEEPING                        1\n",
              "STEINER LANDFILL       GARBAGE COLLECTIONS             1\n",
              "TDS - MRF              BULK                            2\n",
              "                       GARBAGE COLLECTIONS            28\n",
              "                       LITTER                          1\n",
              "                       RECYCLING - SINGLE STREAM    2917\n",
              "TDS LANDFILL           BRUSH                           2\n",
              "                       BULK                         1590\n",
              "                       CONTAMINATED ORGANICS           1\n",
              "                       CONTAMINATED RECYCLING          1\n",
              "                       DEAD ANIMAL                   131\n",
              "                       GARBAGE COLLECTIONS          8204\n",
              "                       LITTER                         40\n",
              "                       MIXED LITTER                  329\n",
              "                       ORGANICS                       22\n",
              "                       RECYCLED METAL                  1\n",
              "                       RECYCLING - SINGLE STREAM       3\n",
              "                       SWEEPING                      360\n",
              "                       TIRES                          10\n",
              "WESTFIELD              GARBAGE COLLECTIONS             1\n",
              "WILCAB                 SWEEPING                        1\n",
              "Name: load_type, dtype: int64"
            ]
          },
          "metadata": {},
          "execution_count": 27
        }
      ]
    },
    {
      "cell_type": "code",
      "source": [
        "# Menampilkan jumlah data limbah pada tiap dropff_site yang ada pada tahun 2021\n",
        "data_limbah[(data_limbah['Month'] >= 1)].groupby(['dropoff_site'])['load_type'].count()"
      ],
      "metadata": {
        "colab": {
          "base_uri": "https://localhost:8080/"
        },
        "id": "6rpKnbrxkAdi",
        "outputId": "222934b9-925e-4bdd-fb10-429c1ce51cc4"
      },
      "execution_count": null,
      "outputs": [
        {
          "output_type": "execute_result",
          "data": {
            "text/plain": [
              "dropoff_site\n",
              "AUSTIN IRON AND METAL       50\n",
              "AUSTIN WOOD RECYCLING        2\n",
              "BALCONES RECYCLING        3837\n",
              "BALCONES WOODS               1\n",
              "GREAT NORTHERN              70\n",
              "HORNSBY BEND              1655\n",
              "MRF                        168\n",
              "ON ROUTE HIGH DUMP          81\n",
              "ONION CREEK                813\n",
              "ORGANICS BY GOSH          5755\n",
              "PARK BEND                    4\n",
              "PARK CENTER                 75\n",
              "ST. EDWARDS                  1\n",
              "STEINER LANDFILL             1\n",
              "TDS - MRF                 2948\n",
              "TDS LANDFILL             10694\n",
              "WESTFIELD                    1\n",
              "WILCAB                       1\n",
              "Name: load_type, dtype: int64"
            ]
          },
          "metadata": {},
          "execution_count": 28
        }
      ]
    },
    {
      "cell_type": "code",
      "source": [
        "# Menampilkan berat dari masing masing jenis load_type di tiap dropoff_site pada bulan Februari\n",
        "data_limbah[(data_limbah['Month'] == 2)].groupby(['Month', 'load_type', 'dropoff_site'])['load_weight'].sum()"
      ],
      "metadata": {
        "colab": {
          "base_uri": "https://localhost:8080/"
        },
        "id": "CVGT_nIqMoSp",
        "outputId": "83ad7879-d534-4784-dfc8-844405ee946a"
      },
      "execution_count": null,
      "outputs": [
        {
          "output_type": "execute_result",
          "data": {
            "text/plain": [
              "Month  load_type                  dropoff_site         \n",
              "2      BRUSH                      HORNSBY BEND              1483040.0\n",
              "       BULK                       TDS LANDFILL              1833200.0\n",
              "       DEAD ANIMAL                ORGANICS BY GOSH              560.0\n",
              "                                  TDS LANDFILL                 1660.0\n",
              "       GARBAGE COLLECTIONS        GREAT NORTHERN              76860.0\n",
              "                                  HORNSBY BEND                 8600.0\n",
              "                                  TDS - MRF                   49340.0\n",
              "                                  TDS LANDFILL             19864840.0\n",
              "       LITTER                     TDS LANDFILL                17240.0\n",
              "       MIXED LITTER               TDS LANDFILL               100240.0\n",
              "       ORGANICS                   ORGANICS BY GOSH          6309480.0\n",
              "                                  PARK BEND                   20400.0\n",
              "                                  TDS LANDFILL                  300.0\n",
              "       RECYCLED METAL             AUSTIN IRON AND METAL        1890.0\n",
              "       RECYCLING - SINGLE STREAM  AUSTIN WOOD RECYCLING        2340.0\n",
              "                                  BALCONES RECYCLING        4098380.0\n",
              "                                  TDS - MRF                 3188860.0\n",
              "                                  TDS LANDFILL                  420.0\n",
              "       SWEEPING                   ON ROUTE HIGH DUMP         214700.0\n",
              "                                  ONION CREEK                757100.0\n",
              "                                  PARK CENTER                135600.0\n",
              "                                  TDS LANDFILL               293820.0\n",
              "       TIRES                      MRF                         53340.0\n",
              "                                  TDS LANDFILL                 2180.0\n",
              "       YARD TRIMMING              HORNSBY BEND               168560.0\n",
              "Name: load_weight, dtype: float64"
            ]
          },
          "metadata": {},
          "execution_count": 29
        }
      ]
    },
    {
      "cell_type": "code",
      "source": [
        "# Menampilkan jumlah data dengan jenis limbah DEAD ANIMAL pada tiap dropoff_site dari bulan Januari-Juli \n",
        "data_limbah[(data_limbah['load_type'] == 'DEAD ANIMAL')].groupby(['load_type', 'dropoff_site'])['load_type'].count()"
      ],
      "metadata": {
        "colab": {
          "base_uri": "https://localhost:8080/"
        },
        "id": "QUqXFTqvLV1e",
        "outputId": "8036cf91-9e3a-4bc8-e92c-f7eb9625405f"
      },
      "execution_count": null,
      "outputs": [
        {
          "output_type": "execute_result",
          "data": {
            "text/plain": [
              "load_type    dropoff_site    \n",
              "DEAD ANIMAL  ORGANICS BY GOSH     19\n",
              "             TDS LANDFILL        131\n",
              "Name: load_type, dtype: int64"
            ]
          },
          "metadata": {},
          "execution_count": 30
        }
      ]
    },
    {
      "cell_type": "markdown",
      "source": [
        "## III.Central Tendency (Mean, Median, Modus)"
      ],
      "metadata": {
        "id": "tjXtse1NSv8d"
      }
    },
    {
      "cell_type": "code",
      "source": [
        "# Menampilkan nilai rata rata dari tiap dropoff_site pada tahun 2021\n",
        "mean_data = data_limbah[(data_limbah['Month'] >= 1)].groupby(['dropoff_site'])['load_weight'].mean()\n",
        "\n",
        "mean_data.plot(kind = 'bar', title = 'mean tiap site')"
      ],
      "metadata": {
        "colab": {
          "base_uri": "https://localhost:8080/",
          "height": 659
        },
        "id": "tz31dFLBS1S8",
        "outputId": "dc0a5e32-c0a3-4ec3-ea1f-27d9019e50bd"
      },
      "execution_count": null,
      "outputs": [
        {
          "output_type": "execute_result",
          "data": {
            "text/plain": [
              "<Axes: title={'center': 'mean tiap site'}, xlabel='dropoff_site'>"
            ]
          },
          "metadata": {},
          "execution_count": 31
        },
        {
          "output_type": "display_data",
          "data": {
            "text/plain": [
              "<Figure size 640x480 with 1 Axes>"
            ],
            "image/png": "[encoded data removed]"
          },
          "metadata": {}
        }
      ]
    },
    {
      "cell_type": "code",
      "source": [
        "# Menampilkan nilai rata rata dari tiap dropoff_site pada tahun 2021\n",
        "mean_data"
      ],
      "metadata": {
        "colab": {
          "base_uri": "https://localhost:8080/"
        },
        "id": "BagnPPMJhb-D",
        "outputId": "3af7b016-0524-4b54-cae9-ad613e83c3a4"
      },
      "execution_count": null,
      "outputs": [
        {
          "output_type": "execute_result",
          "data": {
            "text/plain": [
              "dropoff_site\n",
              "AUSTIN IRON AND METAL      451.200000\n",
              "AUSTIN WOOD RECYCLING     4050.000000\n",
              "BALCONES RECYCLING        9464.652072\n",
              "BALCONES WOODS            8460.000000\n",
              "GREAT NORTHERN           11973.142857\n",
              "HORNSBY BEND              6637.111782\n",
              "MRF                       1799.982143\n",
              "ON ROUTE HIGH DUMP       11405.925926\n",
              "ONION CREEK              11300.000000\n",
              "ORGANICS BY GOSH         11817.220851\n",
              "PARK BEND                13385.000000\n",
              "PARK CENTER              11300.000000\n",
              "ST. EDWARDS              11300.000000\n",
              "STEINER LANDFILL           780.000000\n",
              "TDS - MRF                 9872.550882\n",
              "TDS LANDFILL             15168.321726\n",
              "WESTFIELD                16020.000000\n",
              "WILCAB                   11300.000000\n",
              "Name: load_weight, dtype: float64"
            ]
          },
          "metadata": {},
          "execution_count": 32
        }
      ]
    },
    {
      "cell_type": "code",
      "source": [
        "# Menampilkan nilai median dari tiap dropoff_site pada tahun 2021\n",
        "median_data = data_limbah[(data_limbah['Month'] >= 1)].groupby(['dropoff_site'])['load_weight'].median()\n",
        "\n",
        "median_data.plot(kind = 'bar', title = 'median tiap site')"
      ],
      "metadata": {
        "colab": {
          "base_uri": "https://localhost:8080/",
          "height": 659
        },
        "id": "51faVhRDWMaR",
        "outputId": "1a69d186-66a1-4bea-9af4-89500a2e6e86"
      },
      "execution_count": null,
      "outputs": [
        {
          "output_type": "execute_result",
          "data": {
            "text/plain": [
              "<Axes: title={'center': 'median tiap site'}, xlabel='dropoff_site'>"
            ]
          },
          "metadata": {},
          "execution_count": 33
        },
        {
          "output_type": "display_data",
          "data": {
            "text/plain": [
              "<Figure size 640x480 with 1 Axes>"
            ],
            "image/png": "[encoded data removed]"
          },
          "metadata": {}
        }
      ]
    },
    {
      "cell_type": "code",
      "source": [
        "# Menampilkan nilai median dari tiap dropoff_site pada tahun 2021\n",
        "median_data"
      ],
      "metadata": {
        "colab": {
          "base_uri": "https://localhost:8080/"
        },
        "id": "my2WJ-3mhgR1",
        "outputId": "90ebbdf6-7422-4a93-8448-2a8e9554d7ca"
      },
      "execution_count": null,
      "outputs": [
        {
          "output_type": "execute_result",
          "data": {
            "text/plain": [
              "dropoff_site\n",
              "AUSTIN IRON AND METAL      400.0\n",
              "AUSTIN WOOD RECYCLING     4050.0\n",
              "BALCONES RECYCLING        9840.0\n",
              "BALCONES WOODS            8460.0\n",
              "GREAT NORTHERN           11300.0\n",
              "HORNSBY BEND              6400.0\n",
              "MRF                       1360.0\n",
              "ON ROUTE HIGH DUMP       11300.0\n",
              "ONION CREEK              11300.0\n",
              "ORGANICS BY GOSH         11900.0\n",
              "PARK BEND                12330.0\n",
              "PARK CENTER              11300.0\n",
              "ST. EDWARDS              11300.0\n",
              "STEINER LANDFILL           780.0\n",
              "TDS - MRF                10330.0\n",
              "TDS LANDFILL             14920.0\n",
              "WESTFIELD                16020.0\n",
              "WILCAB                   11300.0\n",
              "Name: load_weight, dtype: float64"
            ]
          },
          "metadata": {},
          "execution_count": 34
        }
      ]
    },
    {
      "cell_type": "code",
      "source": [
        "# Menampilkan frekuensi data dropoff_site yang paling banyak atau sering muncul pada tahun 2021\n",
        "modus_data = data_limbah['dropoff_site'].mode()[0]\n",
        "\n",
        "modus_data"
      ],
      "metadata": {
        "colab": {
          "base_uri": "https://localhost:8080/",
          "height": 36
        },
        "id": "a73YP8h1XG5g",
        "outputId": "6f0f1be3-871a-4a7f-a135-92afada1ead7"
      },
      "execution_count": null,
      "outputs": [
        {
          "output_type": "execute_result",
          "data": {
            "text/plain": [
              "'TDS LANDFILL'"
            ],
            "application/vnd.google.colaboratory.intrinsic+json": {
              "type": "string"
            }
          },
          "metadata": {},
          "execution_count": 35
        }
      ]
    },
    {
      "cell_type": "markdown",
      "source": [
        "Insight :\n",
        "\n",
        "- Dari nilai `mean` dan `median` di tiap site berdasarkan nilai `load_weight` yang bisa ditampung pada masing masing site, site tertinggi yaitu berada pada site `WESTFIELD`\n",
        "\n",
        "- Dari nilai `modus` site yang frekuensi paling banyak menampung limbah yaitu site `TDS LANDFILL`\n",
        "\n",
        "- Dari nilai `mean` diketahui bahwa ada 3 site yang memiliki kapasitas besar untuk menampung limbah yakni `WESTFIELD`, `TDS LANDFILL`, dan `Park BEND`"
      ],
      "metadata": {
        "id": "1aRsGNplYxaW"
      }
    },
    {
      "cell_type": "markdown",
      "source": [
        "## IV. Site Paling Menarik"
      ],
      "metadata": {
        "id": "CObwAlaVvQ-0"
      }
    },
    {
      "cell_type": "markdown",
      "source": [
        "Site yang paling menarik perhatian saya yaitu site `ORGANICS BY GOSH` karena terdiri dari tipe `DEAD ANIMAL`, `ORGANICS`, `GARBAGE COLLECTIONS`, `RECYCLED METAL`, dan `SWEEPING` dengan jumlah data didominansi oleh limbah bertipe `ORGANICS`"
      ],
      "metadata": {
        "id": "IxsMlLd7vZRo"
      }
    },
    {
      "cell_type": "markdown",
      "source": [
        "## V. Outlier Site `ORGANICS BY GOSH`"
      ],
      "metadata": {
        "id": "fDEyO3Y6wJtb"
      }
    },
    {
      "cell_type": "markdown",
      "source": [
        "**Check distribusi data `load_weight` di site `ORGANICS BY GOSH`**"
      ],
      "metadata": {
        "id": "q41TXdYzxSJ2"
      }
    },
    {
      "cell_type": "code",
      "source": [
        "# Buat dataframe baru berdasarkan dropoff_site data ORGANICS BY GOSH\n",
        "data_site_organic = data_limbah[(data_limbah['dropoff_site'] == 'ORGANICS BY GOSH')]\n",
        "\n",
        "data_site_organic"
      ],
      "metadata": {
        "colab": {
          "base_uri": "https://localhost:8080/",
          "height": 423
        },
        "id": "gvJ-_-aoxdJ6",
        "outputId": "9c3ed3e3-0d70-4ebb-af54-a4da555cc9a5"
      },
      "execution_count": null,
      "outputs": [
        {
          "output_type": "execute_result",
          "data": {
            "text/plain": [
              "      report_date                load_time load_type  load_weight  \\\n",
              "775    2021-02-21  2021-02-21 10:41:00 UTC  ORGANICS       2480.0   \n",
              "776    2021-03-14  2021-03-14 01:37:00 UTC  ORGANICS      21700.0   \n",
              "777    2021-03-21  2021-03-21 07:56:00 UTC  ORGANICS       7120.0   \n",
              "778    2021-02-21  2021-02-21 11:07:00 UTC  ORGANICS       5560.0   \n",
              "779    2021-03-14  2021-03-14 03:04:00 UTC  ORGANICS      20460.0   \n",
              "...           ...                      ...       ...          ...   \n",
              "26151  2021-03-01  2021-03-01 11:19:00 UTC  ORGANICS      18580.0   \n",
              "26152  2021-03-01  2021-03-01 11:26:00 UTC  ORGANICS      12100.0   \n",
              "26153  2021-03-01  2021-03-01 04:27:00 UTC  ORGANICS      10900.0   \n",
              "26154  2021-03-01  2021-03-01 05:55:00 UTC  ORGANICS      21800.0   \n",
              "26155  2021-03-01  2021-03-02 01:10:00 UTC  ORGANICS       5640.0   \n",
              "\n",
              "           dropoff_site  Month  \n",
              "775    ORGANICS BY GOSH      2  \n",
              "776    ORGANICS BY GOSH      3  \n",
              "777    ORGANICS BY GOSH      3  \n",
              "778    ORGANICS BY GOSH      2  \n",
              "779    ORGANICS BY GOSH      3  \n",
              "...                 ...    ...  \n",
              "26151  ORGANICS BY GOSH      3  \n",
              "26152  ORGANICS BY GOSH      3  \n",
              "26153  ORGANICS BY GOSH      3  \n",
              "26154  ORGANICS BY GOSH      3  \n",
              "26155  ORGANICS BY GOSH      3  \n",
              "\n",
              "[5755 rows x 6 columns]"
            ],
            "text/html": [
              "\n",
              "  <div id=\"df-cee3434d-04d3-4170-a648-908556a2afb7\">\n",
              "    <div class=\"colab-df-container\">\n",
              "      <div>\n",
              "<style scoped>\n",
              "    .dataframe tbody tr th:only-of-type {\n",
              "        vertical-align: middle;\n",
              "    }\n",
              "\n",
              "    .dataframe tbody tr th {\n",
              "        vertical-align: top;\n",
              "    }\n",
              "\n",
              "    .dataframe thead th {\n",
              "        text-align: right;\n",
              "    }\n",
              "</style>\n",
              "<table border=\"1\" class=\"dataframe\">\n",
              "  <thead>\n",
              "    <tr style=\"text-align: right;\">\n",
              "      <th></th>\n",
              "      <th>report_date</th>\n",
              "      <th>load_time</th>\n",
              "      <th>load_type</th>\n",
              "      <th>load_weight</th>\n",
              "      <th>dropoff_site</th>\n",
              "      <th>Month</th>\n",
              "    </tr>\n",
              "  </thead>\n",
              "  <tbody>\n",
              "    <tr>\n",
              "      <th>775</th>\n",
              "      <td>2021-02-21</td>\n",
              "      <td>2021-02-21 10:41:00 UTC</td>\n",
              "      <td>ORGANICS</td>\n",
              "      <td>2480.0</td>\n",
              "      <td>ORGANICS BY GOSH</td>\n",
              "      <td>2</td>\n",
              "    </tr>\n",
              "    <tr>\n",
              "      <th>776</th>\n",
              "      <td>2021-03-14</td>\n",
              "      <td>2021-03-14 01:37:00 UTC</td>\n",
              "      <td>ORGANICS</td>\n",
              "      <td>21700.0</td>\n",
              "      <td>ORGANICS BY GOSH</td>\n",
              "      <td>3</td>\n",
              "    </tr>\n",
              "    <tr>\n",
              "      <th>777</th>\n",
              "      <td>2021-03-21</td>\n",
              "      <td>2021-03-21 07:56:00 UTC</td>\n",
              "      <td>ORGANICS</td>\n",
              "      <td>7120.0</td>\n",
              "      <td>ORGANICS BY GOSH</td>\n",
              "      <td>3</td>\n",
              "    </tr>\n",
              "    <tr>\n",
              "      <th>778</th>\n",
              "      <td>2021-02-21</td>\n",
              "      <td>2021-02-21 11:07:00 UTC</td>\n",
              "      <td>ORGANICS</td>\n",
              "      <td>5560.0</td>\n",
              "      <td>ORGANICS BY GOSH</td>\n",
              "      <td>2</td>\n",
              "    </tr>\n",
              "    <tr>\n",
              "      <th>779</th>\n",
              "      <td>2021-03-14</td>\n",
              "      <td>2021-03-14 03:04:00 UTC</td>\n",
              "      <td>ORGANICS</td>\n",
              "      <td>20460.0</td>\n",
              "      <td>ORGANICS BY GOSH</td>\n",
              "      <td>3</td>\n",
              "    </tr>\n",
              "    <tr>\n",
              "      <th>...</th>\n",
              "      <td>...</td>\n",
              "      <td>...</td>\n",
              "      <td>...</td>\n",
              "      <td>...</td>\n",
              "      <td>...</td>\n",
              "      <td>...</td>\n",
              "    </tr>\n",
              "    <tr>\n",
              "      <th>26151</th>\n",
              "      <td>2021-03-01</td>\n",
              "      <td>2021-03-01 11:19:00 UTC</td>\n",
              "      <td>ORGANICS</td>\n",
              "      <td>18580.0</td>\n",
              "      <td>ORGANICS BY GOSH</td>\n",
              "      <td>3</td>\n",
              "    </tr>\n",
              "    <tr>\n",
              "      <th>26152</th>\n",
              "      <td>2021-03-01</td>\n",
              "      <td>2021-03-01 11:26:00 UTC</td>\n",
              "      <td>ORGANICS</td>\n",
              "      <td>12100.0</td>\n",
              "      <td>ORGANICS BY GOSH</td>\n",
              "      <td>3</td>\n",
              "    </tr>\n",
              "    <tr>\n",
              "      <th>26153</th>\n",
              "      <td>2021-03-01</td>\n",
              "      <td>2021-03-01 04:27:00 UTC</td>\n",
              "      <td>ORGANICS</td>\n",
              "      <td>10900.0</td>\n",
              "      <td>ORGANICS BY GOSH</td>\n",
              "      <td>3</td>\n",
              "    </tr>\n",
              "    <tr>\n",
              "      <th>26154</th>\n",
              "      <td>2021-03-01</td>\n",
              "      <td>2021-03-01 05:55:00 UTC</td>\n",
              "      <td>ORGANICS</td>\n",
              "      <td>21800.0</td>\n",
              "      <td>ORGANICS BY GOSH</td>\n",
              "      <td>3</td>\n",
              "    </tr>\n",
              "    <tr>\n",
              "      <th>26155</th>\n",
              "      <td>2021-03-01</td>\n",
              "      <td>2021-03-02 01:10:00 UTC</td>\n",
              "      <td>ORGANICS</td>\n",
              "      <td>5640.0</td>\n",
              "      <td>ORGANICS BY GOSH</td>\n",
              "      <td>3</td>\n",
              "    </tr>\n",
              "  </tbody>\n",
              "</table>\n",
              "<p>5755 rows × 6 columns</p>\n",
              "</div>\n",
              "      <button class=\"colab-df-convert\" onclick=\"convertToInteractive('df-cee3434d-04d3-4170-a648-908556a2afb7')\"\n",
              "              title=\"Convert this dataframe to an interactive table.\"\n",
              "              style=\"display:none;\">\n",
              "        \n",
              "  <svg xmlns=\"http://www.w3.org/2000/svg\" height=\"24px\"viewBox=\"0 0 24 24\"\n",
              "       width=\"24px\">\n",
              "    <path d=\"M0 0h24v24H0V0z\" fill=\"none\"/>\n",
              "    <path d=\"M18.56 5.44l.94 2.06.94-2.06 2.06-.94-2.06-.94-.94-2.06-.94 2.06-2.06.94zm-11 1L8.5 8.5l.94-2.06 2.06-.94-2.06-.94L8.5 2.5l-.94 2.06-2.06.94zm10 10l.94 2.06.94-2.06 2.06-.94-2.06-.94-.94-2.06-.94 2.06-2.06.94z\"/><path d=\"M17.41 7.96l-1.37-1.37c-.4-.4-.92-.59-1.43-.59-.52 0-1.04.2-1.43.59L10.3 9.45l-7.72 7.72c-.78.78-.78 2.05 0 2.83L4 21.41c.39.39.9.59 1.41.59.51 0 1.02-.2 1.41-.59l7.78-7.78 2.81-2.81c.8-.78.8-2.07 0-2.86zM5.41 20L4 18.59l7.72-7.72 1.47 1.35L5.41 20z\"/>\n",
              "  </svg>\n",
              "      </button>\n",
              "      \n",
              "  <style>\n",
              "    .colab-df-container {\n",
              "      display:flex;\n",
              "      flex-wrap:wrap;\n",
              "      gap: 12px;\n",
              "    }\n",
              "\n",
              "    .colab-df-convert {\n",
              "      background-color: #E8F0FE;\n",
              "      border: none;\n",
              "      border-radius: 50%;\n",
              "      cursor: pointer;\n",
              "      display: none;\n",
              "      fill: #1967D2;\n",
              "      height: 32px;\n",
              "      padding: 0 0 0 0;\n",
              "      width: 32px;\n",
              "    }\n",
              "\n",
              "    .colab-df-convert:hover {\n",
              "      background-color: #E2EBFA;\n",
              "      box-shadow: 0px 1px 2px rgba(60, 64, 67, 0.3), 0px 1px 3px 1px rgba(60, 64, 67, 0.15);\n",
              "      fill: #174EA6;\n",
              "    }\n",
              "\n",
              "    [theme=dark] .colab-df-convert {\n",
              "      background-color: #3B4455;\n",
              "      fill: #D2E3FC;\n",
              "    }\n",
              "\n",
              "    [theme=dark] .colab-df-convert:hover {\n",
              "      background-color: #434B5C;\n",
              "      box-shadow: 0px 1px 3px 1px rgba(0, 0, 0, 0.15);\n",
              "      filter: drop-shadow(0px 1px 2px rgba(0, 0, 0, 0.3));\n",
              "      fill: #FFFFFF;\n",
              "    }\n",
              "  </style>\n",
              "\n",
              "      <script>\n",
              "        const buttonEl =\n",
              "          document.querySelector('#df-cee3434d-04d3-4170-a648-908556a2afb7 button.colab-df-convert');\n",
              "        buttonEl.style.display =\n",
              "          google.colab.kernel.accessAllowed ? 'block' : 'none';\n",
              "\n",
              "        async function convertToInteractive(key) {\n",
              "          const element = document.querySelector('#df-cee3434d-04d3-4170-a648-908556a2afb7');\n",
              "          const dataTable =\n",
              "            await google.colab.kernel.invokeFunction('convertToInteractive',\n",
              "                                                     [key], {});\n",
              "          if (!dataTable) return;\n",
              "\n",
              "          const docLinkHtml = 'Like what you see? Visit the ' +\n",
              "            '<a target=\"_blank\" href=https://colab.research.google.com/notebooks/data_table.ipynb>data table notebook</a>'\n",
              "            + ' to learn more about interactive tables.';\n",
              "          element.innerHTML = '';\n",
              "          dataTable['output_type'] = 'display_data';\n",
              "          await google.colab.output.renderOutput(dataTable, element);\n",
              "          const docLink = document.createElement('div');\n",
              "          docLink.innerHTML = docLinkHtml;\n",
              "          element.appendChild(docLink);\n",
              "        }\n",
              "      </script>\n",
              "    </div>\n",
              "  </div>\n",
              "  "
            ]
          },
          "metadata": {},
          "execution_count": 36
        }
      ]
    },
    {
      "cell_type": "code",
      "source": [
        "# Ambil kolom load_weight pada dataframe data_site_organic untuk dicari nilai mean dan median\n",
        "weight_organic = data_site_organic['load_weight']\n",
        "\n",
        "weight_organic_mean = weight_organic.mean()\n",
        "weight_organic_median = weight_organic.median()"
      ],
      "metadata": {
        "id": "UoPzmkfWzO2W"
      },
      "execution_count": null,
      "outputs": []
    },
    {
      "cell_type": "code",
      "source": [
        "print('Nilai mean dari load weight :', weight_organic_mean)\n",
        "print('Nilai median dari load weight :', weight_organic_median)"
      ],
      "metadata": {
        "colab": {
          "base_uri": "https://localhost:8080/"
        },
        "id": "I9kbu5_K0AHz",
        "outputId": "45f81cbd-fb61-4afa-c66d-0504952dfe74"
      },
      "execution_count": null,
      "outputs": [
        {
          "output_type": "stream",
          "name": "stdout",
          "text": [
            "Nilai mean dari load weight : 11817.220851433536\n",
            "Nilai median dari load weight : 11900.0\n"
          ]
        }
      ]
    },
    {
      "cell_type": "code",
      "source": [
        "# Menampilkan grafik skewness dari data load_weight site ORGANICS BY GOSH\n",
        "weight_organic.plot.hist(title = 'Load Weight site ORGANICS BY GOSH', color = 'blue', bins = 25)\n",
        "plt. axvline(weight_organic.mean(), color = 'red', linestyle = 'dashed', linewidth = 2.5)\n",
        "plt. axvline(weight_organic.median(), color = 'orange', linestyle = 'dashed', linewidth = 2.5)"
      ],
      "metadata": {
        "colab": {
          "base_uri": "https://localhost:8080/",
          "height": 469
        },
        "id": "vNYykYRh0M74",
        "outputId": "7f6192ed-a7ca-47d1-d440-97d019c884c9"
      },
      "execution_count": null,
      "outputs": [
        {
          "output_type": "execute_result",
          "data": {
            "text/plain": [
              "<matplotlib.lines.Line2D at 0x7fabf1ff3dc0>"
            ]
          },
          "metadata": {},
          "execution_count": 39
        },
        {
          "output_type": "display_data",
          "data": {
            "text/plain": [
              "<Figure size 640x480 with 1 Axes>"
            ],
            "image/png": "[encoded data removed]"
          },
          "metadata": {}
        }
      ]
    },
    {
      "cell_type": "code",
      "source": [
        "# Mencari nilai skewness dari load_weight site ORGANICS BY GOSH\n",
        "weight_organic.skew()"
      ],
      "metadata": {
        "colab": {
          "base_uri": "https://localhost:8080/"
        },
        "id": "fBQ2QMSX1fYj",
        "outputId": "9311093b-8faf-40f2-e70d-60e089adb09e"
      },
      "execution_count": null,
      "outputs": [
        {
          "output_type": "execute_result",
          "data": {
            "text/plain": [
              "0.05937529539509636"
            ]
          },
          "metadata": {},
          "execution_count": 40
        }
      ]
    },
    {
      "cell_type": "markdown",
      "source": [
        "Hasil Skewness :\n",
        "\n",
        "Dari grafik dan nilai skewness diatas diketahui bahwa distribusi data pada `load_weight` site `ORGANICS BY GOSH` merupakan `distribusi normal` dengan kemiringan `simetris`"
      ],
      "metadata": {
        "id": "QRxdSBpt2OQ1"
      }
    },
    {
      "cell_type": "code",
      "source": [
        "# Menampilkan grafik outlier weight_organic\n",
        "data_site_organic['load_weight'].plot(kind = 'box', title = 'load_weight site ORGANICS BY GOSH')"
      ],
      "metadata": {
        "colab": {
          "base_uri": "https://localhost:8080/",
          "height": 469
        },
        "id": "T3m0cDWd2nCl",
        "outputId": "6f482d74-74d2-4a4e-a041-703363984f74"
      },
      "execution_count": null,
      "outputs": [
        {
          "output_type": "execute_result",
          "data": {
            "text/plain": [
              "<Axes: title={'center': 'load_weight site ORGANICS BY GOSH'}>"
            ]
          },
          "metadata": {},
          "execution_count": 41
        },
        {
          "output_type": "display_data",
          "data": {
            "text/plain": [
              "<Figure size 640x480 with 1 Axes>"
            ],
            "image/png": "[encoded data removed]"
          },
          "metadata": {}
        }
      ]
    },
    {
      "cell_type": "markdown",
      "source": [
        "Penjelasan :\n",
        "\n",
        "- Dari grafik box diatas pada data `load_weight` di site `ORGANICS BY GOSH` terdapat outlier"
      ],
      "metadata": {
        "id": "TlZnEtCE3VFz"
      }
    },
    {
      "cell_type": "markdown",
      "source": [
        "**Penggunaan Z-Score untuk mengetahui jumlah data termasuk outlier dan tidak termasuk outlier**"
      ],
      "metadata": {
        "id": "W4QXtemm6s2L"
      }
    },
    {
      "cell_type": "code",
      "source": [
        "site_organic = data_site_organic.copy()"
      ],
      "metadata": {
        "id": "ZOC6F5w08D4c"
      },
      "execution_count": null,
      "outputs": []
    },
    {
      "cell_type": "code",
      "source": [
        "site_organic['zscore'] = (data_site_organic['load_weight'] - data_site_organic['load_weight'].mean()) / data_site_organic['load_weight'].std()\n",
        "site_organic[['load_weight', 'zscore']]"
      ],
      "metadata": {
        "colab": {
          "base_uri": "https://localhost:8080/",
          "height": 423
        },
        "id": "r8mor_U08OYi",
        "outputId": "88838d23-1d3d-4673-c78a-99071c076e15"
      },
      "execution_count": null,
      "outputs": [
        {
          "output_type": "execute_result",
          "data": {
            "text/plain": [
              "       load_weight    zscore\n",
              "775         2480.0 -1.843604\n",
              "776        21700.0  1.951323\n",
              "777         7120.0 -0.927451\n",
              "778         5560.0 -1.235468\n",
              "779        20460.0  1.706489\n",
              "...            ...       ...\n",
              "26151      18580.0  1.335289\n",
              "26152      12100.0  0.055834\n",
              "26153      10900.0 -0.181102\n",
              "26154      21800.0  1.971068\n",
              "26155       5640.0 -1.219672\n",
              "\n",
              "[5755 rows x 2 columns]"
            ],
            "text/html": [
              "\n",
              "  <div id=\"df-75ec2722-a9db-4df1-a655-2eb311b7a233\">\n",
              "    <div class=\"colab-df-container\">\n",
              "      <div>\n",
              "<style scoped>\n",
              "    .dataframe tbody tr th:only-of-type {\n",
              "        vertical-align: middle;\n",
              "    }\n",
              "\n",
              "    .dataframe tbody tr th {\n",
              "        vertical-align: top;\n",
              "    }\n",
              "\n",
              "    .dataframe thead th {\n",
              "        text-align: right;\n",
              "    }\n",
              "</style>\n",
              "<table border=\"1\" class=\"dataframe\">\n",
              "  <thead>\n",
              "    <tr style=\"text-align: right;\">\n",
              "      <th></th>\n",
              "      <th>load_weight</th>\n",
              "      <th>zscore</th>\n",
              "    </tr>\n",
              "  </thead>\n",
              "  <tbody>\n",
              "    <tr>\n",
              "      <th>775</th>\n",
              "      <td>2480.0</td>\n",
              "      <td>-1.843604</td>\n",
              "    </tr>\n",
              "    <tr>\n",
              "      <th>776</th>\n",
              "      <td>21700.0</td>\n",
              "      <td>1.951323</td>\n",
              "    </tr>\n",
              "    <tr>\n",
              "      <th>777</th>\n",
              "      <td>7120.0</td>\n",
              "      <td>-0.927451</td>\n",
              "    </tr>\n",
              "    <tr>\n",
              "      <th>778</th>\n",
              "      <td>5560.0</td>\n",
              "      <td>-1.235468</td>\n",
              "    </tr>\n",
              "    <tr>\n",
              "      <th>779</th>\n",
              "      <td>20460.0</td>\n",
              "      <td>1.706489</td>\n",
              "    </tr>\n",
              "    <tr>\n",
              "      <th>...</th>\n",
              "      <td>...</td>\n",
              "      <td>...</td>\n",
              "    </tr>\n",
              "    <tr>\n",
              "      <th>26151</th>\n",
              "      <td>18580.0</td>\n",
              "      <td>1.335289</td>\n",
              "    </tr>\n",
              "    <tr>\n",
              "      <th>26152</th>\n",
              "      <td>12100.0</td>\n",
              "      <td>0.055834</td>\n",
              "    </tr>\n",
              "    <tr>\n",
              "      <th>26153</th>\n",
              "      <td>10900.0</td>\n",
              "      <td>-0.181102</td>\n",
              "    </tr>\n",
              "    <tr>\n",
              "      <th>26154</th>\n",
              "      <td>21800.0</td>\n",
              "      <td>1.971068</td>\n",
              "    </tr>\n",
              "    <tr>\n",
              "      <th>26155</th>\n",
              "      <td>5640.0</td>\n",
              "      <td>-1.219672</td>\n",
              "    </tr>\n",
              "  </tbody>\n",
              "</table>\n",
              "<p>5755 rows × 2 columns</p>\n",
              "</div>\n",
              "      <button class=\"colab-df-convert\" onclick=\"convertToInteractive('df-75ec2722-a9db-4df1-a655-2eb311b7a233')\"\n",
              "              title=\"Convert this dataframe to an interactive table.\"\n",
              "              style=\"display:none;\">\n",
              "        \n",
              "  <svg xmlns=\"http://www.w3.org/2000/svg\" height=\"24px\"viewBox=\"0 0 24 24\"\n",
              "       width=\"24px\">\n",
              "    <path d=\"M0 0h24v24H0V0z\" fill=\"none\"/>\n",
              "    <path d=\"M18.56 5.44l.94 2.06.94-2.06 2.06-.94-2.06-.94-.94-2.06-.94 2.06-2.06.94zm-11 1L8.5 8.5l.94-2.06 2.06-.94-2.06-.94L8.5 2.5l-.94 2.06-2.06.94zm10 10l.94 2.06.94-2.06 2.06-.94-2.06-.94-.94-2.06-.94 2.06-2.06.94z\"/><path d=\"M17.41 7.96l-1.37-1.37c-.4-.4-.92-.59-1.43-.59-.52 0-1.04.2-1.43.59L10.3 9.45l-7.72 7.72c-.78.78-.78 2.05 0 2.83L4 21.41c.39.39.9.59 1.41.59.51 0 1.02-.2 1.41-.59l7.78-7.78 2.81-2.81c.8-.78.8-2.07 0-2.86zM5.41 20L4 18.59l7.72-7.72 1.47 1.35L5.41 20z\"/>\n",
              "  </svg>\n",
              "      </button>\n",
              "      \n",
              "  <style>\n",
              "    .colab-df-container {\n",
              "      display:flex;\n",
              "      flex-wrap:wrap;\n",
              "      gap: 12px;\n",
              "    }\n",
              "\n",
              "    .colab-df-convert {\n",
              "      background-color: #E8F0FE;\n",
              "      border: none;\n",
              "      border-radius: 50%;\n",
              "      cursor: pointer;\n",
              "      display: none;\n",
              "      fill: #1967D2;\n",
              "      height: 32px;\n",
              "      padding: 0 0 0 0;\n",
              "      width: 32px;\n",
              "    }\n",
              "\n",
              "    .colab-df-convert:hover {\n",
              "      background-color: #E2EBFA;\n",
              "      box-shadow: 0px 1px 2px rgba(60, 64, 67, 0.3), 0px 1px 3px 1px rgba(60, 64, 67, 0.15);\n",
              "      fill: #174EA6;\n",
              "    }\n",
              "\n",
              "    [theme=dark] .colab-df-convert {\n",
              "      background-color: #3B4455;\n",
              "      fill: #D2E3FC;\n",
              "    }\n",
              "\n",
              "    [theme=dark] .colab-df-convert:hover {\n",
              "      background-color: #434B5C;\n",
              "      box-shadow: 0px 1px 3px 1px rgba(0, 0, 0, 0.15);\n",
              "      filter: drop-shadow(0px 1px 2px rgba(0, 0, 0, 0.3));\n",
              "      fill: #FFFFFF;\n",
              "    }\n",
              "  </style>\n",
              "\n",
              "      <script>\n",
              "        const buttonEl =\n",
              "          document.querySelector('#df-75ec2722-a9db-4df1-a655-2eb311b7a233 button.colab-df-convert');\n",
              "        buttonEl.style.display =\n",
              "          google.colab.kernel.accessAllowed ? 'block' : 'none';\n",
              "\n",
              "        async function convertToInteractive(key) {\n",
              "          const element = document.querySelector('#df-75ec2722-a9db-4df1-a655-2eb311b7a233');\n",
              "          const dataTable =\n",
              "            await google.colab.kernel.invokeFunction('convertToInteractive',\n",
              "                                                     [key], {});\n",
              "          if (!dataTable) return;\n",
              "\n",
              "          const docLinkHtml = 'Like what you see? Visit the ' +\n",
              "            '<a target=\"_blank\" href=https://colab.research.google.com/notebooks/data_table.ipynb>data table notebook</a>'\n",
              "            + ' to learn more about interactive tables.';\n",
              "          element.innerHTML = '';\n",
              "          dataTable['output_type'] = 'display_data';\n",
              "          await google.colab.output.renderOutput(dataTable, element);\n",
              "          const docLink = document.createElement('div');\n",
              "          docLink.innerHTML = docLinkHtml;\n",
              "          element.appendChild(docLink);\n",
              "        }\n",
              "      </script>\n",
              "    </div>\n",
              "  </div>\n",
              "  "
            ]
          },
          "metadata": {},
          "execution_count": 43
        }
      ]
    },
    {
      "cell_type": "code",
      "source": [
        "# Menampilkan jumlah data yang termasuk outlier\n",
        "site_organic_outlier = site_organic[(site_organic['zscore'] < -3) | (site_organic['zscore'] > 3)]\n",
        "site_organic_outlier.shape[0]"
      ],
      "metadata": {
        "colab": {
          "base_uri": "https://localhost:8080/"
        },
        "id": "7VghxAnV9OxV",
        "outputId": "da47ecb2-adfa-459c-fecc-aaabbc9e0401"
      },
      "execution_count": null,
      "outputs": [
        {
          "output_type": "execute_result",
          "data": {
            "text/plain": [
              "8"
            ]
          },
          "metadata": {},
          "execution_count": 44
        }
      ]
    },
    {
      "cell_type": "code",
      "source": [
        "# Menampilkan jumlah data yang tidak termasuk outlier\n",
        "site_organic_no_outlier = site_organic[(site_organic['zscore'] >= -3) & (site_organic['zscore'] <= 3)]\n",
        "site_organic_no_outlier.shape[0]"
      ],
      "metadata": {
        "colab": {
          "base_uri": "https://localhost:8080/"
        },
        "id": "BkVPQ-1L9l6v",
        "outputId": "7b914ae3-9e91-4858-9677-31da63d24b83"
      },
      "execution_count": null,
      "outputs": [
        {
          "output_type": "execute_result",
          "data": {
            "text/plain": [
              "5747"
            ]
          },
          "metadata": {},
          "execution_count": 45
        }
      ]
    },
    {
      "cell_type": "markdown",
      "source": [
        "Penjelasan :\n",
        "\n",
        "- Diketahui bahwa jumlah data yang `termasuk outlier` yaitu 8 data\n",
        "- Diketahui bahwa jumlah data yang `tidak termasuk outlier` yaitu 5.747 data"
      ],
      "metadata": {
        "id": "yJjTkvEJ67oc"
      }
    },
    {
      "cell_type": "markdown",
      "source": [
        "**Perbandingan Central Tendency (Mean, Median, Modus)**"
      ],
      "metadata": {
        "id": "A7kQaPmi7V-i"
      }
    },
    {
      "cell_type": "code",
      "source": [
        "# Menampilkan nilai rata rata dari site ORGANICS BY GOSH pada tahun 2021 (tanpa outlier)\n",
        "mean_data_site = site_organic_no_outlier[(site_organic_no_outlier['Month'] >= 1)].groupby(['dropoff_site'])['load_weight'].mean()\n",
        "\n",
        "mean_data_site"
      ],
      "metadata": {
        "colab": {
          "base_uri": "https://localhost:8080/"
        },
        "id": "ME0VpsxT7K46",
        "outputId": "a70e8d35-3f2a-43cc-83c0-7674432bf4a9"
      },
      "execution_count": null,
      "outputs": [
        {
          "output_type": "execute_result",
          "data": {
            "text/plain": [
              "dropoff_site\n",
              "ORGANICS BY GOSH    11794.481643\n",
              "Name: load_weight, dtype: float64"
            ]
          },
          "metadata": {},
          "execution_count": 46
        }
      ]
    },
    {
      "cell_type": "code",
      "source": [
        "# Menampilkan nilai median dari site ORGANICS BY GOSH pada tahun 2021 (tanpa outlier)\n",
        "median_data_site = site_organic_no_outlier[(site_organic_no_outlier['Month'] >= 1)].groupby(['dropoff_site'])['load_weight'].median()\n",
        "\n",
        "median_data_site"
      ],
      "metadata": {
        "colab": {
          "base_uri": "https://localhost:8080/"
        },
        "id": "l8BRylD8-akJ",
        "outputId": "04a9d07a-d5f9-4e0b-b1b4-ad4d043b77b6"
      },
      "execution_count": null,
      "outputs": [
        {
          "output_type": "execute_result",
          "data": {
            "text/plain": [
              "dropoff_site\n",
              "ORGANICS BY GOSH    11880.0\n",
              "Name: load_weight, dtype: float64"
            ]
          },
          "metadata": {},
          "execution_count": 47
        }
      ]
    },
    {
      "cell_type": "code",
      "source": [
        "# Menampilkan frekuensi data load_type pada site ORGANICS BY GOSH yang paling banyak atau sering muncul pada tahun 2021\n",
        "modus_data = data_limbah[data_limbah['dropoff_site'] == 'ORGANICS BY GOSH']['load_type'].mode()[0]\n",
        "\n",
        "modus_data"
      ],
      "metadata": {
        "colab": {
          "base_uri": "https://localhost:8080/",
          "height": 36
        },
        "id": "0fw3JPlY_UIG",
        "outputId": "14979ca8-5255-4e30-8e18-3dc029462eaa"
      },
      "execution_count": null,
      "outputs": [
        {
          "output_type": "execute_result",
          "data": {
            "text/plain": [
              "'ORGANICS'"
            ],
            "application/vnd.google.colaboratory.intrinsic+json": {
              "type": "string"
            }
          },
          "metadata": {},
          "execution_count": 48
        }
      ]
    },
    {
      "cell_type": "code",
      "source": [
        "# Menampilkan frekuensi data load_type pada site ORGANICS BY GOSH yang paling banyak atau sering muncul pada tahun 2021 (tanpa outlier)\n",
        "modus_data_site = site_organic_no_outlier['load_type'].mode()[0]\n",
        "\n",
        "modus_data_site"
      ],
      "metadata": {
        "colab": {
          "base_uri": "https://localhost:8080/",
          "height": 36
        },
        "id": "ef3rUqnx_7R4",
        "outputId": "f6b746f8-7658-4d15-ac00-25bfd24a961e"
      },
      "execution_count": null,
      "outputs": [
        {
          "output_type": "execute_result",
          "data": {
            "text/plain": [
              "'ORGANICS'"
            ],
            "application/vnd.google.colaboratory.intrinsic+json": {
              "type": "string"
            }
          },
          "metadata": {},
          "execution_count": 49
        }
      ]
    },
    {
      "cell_type": "markdown",
      "source": [
        "Penjelasan :\n",
        "\n",
        "- Pada data `mean` site `ORGANICS BY GOSH` dari yang awalnya memiliki nilai `11817.220851` turun menjadi `11794.481643`\n",
        "\n",
        "- Pada data `median` site `ORGANICS BY GOSH` dari yang awalnya memiliki nilai `11900.0` berubah menjadi `11880.0`\n",
        "\n",
        "- Pada data `modus` site `ORGANICS BY GOSH` memiliki nilai modus yang sama yaitu frekuensi terbanyak berada pada `load_type` : `ORGANICS`"
      ],
      "metadata": {
        "id": "6qNgAY3mAOZg"
      }
    },
    {
      "cell_type": "markdown",
      "source": [
        "## VI. Mencari Nilai Range, Variance, dan Standar Deviasi"
      ],
      "metadata": {
        "id": "rf2T2rSWCGa0"
      }
    },
    {
      "cell_type": "markdown",
      "source": [
        "**Data yang digunakan yakni site `ORGANICS BY GOSH` tanpa outlier**"
      ],
      "metadata": {
        "id": "vHEO3osPyO4x"
      }
    },
    {
      "cell_type": "code",
      "source": [
        "# Mencari nilai range\n",
        "max_value = site_organic_no_outlier['load_weight'].max()\n",
        "min_value = site_organic_no_outlier['load_weight'].min()\n",
        "range =  max_value - min_value "
      ],
      "metadata": {
        "id": "zdAGIJD-BK-N"
      },
      "execution_count": null,
      "outputs": []
    },
    {
      "cell_type": "code",
      "source": [
        "# Mencari nilai variance\n",
        "variance = site_organic_no_outlier['load_weight'].var()"
      ],
      "metadata": {
        "id": "seMk4CnoCd4O"
      },
      "execution_count": null,
      "outputs": []
    },
    {
      "cell_type": "code",
      "source": [
        "# Mencari nilai standard deviasi\n",
        "standard_deviasi = site_organic_no_outlier['load_weight'].std()"
      ],
      "metadata": {
        "id": "uo_ZeT_eCnmP"
      },
      "execution_count": null,
      "outputs": []
    },
    {
      "cell_type": "code",
      "source": [
        "print('Nilai max :', max_value)\n",
        "print('Nilai min :', min_value)\n",
        "print('')\n",
        "print('Nilai range :', range)\n",
        "print('')\n",
        "print('Nilai variance :', variance)\n",
        "print('')\n",
        "print('Nilai standard deviasi :', standard_deviasi)"
      ],
      "metadata": {
        "colab": {
          "base_uri": "https://localhost:8080/"
        },
        "id": "wDqba5RsCtQS",
        "outputId": "380609dd-78f4-4cc7-e20c-6d5211dc34c3"
      },
      "execution_count": null,
      "outputs": [
        {
          "output_type": "stream",
          "name": "stdout",
          "text": [
            "Nilai max : 26400.0\n",
            "Nilai min : 20.0\n",
            "\n",
            "Nilai range : 26380.0\n",
            "\n",
            "Nilai variance : 25313214.093075756\n",
            "\n",
            "Nilai standard deviasi : 5031.223916014448\n"
          ]
        }
      ]
    },
    {
      "cell_type": "markdown",
      "source": [
        "Penjelasan :\n",
        "\n",
        "- Dari nilai `range` dapat diketahui bahwa distribusi data memiliki nilai `variabilitas tinggi` yang artinya berat limbah yang masuk sangat variatif\n",
        "\n",
        "- Dari nilai `variance` dapat diketahui bahwa nilai nya cukup tinggi sehingga variasi nilai pada `load_weight` sangat beragam\n",
        "\n",
        "- Dari nilai `standard deviasi` dapat diketahui bahwa *data points* dekat dengan nilai `mean` atau *data points* tidak menyimpang terlalu jauh dari nilai `mean` karena nilai `standard deviasi` cukup rendah"
      ],
      "metadata": {
        "id": "AZ3wHk35E7mZ"
      }
    },
    {
      "cell_type": "markdown",
      "source": [
        "## **VII. Confidence Interval Site Baru**"
      ],
      "metadata": {
        "id": "fF8eufFLxSKf"
      }
    },
    {
      "cell_type": "markdown",
      "source": [
        "Untuk data yang digunakan saya menggunakan data dari site `ORGANICS BY GOSH` tanpa outlier"
      ],
      "metadata": {
        "id": "UaDsJJ49KuUp"
      }
    },
    {
      "cell_type": "code",
      "source": [
        "# Mencari nilai confidence interval\n",
        "alpha = 0.05\n",
        "n = len(site_organic_no_outlier)\n",
        "xbar = site_organic_no_outlier['load_weight'].mean()\n",
        "s = site_organic_no_outlier['load_weight'].std()\n",
        "z = stats.t.ppf(1 - alpha/2, n-1)\n",
        "ci = (xbar - z * s / pow(n, 0.5), xbar + z * s / pow(n, 0.5))\n",
        "\n",
        "print('Nilai Confidence Interval :', ci)\n",
        "print(xbar)"
      ],
      "metadata": {
        "colab": {
          "base_uri": "https://localhost:8080/"
        },
        "id": "9UIGID-jXLjG",
        "outputId": "6ba6a401-0c27-478b-db71-73acd0426b6e"
      },
      "execution_count": null,
      "outputs": [
        {
          "output_type": "stream",
          "name": "stdout",
          "text": [
            "Nilai Confidence Interval : (11664.377049204122, 11924.58623598815)\n",
            "11794.481642596136\n"
          ]
        }
      ]
    },
    {
      "cell_type": "markdown",
      "source": [
        "Dari nilai `confidence interval` diatas diketahui `95%` yakin bahwa rata-rata minimum untuk pembuatan site baru memiliki berat `11664` kg dan maksimum dengan berat `11924` kg per hari"
      ],
      "metadata": {
        "id": "55OAMYNrd0wQ"
      }
    },
    {
      "cell_type": "markdown",
      "source": [
        "## **VIII. Uji Hipotesis Pembukaan Site Baru**"
      ],
      "metadata": {
        "id": "sKkbavPXxfl1"
      }
    },
    {
      "cell_type": "code",
      "source": [
        "# Buat data berisikan kolom report_date dan load_weight dengan nama daily_load_weight\n",
        "daily_load_weight = site_organic_no_outlier[['report_date', 'load_weight']].groupby('report_date').mean()\n",
        "daily_load_weight"
      ],
      "metadata": {
        "colab": {
          "base_uri": "https://localhost:8080/",
          "height": 455
        },
        "id": "qA8lykxsC_Bx",
        "outputId": "66218993-75c4-49df-d899-c3e9c92a8969"
      },
      "execution_count": null,
      "outputs": [
        {
          "output_type": "execute_result",
          "data": {
            "text/plain": [
              "              load_weight\n",
              "report_date              \n",
              "2021-01-02   14540.277778\n",
              "2021-01-04   12021.250000\n",
              "2021-01-05   12523.870968\n",
              "2021-01-06   12219.629630\n",
              "2021-01-07   14581.724138\n",
              "...                   ...\n",
              "2021-07-02   10206.296296\n",
              "2021-07-05   11550.000000\n",
              "2021-07-06    9552.812500\n",
              "2021-07-07   10564.193548\n",
              "2021-07-08    9967.666667\n",
              "\n",
              "[149 rows x 1 columns]"
            ],
            "text/html": [
              "\n",
              "  <div id=\"df-b5279bd9-e474-4957-85f5-baf58b7ab7a6\">\n",
              "    <div class=\"colab-df-container\">\n",
              "      <div>\n",
              "<style scoped>\n",
              "    .dataframe tbody tr th:only-of-type {\n",
              "        vertical-align: middle;\n",
              "    }\n",
              "\n",
              "    .dataframe tbody tr th {\n",
              "        vertical-align: top;\n",
              "    }\n",
              "\n",
              "    .dataframe thead th {\n",
              "        text-align: right;\n",
              "    }\n",
              "</style>\n",
              "<table border=\"1\" class=\"dataframe\">\n",
              "  <thead>\n",
              "    <tr style=\"text-align: right;\">\n",
              "      <th></th>\n",
              "      <th>load_weight</th>\n",
              "    </tr>\n",
              "    <tr>\n",
              "      <th>report_date</th>\n",
              "      <th></th>\n",
              "    </tr>\n",
              "  </thead>\n",
              "  <tbody>\n",
              "    <tr>\n",
              "      <th>2021-01-02</th>\n",
              "      <td>14540.277778</td>\n",
              "    </tr>\n",
              "    <tr>\n",
              "      <th>2021-01-04</th>\n",
              "      <td>12021.250000</td>\n",
              "    </tr>\n",
              "    <tr>\n",
              "      <th>2021-01-05</th>\n",
              "      <td>12523.870968</td>\n",
              "    </tr>\n",
              "    <tr>\n",
              "      <th>2021-01-06</th>\n",
              "      <td>12219.629630</td>\n",
              "    </tr>\n",
              "    <tr>\n",
              "      <th>2021-01-07</th>\n",
              "      <td>14581.724138</td>\n",
              "    </tr>\n",
              "    <tr>\n",
              "      <th>...</th>\n",
              "      <td>...</td>\n",
              "    </tr>\n",
              "    <tr>\n",
              "      <th>2021-07-02</th>\n",
              "      <td>10206.296296</td>\n",
              "    </tr>\n",
              "    <tr>\n",
              "      <th>2021-07-05</th>\n",
              "      <td>11550.000000</td>\n",
              "    </tr>\n",
              "    <tr>\n",
              "      <th>2021-07-06</th>\n",
              "      <td>9552.812500</td>\n",
              "    </tr>\n",
              "    <tr>\n",
              "      <th>2021-07-07</th>\n",
              "      <td>10564.193548</td>\n",
              "    </tr>\n",
              "    <tr>\n",
              "      <th>2021-07-08</th>\n",
              "      <td>9967.666667</td>\n",
              "    </tr>\n",
              "  </tbody>\n",
              "</table>\n",
              "<p>149 rows × 1 columns</p>\n",
              "</div>\n",
              "      <button class=\"colab-df-convert\" onclick=\"convertToInteractive('df-b5279bd9-e474-4957-85f5-baf58b7ab7a6')\"\n",
              "              title=\"Convert this dataframe to an interactive table.\"\n",
              "              style=\"display:none;\">\n",
              "        \n",
              "  <svg xmlns=\"http://www.w3.org/2000/svg\" height=\"24px\"viewBox=\"0 0 24 24\"\n",
              "       width=\"24px\">\n",
              "    <path d=\"M0 0h24v24H0V0z\" fill=\"none\"/>\n",
              "    <path d=\"M18.56 5.44l.94 2.06.94-2.06 2.06-.94-2.06-.94-.94-2.06-.94 2.06-2.06.94zm-11 1L8.5 8.5l.94-2.06 2.06-.94-2.06-.94L8.5 2.5l-.94 2.06-2.06.94zm10 10l.94 2.06.94-2.06 2.06-.94-2.06-.94-.94-2.06-.94 2.06-2.06.94z\"/><path d=\"M17.41 7.96l-1.37-1.37c-.4-.4-.92-.59-1.43-.59-.52 0-1.04.2-1.43.59L10.3 9.45l-7.72 7.72c-.78.78-.78 2.05 0 2.83L4 21.41c.39.39.9.59 1.41.59.51 0 1.02-.2 1.41-.59l7.78-7.78 2.81-2.81c.8-.78.8-2.07 0-2.86zM5.41 20L4 18.59l7.72-7.72 1.47 1.35L5.41 20z\"/>\n",
              "  </svg>\n",
              "      </button>\n",
              "      \n",
              "  <style>\n",
              "    .colab-df-container {\n",
              "      display:flex;\n",
              "      flex-wrap:wrap;\n",
              "      gap: 12px;\n",
              "    }\n",
              "\n",
              "    .colab-df-convert {\n",
              "      background-color: #E8F0FE;\n",
              "      border: none;\n",
              "      border-radius: 50%;\n",
              "      cursor: pointer;\n",
              "      display: none;\n",
              "      fill: #1967D2;\n",
              "      height: 32px;\n",
              "      padding: 0 0 0 0;\n",
              "      width: 32px;\n",
              "    }\n",
              "\n",
              "    .colab-df-convert:hover {\n",
              "      background-color: #E2EBFA;\n",
              "      box-shadow: 0px 1px 2px rgba(60, 64, 67, 0.3), 0px 1px 3px 1px rgba(60, 64, 67, 0.15);\n",
              "      fill: #174EA6;\n",
              "    }\n",
              "\n",
              "    [theme=dark] .colab-df-convert {\n",
              "      background-color: #3B4455;\n",
              "      fill: #D2E3FC;\n",
              "    }\n",
              "\n",
              "    [theme=dark] .colab-df-convert:hover {\n",
              "      background-color: #434B5C;\n",
              "      box-shadow: 0px 1px 3px 1px rgba(0, 0, 0, 0.15);\n",
              "      filter: drop-shadow(0px 1px 2px rgba(0, 0, 0, 0.3));\n",
              "      fill: #FFFFFF;\n",
              "    }\n",
              "  </style>\n",
              "\n",
              "      <script>\n",
              "        const buttonEl =\n",
              "          document.querySelector('#df-b5279bd9-e474-4957-85f5-baf58b7ab7a6 button.colab-df-convert');\n",
              "        buttonEl.style.display =\n",
              "          google.colab.kernel.accessAllowed ? 'block' : 'none';\n",
              "\n",
              "        async function convertToInteractive(key) {\n",
              "          const element = document.querySelector('#df-b5279bd9-e474-4957-85f5-baf58b7ab7a6');\n",
              "          const dataTable =\n",
              "            await google.colab.kernel.invokeFunction('convertToInteractive',\n",
              "                                                     [key], {});\n",
              "          if (!dataTable) return;\n",
              "\n",
              "          const docLinkHtml = 'Like what you see? Visit the ' +\n",
              "            '<a target=\"_blank\" href=https://colab.research.google.com/notebooks/data_table.ipynb>data table notebook</a>'\n",
              "            + ' to learn more about interactive tables.';\n",
              "          element.innerHTML = '';\n",
              "          dataTable['output_type'] = 'display_data';\n",
              "          await google.colab.output.renderOutput(dataTable, element);\n",
              "          const docLink = document.createElement('div');\n",
              "          docLink.innerHTML = docLinkHtml;\n",
              "          element.appendChild(docLink);\n",
              "        }\n",
              "      </script>\n",
              "    </div>\n",
              "  </div>\n",
              "  "
            ]
          },
          "metadata": {},
          "execution_count": 55
        }
      ]
    },
    {
      "cell_type": "code",
      "source": [
        "# Mencari nilai mean dari load_weight per hari\n",
        "print('Nilai mean berat angkut yang ada pada tahun 2021 di site ORGANICS BY GOSH adalah :', format(np.round(daily_load_weight['load_weight'].mean())))"
      ],
      "metadata": {
        "colab": {
          "base_uri": "https://localhost:8080/"
        },
        "id": "R_BGiveCLN4Q",
        "outputId": "2962fbe8-09e1-4a59-b3e9-d087aca1f3d2"
      },
      "execution_count": null,
      "outputs": [
        {
          "output_type": "stream",
          "name": "stdout",
          "text": [
            "Nilai mean berat angkut yang ada pada tahun 2021 di site ORGANICS BY GOSH adalah : 11398.0\n"
          ]
        }
      ]
    },
    {
      "cell_type": "markdown",
      "source": [
        "Dikarenakan belum diketahui apakah site baru memiliki kapasitas rata rata yang lebih besar atau lebih kecil dari rata-rata kapasitas harian dari site `ORGANICS BY GOSH` maka hipotesis yang saya gunakan yaitu sample `two tailed`. Selain itu `critical value` sebesar 5%\n",
        "\n",
        "Hipotesis dalam kasus ini :\n",
        "\n",
        "**H0 : μ == 11,398 kg**\n",
        "\n",
        "**H1 : μ != 11,398 kg** "
      ],
      "metadata": {
        "id": "JVtw5wwuMMPS"
      }
    },
    {
      "cell_type": "code",
      "source": [
        "# Menghitung nilai p-vlue dan t-statistic\n",
        "t_stat,p_val = stats.ttest_1samp(daily_load_weight['load_weight'], 11398)\n",
        "print('P-value :', p_val)\n",
        "print('t-statistics :', t_stat)"
      ],
      "metadata": {
        "colab": {
          "base_uri": "https://localhost:8080/"
        },
        "id": "8zMXLEKyNOtQ",
        "outputId": "e5bf20e6-3532-41a2-f9bc-c8a9e0603693"
      },
      "execution_count": null,
      "outputs": [
        {
          "output_type": "stream",
          "name": "stdout",
          "text": [
            "P-value : 0.9988253941863613\n",
            "t-statistics : 0.0014746394325705953\n"
          ]
        }
      ]
    },
    {
      "cell_type": "code",
      "source": [
        "# Menampilkan grafik apakah H1 diterima atau ditolak\n",
        "daily_load_weight_pop = np.random.normal(daily_load_weight['load_weight'].mean(), daily_load_weight['load_weight'].std(), 30000)\n",
        "\n",
        "ci = stats.norm.interval(0.95, daily_load_weight['load_weight'].mean(), daily_load_weight['load_weight'].std())\n",
        "\n",
        "plt.figure(figsize=(16,5))\n",
        "sns.distplot(daily_load_weight_pop, label = 'Daily Weight (Population)', color = 'blue')\n",
        "plt.axvline(daily_load_weight['load_weight'].mean(), color = 'red', linewidth = 2, label = 'Daily Weight (Mean)')\n",
        "plt.axvline(ci[1], color = 'orange', linestyle = 'dashed', linewidth = 2, label = 'Confidence threshold 95%')\n",
        "plt.axvline(ci[0], color = 'orange', linestyle = 'dashed', linewidth = 2, label = 'Confidence threshold 95%')\n",
        "\n",
        "plt.axvline(daily_load_weight_pop.mean() + t_stat*daily_load_weight_pop.std(), color = 'black', linestyle = 'dashed', linewidth = 2, label = 'Alternative Hypothesis')\n",
        "plt.axvline(daily_load_weight_pop.mean() + t_stat*daily_load_weight_pop.std(), color = 'black', linestyle = 'dashed', linewidth = 2)\n",
        "plt.legend()"
      ],
      "metadata": {
        "colab": {
          "base_uri": "https://localhost:8080/",
          "height": 579
        },
        "id": "k3csvvlBS1u0",
        "outputId": "ed04314c-b747-42e2-cbb7-975942d009c3"
      },
      "execution_count": null,
      "outputs": [
        {
          "output_type": "stream",
          "name": "stderr",
          "text": [
            "<ipython-input-58-cb2df07309ed>:7: UserWarning: \n",
            "\n",
            "`distplot` is a deprecated function and will be removed in seaborn v0.14.0.\n",
            "\n",
            "Please adapt your code to use either `displot` (a figure-level function with\n",
            "similar flexibility) or `histplot` (an axes-level function for histograms).\n",
            "\n",
            "For a guide to updating your code to use the new functions, please see\n",
            "https://gist.github.com/mwaskom/de44147ed2974457ad6372750bbe5751\n",
            "\n",
            "  sns.distplot(daily_load_weight_pop, label = 'Daily Weight (Population)', color = 'blue')\n"
          ]
        },
        {
          "output_type": "execute_result",
          "data": {
            "text/plain": [
              "<matplotlib.legend.Legend at 0x7fabf1ba4d00>"
            ]
          },
          "metadata": {},
          "execution_count": 58
        },
        {
          "output_type": "display_data",
          "data": {
            "text/plain": [
              "<Figure size 1600x500 with 1 Axes>"
            ],
            "image/png": "[encoded data removed]"
          },
          "metadata": {}
        }
      ]
    },
    {
      "cell_type": "markdown",
      "source": [
        "Dari data `P-value` diatas dapat diketahui bahwa hasil kesimpulannya yaitu `H1 tidak diterima`, dikarenakan nilai `P-value` > `C-value`\n",
        "\n",
        "Artinya bahwa pembukaan site baru ini per harinya hanya sanggup untuk menampung berat sebesar `11398` kg"
      ],
      "metadata": {
        "id": "6I5A8gRwQLxo"
      }
    },
    {
      "cell_type": "markdown",
      "source": [
        "## **IX. Jawaban Pertanyaan**"
      ],
      "metadata": {
        "id": "neD-QYDX2HOM"
      }
    },
    {
      "cell_type": "markdown",
      "source": [
        "**1. Teknik apa yang kamu pilih untuk handling outlier? jelaskan alasannya**\n",
        "\n",
        "---\n",
        "\n",
        "Dikarenakan setelah melakukan uji nilai skewness dan menampilkan grafik distribusi pada site `ORGANICS BY GOSH`, dengan `distribusi normal` maka cara handling outlier menggunakan `Z-Score`"
      ],
      "metadata": {
        "id": "8_AFH75_2hSC"
      }
    },
    {
      "cell_type": "markdown",
      "source": [
        "**2. Apa konsep dibalik confidence interval sehingga kita dapat menggunakannya untuk menyelesaikan langkah pada nomor 7?**\n",
        "\n",
        "---\n",
        "\n",
        "Konsep `confidence interval` yakni mengetahui interval keyakinan berapa kapasitas yang mampu diterima oleh site baru, hasil dari `confidence interval` ini akan menunjukan batas bawah dan batas atas dari kapasitas yang nantinya mampu diterima oleh site baru"
      ],
      "metadata": {
        "id": "pCwtmHVB3N56"
      }
    },
    {
      "cell_type": "markdown",
      "source": [
        "**3. Jelaskan jenis uji hipotesis apa yang kamu terapkan dan mengapa?**\n",
        "\n",
        "---\n",
        "\n",
        "Jenis uji hipotesis yang saya lakukan yaitu menggunakan `one sample two tailed` karena saya hanya menggunakan 1 sample yakni site `ORGANICS BY GOSH`. Selain itu, saya menggunakan kondisi `two tailed` karena data yang saya miliki hanya 1 yakni nilai `mean` per hari, sehingga kondisi : \n",
        "\n",
        "H0 == `mean`\n",
        "\n",
        "H1 != `mean`\n",
        "\n",
        "Hasil uji hipotesis jika berhasil tolak H0, maka nilai nya dapat `lebih besar dari` atau `lebih kecil dari`"
      ],
      "metadata": {
        "id": "V8JOsyj23szp"
      }
    },
    {
      "cell_type": "markdown",
      "source": [
        "# **Problem 2 : Forecasting**"
      ],
      "metadata": {
        "id": "wKs0lcN4nrqW"
      }
    },
    {
      "cell_type": "markdown",
      "source": [
        "Pemerintah kota Austin Smart City inngin tahu berapa banyak load sampah dalam kg pada hari 10 Juli 2021. Lakukan lah prediksi menggunakan data `load_weight` dan perhitungan kalkulus"
      ],
      "metadata": {
        "id": "PaAE-vQBiBcs"
      }
    },
    {
      "cell_type": "code",
      "source": [
        "# groupby data_limbah berdasarkan kolom report_date\n",
        "data_limbah_today = data_limbah.groupby(['report_date'])['load_weight'].mean()\n",
        "data_limbah_today.sort_index(ascending=True)"
      ],
      "metadata": {
        "colab": {
          "base_uri": "https://localhost:8080/"
        },
        "id": "QFPCSL7n7vTm",
        "outputId": "7bf69b33-190a-424f-9c9a-dd664980d6c7"
      },
      "execution_count": null,
      "outputs": [
        {
          "output_type": "execute_result",
          "data": {
            "text/plain": [
              "report_date\n",
              "2021-01-01    11300.000000\n",
              "2021-01-02    13775.187500\n",
              "2021-01-04    13840.094787\n",
              "2021-01-05    12697.566138\n",
              "2021-01-06    13259.729730\n",
              "                  ...     \n",
              "2021-07-05    13267.762238\n",
              "2021-07-06    11984.578313\n",
              "2021-07-07    11180.945946\n",
              "2021-07-08    12536.178862\n",
              "2021-07-09     6801.538462\n",
              "Name: load_weight, Length: 166, dtype: float64"
            ]
          },
          "metadata": {},
          "execution_count": 83
        }
      ]
    },
    {
      "cell_type": "code",
      "source": [
        "# Membuat index baru menggunakan syntax reset_index\n",
        "data_baru = data_limbah_today.sort_index(ascending=True).reset_index()\n",
        "data_baru"
      ],
      "metadata": {
        "colab": {
          "base_uri": "https://localhost:8080/",
          "height": 423
        },
        "id": "7p0g7jODJ4cg",
        "outputId": "7726e64e-47bc-4309-b744-f510c5b55b4d"
      },
      "execution_count": null,
      "outputs": [
        {
          "output_type": "execute_result",
          "data": {
            "text/plain": [
              "    report_date   load_weight\n",
              "0    2021-01-01  11300.000000\n",
              "1    2021-01-02  13775.187500\n",
              "2    2021-01-04  13840.094787\n",
              "3    2021-01-05  12697.566138\n",
              "4    2021-01-06  13259.729730\n",
              "..          ...           ...\n",
              "161  2021-07-05  13267.762238\n",
              "162  2021-07-06  11984.578313\n",
              "163  2021-07-07  11180.945946\n",
              "164  2021-07-08  12536.178862\n",
              "165  2021-07-09   6801.538462\n",
              "\n",
              "[166 rows x 2 columns]"
            ],
            "text/html": [
              "\n",
              "  <div id=\"df-09dfb0f1-74b1-4951-948a-475b382a0c6b\">\n",
              "    <div class=\"colab-df-container\">\n",
              "      <div>\n",
              "<style scoped>\n",
              "    .dataframe tbody tr th:only-of-type {\n",
              "        vertical-align: middle;\n",
              "    }\n",
              "\n",
              "    .dataframe tbody tr th {\n",
              "        vertical-align: top;\n",
              "    }\n",
              "\n",
              "    .dataframe thead th {\n",
              "        text-align: right;\n",
              "    }\n",
              "</style>\n",
              "<table border=\"1\" class=\"dataframe\">\n",
              "  <thead>\n",
              "    <tr style=\"text-align: right;\">\n",
              "      <th></th>\n",
              "      <th>report_date</th>\n",
              "      <th>load_weight</th>\n",
              "    </tr>\n",
              "  </thead>\n",
              "  <tbody>\n",
              "    <tr>\n",
              "      <th>0</th>\n",
              "      <td>2021-01-01</td>\n",
              "      <td>11300.000000</td>\n",
              "    </tr>\n",
              "    <tr>\n",
              "      <th>1</th>\n",
              "      <td>2021-01-02</td>\n",
              "      <td>13775.187500</td>\n",
              "    </tr>\n",
              "    <tr>\n",
              "      <th>2</th>\n",
              "      <td>2021-01-04</td>\n",
              "      <td>13840.094787</td>\n",
              "    </tr>\n",
              "    <tr>\n",
              "      <th>3</th>\n",
              "      <td>2021-01-05</td>\n",
              "      <td>12697.566138</td>\n",
              "    </tr>\n",
              "    <tr>\n",
              "      <th>4</th>\n",
              "      <td>2021-01-06</td>\n",
              "      <td>13259.729730</td>\n",
              "    </tr>\n",
              "    <tr>\n",
              "      <th>...</th>\n",
              "      <td>...</td>\n",
              "      <td>...</td>\n",
              "    </tr>\n",
              "    <tr>\n",
              "      <th>161</th>\n",
              "      <td>2021-07-05</td>\n",
              "      <td>13267.762238</td>\n",
              "    </tr>\n",
              "    <tr>\n",
              "      <th>162</th>\n",
              "      <td>2021-07-06</td>\n",
              "      <td>11984.578313</td>\n",
              "    </tr>\n",
              "    <tr>\n",
              "      <th>163</th>\n",
              "      <td>2021-07-07</td>\n",
              "      <td>11180.945946</td>\n",
              "    </tr>\n",
              "    <tr>\n",
              "      <th>164</th>\n",
              "      <td>2021-07-08</td>\n",
              "      <td>12536.178862</td>\n",
              "    </tr>\n",
              "    <tr>\n",
              "      <th>165</th>\n",
              "      <td>2021-07-09</td>\n",
              "      <td>6801.538462</td>\n",
              "    </tr>\n",
              "  </tbody>\n",
              "</table>\n",
              "<p>166 rows × 2 columns</p>\n",
              "</div>\n",
              "      <button class=\"colab-df-convert\" onclick=\"convertToInteractive('df-09dfb0f1-74b1-4951-948a-475b382a0c6b')\"\n",
              "              title=\"Convert this dataframe to an interactive table.\"\n",
              "              style=\"display:none;\">\n",
              "        \n",
              "  <svg xmlns=\"http://www.w3.org/2000/svg\" height=\"24px\"viewBox=\"0 0 24 24\"\n",
              "       width=\"24px\">\n",
              "    <path d=\"M0 0h24v24H0V0z\" fill=\"none\"/>\n",
              "    <path d=\"M18.56 5.44l.94 2.06.94-2.06 2.06-.94-2.06-.94-.94-2.06-.94 2.06-2.06.94zm-11 1L8.5 8.5l.94-2.06 2.06-.94-2.06-.94L8.5 2.5l-.94 2.06-2.06.94zm10 10l.94 2.06.94-2.06 2.06-.94-2.06-.94-.94-2.06-.94 2.06-2.06.94z\"/><path d=\"M17.41 7.96l-1.37-1.37c-.4-.4-.92-.59-1.43-.59-.52 0-1.04.2-1.43.59L10.3 9.45l-7.72 7.72c-.78.78-.78 2.05 0 2.83L4 21.41c.39.39.9.59 1.41.59.51 0 1.02-.2 1.41-.59l7.78-7.78 2.81-2.81c.8-.78.8-2.07 0-2.86zM5.41 20L4 18.59l7.72-7.72 1.47 1.35L5.41 20z\"/>\n",
              "  </svg>\n",
              "      </button>\n",
              "      \n",
              "  <style>\n",
              "    .colab-df-container {\n",
              "      display:flex;\n",
              "      flex-wrap:wrap;\n",
              "      gap: 12px;\n",
              "    }\n",
              "\n",
              "    .colab-df-convert {\n",
              "      background-color: #E8F0FE;\n",
              "      border: none;\n",
              "      border-radius: 50%;\n",
              "      cursor: pointer;\n",
              "      display: none;\n",
              "      fill: #1967D2;\n",
              "      height: 32px;\n",
              "      padding: 0 0 0 0;\n",
              "      width: 32px;\n",
              "    }\n",
              "\n",
              "    .colab-df-convert:hover {\n",
              "      background-color: #E2EBFA;\n",
              "      box-shadow: 0px 1px 2px rgba(60, 64, 67, 0.3), 0px 1px 3px 1px rgba(60, 64, 67, 0.15);\n",
              "      fill: #174EA6;\n",
              "    }\n",
              "\n",
              "    [theme=dark] .colab-df-convert {\n",
              "      background-color: #3B4455;\n",
              "      fill: #D2E3FC;\n",
              "    }\n",
              "\n",
              "    [theme=dark] .colab-df-convert:hover {\n",
              "      background-color: #434B5C;\n",
              "      box-shadow: 0px 1px 3px 1px rgba(0, 0, 0, 0.15);\n",
              "      filter: drop-shadow(0px 1px 2px rgba(0, 0, 0, 0.3));\n",
              "      fill: #FFFFFF;\n",
              "    }\n",
              "  </style>\n",
              "\n",
              "      <script>\n",
              "        const buttonEl =\n",
              "          document.querySelector('#df-09dfb0f1-74b1-4951-948a-475b382a0c6b button.colab-df-convert');\n",
              "        buttonEl.style.display =\n",
              "          google.colab.kernel.accessAllowed ? 'block' : 'none';\n",
              "\n",
              "        async function convertToInteractive(key) {\n",
              "          const element = document.querySelector('#df-09dfb0f1-74b1-4951-948a-475b382a0c6b');\n",
              "          const dataTable =\n",
              "            await google.colab.kernel.invokeFunction('convertToInteractive',\n",
              "                                                     [key], {});\n",
              "          if (!dataTable) return;\n",
              "\n",
              "          const docLinkHtml = 'Like what you see? Visit the ' +\n",
              "            '<a target=\"_blank\" href=https://colab.research.google.com/notebooks/data_table.ipynb>data table notebook</a>'\n",
              "            + ' to learn more about interactive tables.';\n",
              "          element.innerHTML = '';\n",
              "          dataTable['output_type'] = 'display_data';\n",
              "          await google.colab.output.renderOutput(dataTable, element);\n",
              "          const docLink = document.createElement('div');\n",
              "          docLink.innerHTML = docLinkHtml;\n",
              "          element.appendChild(docLink);\n",
              "        }\n",
              "      </script>\n",
              "    </div>\n",
              "  </div>\n",
              "  "
            ]
          },
          "metadata": {},
          "execution_count": 84
        }
      ]
    },
    {
      "cell_type": "code",
      "source": [
        "# Menambah kolom baru sumbu_x untuk dijadikan sumbu x berupa nilai index\n",
        "data_baru['sumbu_x'] = data_baru.index\n",
        "data_baru"
      ],
      "metadata": {
        "colab": {
          "base_uri": "https://localhost:8080/",
          "height": 423
        },
        "id": "kKQWH9ngSl6u",
        "outputId": "ae437105-ef50-4de1-a0c9-171e286060b1"
      },
      "execution_count": null,
      "outputs": [
        {
          "output_type": "execute_result",
          "data": {
            "text/plain": [
              "    report_date   load_weight  sumbu_x\n",
              "0    2021-01-01  11300.000000        0\n",
              "1    2021-01-02  13775.187500        1\n",
              "2    2021-01-04  13840.094787        2\n",
              "3    2021-01-05  12697.566138        3\n",
              "4    2021-01-06  13259.729730        4\n",
              "..          ...           ...      ...\n",
              "161  2021-07-05  13267.762238      161\n",
              "162  2021-07-06  11984.578313      162\n",
              "163  2021-07-07  11180.945946      163\n",
              "164  2021-07-08  12536.178862      164\n",
              "165  2021-07-09   6801.538462      165\n",
              "\n",
              "[166 rows x 3 columns]"
            ],
            "text/html": [
              "\n",
              "  <div id=\"df-9f0f9007-3b69-437b-aa76-c52548f1eaea\">\n",
              "    <div class=\"colab-df-container\">\n",
              "      <div>\n",
              "<style scoped>\n",
              "    .dataframe tbody tr th:only-of-type {\n",
              "        vertical-align: middle;\n",
              "    }\n",
              "\n",
              "    .dataframe tbody tr th {\n",
              "        vertical-align: top;\n",
              "    }\n",
              "\n",
              "    .dataframe thead th {\n",
              "        text-align: right;\n",
              "    }\n",
              "</style>\n",
              "<table border=\"1\" class=\"dataframe\">\n",
              "  <thead>\n",
              "    <tr style=\"text-align: right;\">\n",
              "      <th></th>\n",
              "      <th>report_date</th>\n",
              "      <th>load_weight</th>\n",
              "      <th>sumbu_x</th>\n",
              "    </tr>\n",
              "  </thead>\n",
              "  <tbody>\n",
              "    <tr>\n",
              "      <th>0</th>\n",
              "      <td>2021-01-01</td>\n",
              "      <td>11300.000000</td>\n",
              "      <td>0</td>\n",
              "    </tr>\n",
              "    <tr>\n",
              "      <th>1</th>\n",
              "      <td>2021-01-02</td>\n",
              "      <td>13775.187500</td>\n",
              "      <td>1</td>\n",
              "    </tr>\n",
              "    <tr>\n",
              "      <th>2</th>\n",
              "      <td>2021-01-04</td>\n",
              "      <td>13840.094787</td>\n",
              "      <td>2</td>\n",
              "    </tr>\n",
              "    <tr>\n",
              "      <th>3</th>\n",
              "      <td>2021-01-05</td>\n",
              "      <td>12697.566138</td>\n",
              "      <td>3</td>\n",
              "    </tr>\n",
              "    <tr>\n",
              "      <th>4</th>\n",
              "      <td>2021-01-06</td>\n",
              "      <td>13259.729730</td>\n",
              "      <td>4</td>\n",
              "    </tr>\n",
              "    <tr>\n",
              "      <th>...</th>\n",
              "      <td>...</td>\n",
              "      <td>...</td>\n",
              "      <td>...</td>\n",
              "    </tr>\n",
              "    <tr>\n",
              "      <th>161</th>\n",
              "      <td>2021-07-05</td>\n",
              "      <td>13267.762238</td>\n",
              "      <td>161</td>\n",
              "    </tr>\n",
              "    <tr>\n",
              "      <th>162</th>\n",
              "      <td>2021-07-06</td>\n",
              "      <td>11984.578313</td>\n",
              "      <td>162</td>\n",
              "    </tr>\n",
              "    <tr>\n",
              "      <th>163</th>\n",
              "      <td>2021-07-07</td>\n",
              "      <td>11180.945946</td>\n",
              "      <td>163</td>\n",
              "    </tr>\n",
              "    <tr>\n",
              "      <th>164</th>\n",
              "      <td>2021-07-08</td>\n",
              "      <td>12536.178862</td>\n",
              "      <td>164</td>\n",
              "    </tr>\n",
              "    <tr>\n",
              "      <th>165</th>\n",
              "      <td>2021-07-09</td>\n",
              "      <td>6801.538462</td>\n",
              "      <td>165</td>\n",
              "    </tr>\n",
              "  </tbody>\n",
              "</table>\n",
              "<p>166 rows × 3 columns</p>\n",
              "</div>\n",
              "      <button class=\"colab-df-convert\" onclick=\"convertToInteractive('df-9f0f9007-3b69-437b-aa76-c52548f1eaea')\"\n",
              "              title=\"Convert this dataframe to an interactive table.\"\n",
              "              style=\"display:none;\">\n",
              "        \n",
              "  <svg xmlns=\"http://www.w3.org/2000/svg\" height=\"24px\"viewBox=\"0 0 24 24\"\n",
              "       width=\"24px\">\n",
              "    <path d=\"M0 0h24v24H0V0z\" fill=\"none\"/>\n",
              "    <path d=\"M18.56 5.44l.94 2.06.94-2.06 2.06-.94-2.06-.94-.94-2.06-.94 2.06-2.06.94zm-11 1L8.5 8.5l.94-2.06 2.06-.94-2.06-.94L8.5 2.5l-.94 2.06-2.06.94zm10 10l.94 2.06.94-2.06 2.06-.94-2.06-.94-.94-2.06-.94 2.06-2.06.94z\"/><path d=\"M17.41 7.96l-1.37-1.37c-.4-.4-.92-.59-1.43-.59-.52 0-1.04.2-1.43.59L10.3 9.45l-7.72 7.72c-.78.78-.78 2.05 0 2.83L4 21.41c.39.39.9.59 1.41.59.51 0 1.02-.2 1.41-.59l7.78-7.78 2.81-2.81c.8-.78.8-2.07 0-2.86zM5.41 20L4 18.59l7.72-7.72 1.47 1.35L5.41 20z\"/>\n",
              "  </svg>\n",
              "      </button>\n",
              "      \n",
              "  <style>\n",
              "    .colab-df-container {\n",
              "      display:flex;\n",
              "      flex-wrap:wrap;\n",
              "      gap: 12px;\n",
              "    }\n",
              "\n",
              "    .colab-df-convert {\n",
              "      background-color: #E8F0FE;\n",
              "      border: none;\n",
              "      border-radius: 50%;\n",
              "      cursor: pointer;\n",
              "      display: none;\n",
              "      fill: #1967D2;\n",
              "      height: 32px;\n",
              "      padding: 0 0 0 0;\n",
              "      width: 32px;\n",
              "    }\n",
              "\n",
              "    .colab-df-convert:hover {\n",
              "      background-color: #E2EBFA;\n",
              "      box-shadow: 0px 1px 2px rgba(60, 64, 67, 0.3), 0px 1px 3px 1px rgba(60, 64, 67, 0.15);\n",
              "      fill: #174EA6;\n",
              "    }\n",
              "\n",
              "    [theme=dark] .colab-df-convert {\n",
              "      background-color: #3B4455;\n",
              "      fill: #D2E3FC;\n",
              "    }\n",
              "\n",
              "    [theme=dark] .colab-df-convert:hover {\n",
              "      background-color: #434B5C;\n",
              "      box-shadow: 0px 1px 3px 1px rgba(0, 0, 0, 0.15);\n",
              "      filter: drop-shadow(0px 1px 2px rgba(0, 0, 0, 0.3));\n",
              "      fill: #FFFFFF;\n",
              "    }\n",
              "  </style>\n",
              "\n",
              "      <script>\n",
              "        const buttonEl =\n",
              "          document.querySelector('#df-9f0f9007-3b69-437b-aa76-c52548f1eaea button.colab-df-convert');\n",
              "        buttonEl.style.display =\n",
              "          google.colab.kernel.accessAllowed ? 'block' : 'none';\n",
              "\n",
              "        async function convertToInteractive(key) {\n",
              "          const element = document.querySelector('#df-9f0f9007-3b69-437b-aa76-c52548f1eaea');\n",
              "          const dataTable =\n",
              "            await google.colab.kernel.invokeFunction('convertToInteractive',\n",
              "                                                     [key], {});\n",
              "          if (!dataTable) return;\n",
              "\n",
              "          const docLinkHtml = 'Like what you see? Visit the ' +\n",
              "            '<a target=\"_blank\" href=https://colab.research.google.com/notebooks/data_table.ipynb>data table notebook</a>'\n",
              "            + ' to learn more about interactive tables.';\n",
              "          element.innerHTML = '';\n",
              "          dataTable['output_type'] = 'display_data';\n",
              "          await google.colab.output.renderOutput(dataTable, element);\n",
              "          const docLink = document.createElement('div');\n",
              "          docLink.innerHTML = docLinkHtml;\n",
              "          element.appendChild(docLink);\n",
              "        }\n",
              "      </script>\n",
              "    </div>\n",
              "  </div>\n",
              "  "
            ]
          },
          "metadata": {},
          "execution_count": 85
        }
      ]
    },
    {
      "cell_type": "markdown",
      "source": [
        "Menghitung nilai turunan menggunakan kalkulus"
      ],
      "metadata": {
        "id": "VOAbcURNiWDI"
      }
    },
    {
      "cell_type": "code",
      "source": [
        "# Menjadikan kolom sumbu_x sebagai (x) dan kolom load_weight sebagai (y)\n",
        "x = data_baru['sumbu_x']\n",
        "y = data_baru['load_weight']"
      ],
      "metadata": {
        "id": "SRrS3hblKLov"
      },
      "execution_count": null,
      "outputs": []
    },
    {
      "cell_type": "code",
      "source": [
        "# Menurunkan nilai x dan y\n",
        "dy_dx = np.gradient(y,x)\n",
        "dy_dx"
      ],
      "metadata": {
        "colab": {
          "base_uri": "https://localhost:8080/"
        },
        "id": "E8Yz4Q-haDhc",
        "outputId": "d27b91c6-0ab7-4fab-a38a-d49b4ce22e0a"
      },
      "execution_count": null,
      "outputs": [
        {
          "output_type": "execute_result",
          "data": {
            "text/plain": [
              "array([ 2.47518750e+03,  1.27004739e+03, -5.38810681e+02, -2.90182529e+02,\n",
              "        3.11084656e+02, -5.76858536e+02, -2.78236772e+03,  4.10679238e+02,\n",
              "        1.97985955e+03, -9.28427835e+02, -4.57207746e-02,  7.79830088e+01,\n",
              "       -2.05064716e+03,  6.66683502e+02,  2.47355191e+03, -6.18406829e+02,\n",
              "       -3.94008902e+02,  3.66533188e+01, -1.81335253e+03,  3.52418891e+02,\n",
              "        1.43146223e+03, -4.36201868e+02,  4.82528454e+02,  2.40742964e+02,\n",
              "       -1.45284783e+03,  4.28920563e+02,  1.30443575e+03, -5.93883684e+02,\n",
              "        1.77709497e+02,  1.27172146e+02, -1.80471668e+03,  1.27266026e+03,\n",
              "        2.20090316e+03, -1.07338624e+03, -8.61392764e+02,  1.26484835e+02,\n",
              "        2.24151942e+02, -4.08809859e+03,  2.96845748e+03,  5.43536000e+03,\n",
              "       -1.99192339e+03, -9.07928093e+02, -5.49819946e+02, -1.00954302e+03,\n",
              "       -2.61058554e+03, -2.39913889e+03,  3.05761866e+03,  3.12391234e+03,\n",
              "       -6.20754841e+02, -2.30800413e+02,  1.19585749e+02, -2.37027656e+03,\n",
              "       -2.59959216e+03,  2.39156482e+03,  2.75309495e+03, -2.85357214e+02,\n",
              "       -2.28776042e+02,  4.61457031e+02, -5.32395833e+02,  1.74498077e+03,\n",
              "        5.75100402e+02, -1.75126781e+03, -1.24579075e+02, -3.40095990e+02,\n",
              "       -3.35521327e+02, -2.56907909e+03,  1.68326087e+03,  2.40634802e+03,\n",
              "       -1.37790186e+03,  1.65208926e+02,  5.83450518e+02, -1.17335119e+02,\n",
              "       -2.06948599e+03,  8.42779765e+02,  1.55910389e+03, -3.13221906e+02,\n",
              "       -4.22501493e+02, -6.98844624e+02,  2.79714318e+02, -1.46622294e+03,\n",
              "        5.37654554e+02,  2.05857143e+03, -4.56773059e+02, -1.91764550e+02,\n",
              "       -1.89305830e+02, -2.56521597e+03,  8.15808481e+02,  2.42143311e+03,\n",
              "       -8.31846612e+02,  1.08335206e+02, -1.50339940e+02, -2.01100208e+03,\n",
              "       -4.40583784e+03,  1.99676675e+03,  4.66218905e+03, -1.78325817e+02,\n",
              "       -1.95122870e+01,  7.06531426e+01, -1.17073232e+03,  2.55908004e+02,\n",
              "        1.66665771e+03, -9.87529431e+01,  3.44019801e+02,  7.27090064e+01,\n",
              "       -2.95690767e+03,  6.11612548e+02,  2.28751323e+03, -3.07713549e+02,\n",
              "        5.57058201e+02, -3.99273608e+02, -2.57613937e+03,  8.19611954e+02,\n",
              "        2.36859302e+03, -1.07609936e+03, -2.69919390e+01,  2.23500998e+01,\n",
              "       -3.62260457e+03,  8.45643489e+02,  3.81746154e+03, -1.97325238e+02,\n",
              "       -1.93391752e+02, -6.43152872e+02, -3.00610153e+03,  4.18700521e+02,\n",
              "        2.83288345e+03, -3.27041867e+02,  7.30919228e+02, -4.65159389e+01,\n",
              "       -4.12491379e+03, -4.80761146e+03,  4.49086592e+03,  5.92954023e+03,\n",
              "       -3.78338748e+02,  6.94399164e+02, -2.93277174e+02, -3.23022511e+03,\n",
              "        8.74781414e+02,  2.26230176e+03, -1.40523166e+03, -6.36869701e+02,\n",
              "        5.29115909e+00, -2.73590310e+03,  8.00909091e+02,  2.87620120e+03,\n",
              "       -9.29041451e+02, -5.28483853e+02, -5.16899726e+02, -1.91331353e+03,\n",
              "        1.51044379e+03,  2.10056150e+03, -1.07316241e+03, -3.06483556e+02,\n",
              "       -7.65162625e+01, -2.18627045e+03,  6.43982026e+02,  2.66116395e+03,\n",
              "       -7.24135640e+02,  3.74803401e+01, -1.33644689e+02, -2.10067027e+03,\n",
              "        1.05785548e+03,  2.04886059e+03, -1.04340815e+03,  2.75800274e+02,\n",
              "       -2.18970374e+03, -5.73464040e+03])"
            ]
          },
          "metadata": {},
          "execution_count": 87
        }
      ]
    },
    {
      "cell_type": "markdown",
      "source": [
        "**Rumus mencari v :**\n",
        "\n",
        "![image.png](data:image/png;base64,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)\n",
        "\n",
        "Atau\n",
        "\n",
        "v merupakan turunan pertama baris terakhir dari fungsi dy_dx"
      ],
      "metadata": {
        "id": "tRxyM4OuN3_H"
      }
    },
    {
      "cell_type": "code",
      "source": [
        "# Menampilkan nilai v dari hasil turunan data pada tanggal 09 Juli 2021\n",
        "v = dy_dx[-1]\n",
        "v"
      ],
      "metadata": {
        "colab": {
          "base_uri": "https://localhost:8080/"
        },
        "id": "PYDDT8xVaSuA",
        "outputId": "0b12a7b4-4d3a-4b52-ba45-1f76c13c364a"
      },
      "execution_count": null,
      "outputs": [
        {
          "output_type": "execute_result",
          "data": {
            "text/plain": [
              "-5734.640400250156"
            ]
          },
          "metadata": {},
          "execution_count": 88
        }
      ]
    },
    {
      "cell_type": "markdown",
      "source": [
        "**Rumus Forecasting :**\n",
        "\n",
        "\n",
        "![image.png](data:image/png;base64,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)"
      ],
      "metadata": {
        "id": "D1a8UYTagyDX"
      }
    },
    {
      "cell_type": "code",
      "source": [
        "# Mencari nilai forcasting menggunakan rumus\n",
        "w_forecast = y.iloc[-1] + v * 1"
      ],
      "metadata": {
        "id": "JqcqDFuMaWwi"
      },
      "execution_count": null,
      "outputs": []
    },
    {
      "cell_type": "code",
      "source": [
        "print('Berat forecasting untuk tanggal 10 Juli 2021 yaitu :', w_forecast, 'kg')"
      ],
      "metadata": {
        "colab": {
          "base_uri": "https://localhost:8080/"
        },
        "id": "g4KqKE4aatb9",
        "outputId": "a7211e6e-21df-48af-eb40-79d8974cef77"
      },
      "execution_count": null,
      "outputs": [
        {
          "output_type": "stream",
          "name": "stdout",
          "text": [
            "Berat forecasting untuk tanggal 10 Juli 2021 yaitu : 1066.898061288306 kg\n"
          ]
        }
      ]
    },
    {
      "cell_type": "markdown",
      "source": [
        "Dari data diatas, dapat diketahui bahwa rata-rata jumlah sampah yang bisa diangkut pada tanggal 10 Juli 2021 yaitu `1066.7` kg yakni lebih kecil dari data rata-rata pada tanggal 09 Juli 2021"
      ],
      "metadata": {
        "id": "kGouXyrhieMG"
      }
    },
    {
      "cell_type": "markdown",
      "source": [
        "## **I. Jawaban Pertanyaan**"
      ],
      "metadata": {
        "id": "wsPQKcJDjSD1"
      }
    },
    {
      "cell_type": "markdown",
      "source": [
        "**1. Untuk menghitung turunan pertama dapat digunakan metode simbolik dan numerik, untuk kasus ini, teknik apa yang kamu gunakan?**\n",
        "\n",
        "---\n",
        "Teknik yang saya gunakan yaitu teknik `numeric`"
      ],
      "metadata": {
        "id": "Okpxm1NtjaLL"
      }
    },
    {
      "cell_type": "markdown",
      "source": [
        "**2. Apakah kamu membutuhkan fungsi matematis untuk menghitung turunannya? (ya/tidak) berikan alasanmu!**\n",
        "\n",
        "---\n",
        "\n",
        "Menurut saya, saya membutuhkan fungsi matematis untuk menghitung turunanya. Hal ini dikarenakan, dengan adanya fungsi matematis, batasan turunan dapat dilakukan dengan baik"
      ],
      "metadata": {
        "id": "DIVrPRTbj6Wi"
      }
    },
    {
      "cell_type": "markdown",
      "source": [
        "**3. Berapa load weight yang kamu perkirakan di hari esok (10 Juli 2021)?**\n",
        "\n",
        "---\n",
        "\n",
        "Load weight yang saya perkirakan untuk tanggal 10 Juli 2021 yakni rata-rata 1066.7 kg"
      ],
      "metadata": {
        "id": "Ruk53hD-kYrm"
      }
    },
    {
      "cell_type": "markdown",
      "source": [
        "# **Poin Analisis / Kesimpulan :**"
      ],
      "metadata": {
        "id": "8_9CXvuaLZFT"
      }
    },
    {
      "cell_type": "markdown",
      "source": [
        "1. Diketahui bahwa berdasarkan `confidence interval` sebesar 95% pada site baru nanti akan dapat menampung rata-rata limbah sebanyak `11664-11924` kg per hari nya\n",
        "\n",
        "2. Diketahui bahwa berdasarkan `uji hipotesis` pembuatan site baru nanti memiliki kapasitas penampungan per harinya sekitar `11398` kg\n",
        "\n",
        "3. Diketahui bahwa pada tanggal `10 Juli 2021` rata-rata berat limbah yang dapat diangkut hanya mencapai `1066.7` kg"
      ],
      "metadata": {
        "id": "vB3aadwcLemY"
      }
    }
  ]
}